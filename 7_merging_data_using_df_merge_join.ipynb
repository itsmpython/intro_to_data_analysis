{
  "metadata": {
    "kernelspec": {
      "display_name": "Python 3",
      "language": "python",
      "name": "python3"
    },
    "language_info": {
      "name": "python",
      "version": "3.6.6",
      "mimetype": "text/x-python",
      "codemirror_mode": {
        "name": "ipython",
        "version": 3
      },
      "pygments_lexer": "ipython3",
      "nbconvert_exporter": "python",
      "file_extension": ".py"
    },
    "kaggle": {
      "accelerator": "none",
      "dataSources": [],
      "dockerImageVersionId": 24140,
      "isInternetEnabled": false,
      "language": "python",
      "sourceType": "notebook",
      "isGpuEnabled": false
    },
    "colab": {
      "provenance": []
    }
  },
  "nbformat_minor": 0,
  "nbformat": 4,
  "cells": [
    {
      "cell_type": "markdown",
      "source": [
        "Data you use for your projects won't always be confined to a single table in a CSV or excel file. Data is often split across several tables that you need to combine in some way. DataFrames can be joined together if they have columns in common. Joining tables in various ways is a common operation when working with databases but you can also join data frames in Python using functions included with pandas.\n",
        "\n",
        "First, let's import some libraries and create some dummy medical data tables to use as examples for this lesson."
      ],
      "metadata": {
        "id": "OmuaX4JYVrNI"
      }
    },
    {
      "cell_type": "code",
      "source": [
        "import numpy as np\n",
        "import pandas as pd\n",
        "import os"
      ],
      "metadata": {
        "execution": {
          "iopub.status.busy": "2024-08-23T13:36:55.673499Z",
          "iopub.execute_input": "2024-08-23T13:36:55.673818Z",
          "iopub.status.idle": "2024-08-23T13:36:55.680344Z",
          "shell.execute_reply.started": "2024-08-23T13:36:55.673767Z",
          "shell.execute_reply": "2024-08-23T13:36:55.679095Z"
        },
        "trusted": true,
        "id": "TTn-ngjmVrNJ"
      },
      "execution_count": null,
      "outputs": []
    },
    {
      "cell_type": "code",
      "source": [
        "table1 = pd.DataFrame({\"P_ID\" : (1,2,3,4,5,6,7,8),\n",
        "                     \"gender\" : (\"male\", \"male\", \"female\",\"female\",\n",
        "                                \"female\", \"male\", \"female\", \"male\"),\n",
        "                     \"height\" : (71,73,64,64,66,69,62,72),\n",
        "                     \"weight\" : (175,225,130,125,165,160,115,250)})\n",
        "\n",
        "table1"
      ],
      "metadata": {
        "execution": {
          "iopub.status.busy": "2024-08-23T13:37:18.281077Z",
          "iopub.execute_input": "2024-08-23T13:37:18.281382Z",
          "iopub.status.idle": "2024-08-23T13:37:18.328206Z",
          "shell.execute_reply.started": "2024-08-23T13:37:18.281336Z",
          "shell.execute_reply": "2024-08-23T13:37:18.327249Z"
        },
        "trusted": true,
        "id": "id4XLjl_VrNK",
        "outputId": "f6811678-7e20-4bc4-a078-d9d2001239b3"
      },
      "execution_count": null,
      "outputs": [
        {
          "execution_count": 3,
          "output_type": "execute_result",
          "data": {
            "text/plain": "   P_ID  gender  height  weight\n0     1    male      71     175\n1     2    male      73     225\n2     3  female      64     130\n3     4  female      64     125\n4     5  female      66     165\n5     6    male      69     160\n6     7  female      62     115\n7     8    male      72     250",
            "text/html": "<div>\n<style scoped>\n    .dataframe tbody tr th:only-of-type {\n        vertical-align: middle;\n    }\n\n    .dataframe tbody tr th {\n        vertical-align: top;\n    }\n\n    .dataframe thead th {\n        text-align: right;\n    }\n</style>\n<table border=\"1\" class=\"dataframe\">\n  <thead>\n    <tr style=\"text-align: right;\">\n      <th></th>\n      <th>P_ID</th>\n      <th>gender</th>\n      <th>height</th>\n      <th>weight</th>\n    </tr>\n  </thead>\n  <tbody>\n    <tr>\n      <th>0</th>\n      <td>1</td>\n      <td>male</td>\n      <td>71</td>\n      <td>175</td>\n    </tr>\n    <tr>\n      <th>1</th>\n      <td>2</td>\n      <td>male</td>\n      <td>73</td>\n      <td>225</td>\n    </tr>\n    <tr>\n      <th>2</th>\n      <td>3</td>\n      <td>female</td>\n      <td>64</td>\n      <td>130</td>\n    </tr>\n    <tr>\n      <th>3</th>\n      <td>4</td>\n      <td>female</td>\n      <td>64</td>\n      <td>125</td>\n    </tr>\n    <tr>\n      <th>4</th>\n      <td>5</td>\n      <td>female</td>\n      <td>66</td>\n      <td>165</td>\n    </tr>\n    <tr>\n      <th>5</th>\n      <td>6</td>\n      <td>male</td>\n      <td>69</td>\n      <td>160</td>\n    </tr>\n    <tr>\n      <th>6</th>\n      <td>7</td>\n      <td>female</td>\n      <td>62</td>\n      <td>115</td>\n    </tr>\n    <tr>\n      <th>7</th>\n      <td>8</td>\n      <td>male</td>\n      <td>72</td>\n      <td>250</td>\n    </tr>\n  </tbody>\n</table>\n</div>"
          },
          "metadata": {}
        }
      ]
    },
    {
      "cell_type": "code",
      "source": [
        "table2 = pd.DataFrame({\"P_ID\" : (1, 2, 4, 5, 7, 8, 9, 10),\n",
        "                     \"sex\" : (\"male\", \"male\", \"female\",\"female\",\n",
        "                            \"female\", \"male\", \"male\", \"female\"),\n",
        "                     \"visits\" : (1,2,4,12,2,2,1,1),\n",
        "                     \"checkup\" : (1,1,1,1,1,1,0,0),\n",
        "                     \"follow_up\" : (0,0,1,2,0,0,0,0),\n",
        "                     \"illness\" : (0,0,2,7,1,1,0,0),\n",
        "                     \"surgery\" : (0,0,0,2,0,0,0,0),\n",
        "                     \"ER\" : ( 0,1,0,0,0,0,1,1) } )\n",
        "\n",
        "table2"
      ],
      "metadata": {
        "execution": {
          "iopub.status.busy": "2024-08-23T13:37:48.474829Z",
          "iopub.execute_input": "2024-08-23T13:37:48.475199Z",
          "iopub.status.idle": "2024-08-23T13:37:48.504402Z",
          "shell.execute_reply.started": "2024-08-23T13:37:48.475137Z",
          "shell.execute_reply": "2024-08-23T13:37:48.503079Z"
        },
        "trusted": true,
        "id": "5McM_CxZVrNL",
        "outputId": "e617e0f0-0e81-4a52-c21d-0f1898d3bd14"
      },
      "execution_count": null,
      "outputs": [
        {
          "execution_count": 4,
          "output_type": "execute_result",
          "data": {
            "text/plain": "   P_ID     sex  visits  checkup  follow_up  illness  surgery  ER\n0     1    male       1        1          0        0        0   0\n1     2    male       2        1          0        0        0   1\n2     4  female       4        1          1        2        0   0\n3     5  female      12        1          2        7        2   0\n4     7  female       2        1          0        1        0   0\n5     8    male       2        1          0        1        0   0\n6     9    male       1        0          0        0        0   1\n7    10  female       1        0          0        0        0   1",
            "text/html": "<div>\n<style scoped>\n    .dataframe tbody tr th:only-of-type {\n        vertical-align: middle;\n    }\n\n    .dataframe tbody tr th {\n        vertical-align: top;\n    }\n\n    .dataframe thead th {\n        text-align: right;\n    }\n</style>\n<table border=\"1\" class=\"dataframe\">\n  <thead>\n    <tr style=\"text-align: right;\">\n      <th></th>\n      <th>P_ID</th>\n      <th>sex</th>\n      <th>visits</th>\n      <th>checkup</th>\n      <th>follow_up</th>\n      <th>illness</th>\n      <th>surgery</th>\n      <th>ER</th>\n    </tr>\n  </thead>\n  <tbody>\n    <tr>\n      <th>0</th>\n      <td>1</td>\n      <td>male</td>\n      <td>1</td>\n      <td>1</td>\n      <td>0</td>\n      <td>0</td>\n      <td>0</td>\n      <td>0</td>\n    </tr>\n    <tr>\n      <th>1</th>\n      <td>2</td>\n      <td>male</td>\n      <td>2</td>\n      <td>1</td>\n      <td>0</td>\n      <td>0</td>\n      <td>0</td>\n      <td>1</td>\n    </tr>\n    <tr>\n      <th>2</th>\n      <td>4</td>\n      <td>female</td>\n      <td>4</td>\n      <td>1</td>\n      <td>1</td>\n      <td>2</td>\n      <td>0</td>\n      <td>0</td>\n    </tr>\n    <tr>\n      <th>3</th>\n      <td>5</td>\n      <td>female</td>\n      <td>12</td>\n      <td>1</td>\n      <td>2</td>\n      <td>7</td>\n      <td>2</td>\n      <td>0</td>\n    </tr>\n    <tr>\n      <th>4</th>\n      <td>7</td>\n      <td>female</td>\n      <td>2</td>\n      <td>1</td>\n      <td>0</td>\n      <td>1</td>\n      <td>0</td>\n      <td>0</td>\n    </tr>\n    <tr>\n      <th>5</th>\n      <td>8</td>\n      <td>male</td>\n      <td>2</td>\n      <td>1</td>\n      <td>0</td>\n      <td>1</td>\n      <td>0</td>\n      <td>0</td>\n    </tr>\n    <tr>\n      <th>6</th>\n      <td>9</td>\n      <td>male</td>\n      <td>1</td>\n      <td>0</td>\n      <td>0</td>\n      <td>0</td>\n      <td>0</td>\n      <td>1</td>\n    </tr>\n    <tr>\n      <th>7</th>\n      <td>10</td>\n      <td>female</td>\n      <td>1</td>\n      <td>0</td>\n      <td>0</td>\n      <td>0</td>\n      <td>0</td>\n      <td>1</td>\n    </tr>\n  </tbody>\n</table>\n</div>"
          },
          "metadata": {}
        }
      ]
    },
    {
      "cell_type": "markdown",
      "source": [
        "Both data frames contain the column \"P_ID\" but the other columns are different. A unique identifier like an ID is usually a good key for joining two data frames together. You can combine two data frames by a common column with merge():"
      ],
      "metadata": {
        "id": "qxtgal1bVrNL"
      }
    },
    {
      "cell_type": "code",
      "source": [
        "combined1 = pd.merge(table1,       # First table\n",
        "                    table2,        # Second table\n",
        "                    how=\"inner\",   # Merge method\n",
        "                    on=\"P_ID\")     # Column(s) to join on\n",
        "\n",
        "combined1"
      ],
      "metadata": {
        "execution": {
          "iopub.status.busy": "2024-08-23T13:42:37.010456Z",
          "iopub.execute_input": "2024-08-23T13:42:37.010803Z",
          "iopub.status.idle": "2024-08-23T13:42:37.050631Z",
          "shell.execute_reply.started": "2024-08-23T13:42:37.010755Z",
          "shell.execute_reply": "2024-08-23T13:42:37.049653Z"
        },
        "trusted": true,
        "id": "9DKQl91UVrNM",
        "outputId": "5d641538-1296-4079-9cf3-35cecbbe4038"
      },
      "execution_count": null,
      "outputs": [
        {
          "execution_count": 5,
          "output_type": "execute_result",
          "data": {
            "text/plain": "   P_ID  gender  height  weight ... follow_up  illness  surgery  ER\n0     1    male      71     175 ...         0        0        0   0\n1     2    male      73     225 ...         0        0        0   1\n2     4  female      64     125 ...         1        2        0   0\n3     5  female      66     165 ...         2        7        2   0\n4     7  female      62     115 ...         0        1        0   0\n5     8    male      72     250 ...         0        1        0   0\n\n[6 rows x 11 columns]",
            "text/html": "<div>\n<style scoped>\n    .dataframe tbody tr th:only-of-type {\n        vertical-align: middle;\n    }\n\n    .dataframe tbody tr th {\n        vertical-align: top;\n    }\n\n    .dataframe thead th {\n        text-align: right;\n    }\n</style>\n<table border=\"1\" class=\"dataframe\">\n  <thead>\n    <tr style=\"text-align: right;\">\n      <th></th>\n      <th>P_ID</th>\n      <th>gender</th>\n      <th>height</th>\n      <th>weight</th>\n      <th>sex</th>\n      <th>visits</th>\n      <th>checkup</th>\n      <th>follow_up</th>\n      <th>illness</th>\n      <th>surgery</th>\n      <th>ER</th>\n    </tr>\n  </thead>\n  <tbody>\n    <tr>\n      <th>0</th>\n      <td>1</td>\n      <td>male</td>\n      <td>71</td>\n      <td>175</td>\n      <td>male</td>\n      <td>1</td>\n      <td>1</td>\n      <td>0</td>\n      <td>0</td>\n      <td>0</td>\n      <td>0</td>\n    </tr>\n    <tr>\n      <th>1</th>\n      <td>2</td>\n      <td>male</td>\n      <td>73</td>\n      <td>225</td>\n      <td>male</td>\n      <td>2</td>\n      <td>1</td>\n      <td>0</td>\n      <td>0</td>\n      <td>0</td>\n      <td>1</td>\n    </tr>\n    <tr>\n      <th>2</th>\n      <td>4</td>\n      <td>female</td>\n      <td>64</td>\n      <td>125</td>\n      <td>female</td>\n      <td>4</td>\n      <td>1</td>\n      <td>1</td>\n      <td>2</td>\n      <td>0</td>\n      <td>0</td>\n    </tr>\n    <tr>\n      <th>3</th>\n      <td>5</td>\n      <td>female</td>\n      <td>66</td>\n      <td>165</td>\n      <td>female</td>\n      <td>12</td>\n      <td>1</td>\n      <td>2</td>\n      <td>7</td>\n      <td>2</td>\n      <td>0</td>\n    </tr>\n    <tr>\n      <th>4</th>\n      <td>7</td>\n      <td>female</td>\n      <td>62</td>\n      <td>115</td>\n      <td>female</td>\n      <td>2</td>\n      <td>1</td>\n      <td>0</td>\n      <td>1</td>\n      <td>0</td>\n      <td>0</td>\n    </tr>\n    <tr>\n      <th>5</th>\n      <td>8</td>\n      <td>male</td>\n      <td>72</td>\n      <td>250</td>\n      <td>male</td>\n      <td>2</td>\n      <td>1</td>\n      <td>0</td>\n      <td>1</td>\n      <td>0</td>\n      <td>0</td>\n    </tr>\n  </tbody>\n</table>\n</div>"
          },
          "metadata": {}
        }
      ]
    },
    {
      "cell_type": "markdown",
      "source": [
        "Inspecting the new combined data frame, we can see that the number of records dropped from 8 in the original tables to 6 in the combined table. If we inspect the P_ID column closely, we see that the original data tables contain some different values for P_ID. Note that inside the merge function we set the argument \"how\" to \"inner\". An inner join only merges records that appear in both columns used for the join. Since patients 3 and 6 only appear in table1 and patients 9 and 10 only appear in table2, those four patients were dropped when we merged the tables together.\n",
        "\n",
        "Inner joins ensure that we don't end up introducing missing values in our data. For instance, if we kept patients 3 and 6 in the combined data frame, those patients would end up with a lot of missing values because they aren't present in the table2. If you want to keep more of your data and don't mind introducing some missing values, you can use merge to perform other types of joins, such as left joins, right joins and outer joins:"
      ],
      "metadata": {
        "id": "5FO4fy6NVrNM"
      }
    },
    {
      "cell_type": "code",
      "source": [
        "# A left join keeps all key values in the first(left) data frame\n",
        "\n",
        "left_join = pd.merge(table1,       # First table\n",
        "                    table2,        # Second table\n",
        "                    how=\"left\",   # Merge method\n",
        "                    on=\"P_ID\")     # Column(s) to join on\n",
        "\n",
        "left_join"
      ],
      "metadata": {
        "execution": {
          "iopub.status.busy": "2024-08-23T13:59:09.216655Z",
          "iopub.execute_input": "2024-08-23T13:59:09.217081Z",
          "iopub.status.idle": "2024-08-23T13:59:09.255480Z",
          "shell.execute_reply.started": "2024-08-23T13:59:09.217026Z",
          "shell.execute_reply": "2024-08-23T13:59:09.254321Z"
        },
        "trusted": true,
        "id": "-LM11ACbVrNN",
        "outputId": "0476af7f-31ea-49e8-b3d8-15da0c78aab8"
      },
      "execution_count": null,
      "outputs": [
        {
          "execution_count": 6,
          "output_type": "execute_result",
          "data": {
            "text/plain": "   P_ID  gender  height  weight ...  follow_up  illness  surgery   ER\n0     1    male      71     175 ...        0.0      0.0      0.0  0.0\n1     2    male      73     225 ...        0.0      0.0      0.0  1.0\n2     3  female      64     130 ...        NaN      NaN      NaN  NaN\n3     4  female      64     125 ...        1.0      2.0      0.0  0.0\n4     5  female      66     165 ...        2.0      7.0      2.0  0.0\n5     6    male      69     160 ...        NaN      NaN      NaN  NaN\n6     7  female      62     115 ...        0.0      1.0      0.0  0.0\n7     8    male      72     250 ...        0.0      1.0      0.0  0.0\n\n[8 rows x 11 columns]",
            "text/html": "<div>\n<style scoped>\n    .dataframe tbody tr th:only-of-type {\n        vertical-align: middle;\n    }\n\n    .dataframe tbody tr th {\n        vertical-align: top;\n    }\n\n    .dataframe thead th {\n        text-align: right;\n    }\n</style>\n<table border=\"1\" class=\"dataframe\">\n  <thead>\n    <tr style=\"text-align: right;\">\n      <th></th>\n      <th>P_ID</th>\n      <th>gender</th>\n      <th>height</th>\n      <th>weight</th>\n      <th>sex</th>\n      <th>visits</th>\n      <th>checkup</th>\n      <th>follow_up</th>\n      <th>illness</th>\n      <th>surgery</th>\n      <th>ER</th>\n    </tr>\n  </thead>\n  <tbody>\n    <tr>\n      <th>0</th>\n      <td>1</td>\n      <td>male</td>\n      <td>71</td>\n      <td>175</td>\n      <td>male</td>\n      <td>1.0</td>\n      <td>1.0</td>\n      <td>0.0</td>\n      <td>0.0</td>\n      <td>0.0</td>\n      <td>0.0</td>\n    </tr>\n    <tr>\n      <th>1</th>\n      <td>2</td>\n      <td>male</td>\n      <td>73</td>\n      <td>225</td>\n      <td>male</td>\n      <td>2.0</td>\n      <td>1.0</td>\n      <td>0.0</td>\n      <td>0.0</td>\n      <td>0.0</td>\n      <td>1.0</td>\n    </tr>\n    <tr>\n      <th>2</th>\n      <td>3</td>\n      <td>female</td>\n      <td>64</td>\n      <td>130</td>\n      <td>NaN</td>\n      <td>NaN</td>\n      <td>NaN</td>\n      <td>NaN</td>\n      <td>NaN</td>\n      <td>NaN</td>\n      <td>NaN</td>\n    </tr>\n    <tr>\n      <th>3</th>\n      <td>4</td>\n      <td>female</td>\n      <td>64</td>\n      <td>125</td>\n      <td>female</td>\n      <td>4.0</td>\n      <td>1.0</td>\n      <td>1.0</td>\n      <td>2.0</td>\n      <td>0.0</td>\n      <td>0.0</td>\n    </tr>\n    <tr>\n      <th>4</th>\n      <td>5</td>\n      <td>female</td>\n      <td>66</td>\n      <td>165</td>\n      <td>female</td>\n      <td>12.0</td>\n      <td>1.0</td>\n      <td>2.0</td>\n      <td>7.0</td>\n      <td>2.0</td>\n      <td>0.0</td>\n    </tr>\n    <tr>\n      <th>5</th>\n      <td>6</td>\n      <td>male</td>\n      <td>69</td>\n      <td>160</td>\n      <td>NaN</td>\n      <td>NaN</td>\n      <td>NaN</td>\n      <td>NaN</td>\n      <td>NaN</td>\n      <td>NaN</td>\n      <td>NaN</td>\n    </tr>\n    <tr>\n      <th>6</th>\n      <td>7</td>\n      <td>female</td>\n      <td>62</td>\n      <td>115</td>\n      <td>female</td>\n      <td>2.0</td>\n      <td>1.0</td>\n      <td>0.0</td>\n      <td>1.0</td>\n      <td>0.0</td>\n      <td>0.0</td>\n    </tr>\n    <tr>\n      <th>7</th>\n      <td>8</td>\n      <td>male</td>\n      <td>72</td>\n      <td>250</td>\n      <td>male</td>\n      <td>2.0</td>\n      <td>1.0</td>\n      <td>0.0</td>\n      <td>1.0</td>\n      <td>0.0</td>\n      <td>0.0</td>\n    </tr>\n  </tbody>\n</table>\n</div>"
          },
          "metadata": {}
        }
      ]
    },
    {
      "cell_type": "code",
      "source": [
        "# A right join keeps all key values in the second(right) data frame\n",
        "\n",
        "right_join = pd.merge(table1,       # First table\n",
        "                    table2,        # Second table\n",
        "                    how=\"right\",   # Merge method\n",
        "                    on=\"P_ID\")     # Column(s) to join on\n",
        "\n",
        "right_join"
      ],
      "metadata": {
        "execution": {
          "iopub.status.busy": "2024-08-23T13:59:24.945679Z",
          "iopub.execute_input": "2024-08-23T13:59:24.946012Z",
          "iopub.status.idle": "2024-08-23T13:59:24.982963Z",
          "shell.execute_reply.started": "2024-08-23T13:59:24.945939Z",
          "shell.execute_reply": "2024-08-23T13:59:24.982115Z"
        },
        "trusted": true,
        "id": "UyfnTeg3VrNN",
        "outputId": "b4a1d6da-67d9-4b2b-bd46-0d3afcfefb98"
      },
      "execution_count": null,
      "outputs": [
        {
          "execution_count": 7,
          "output_type": "execute_result",
          "data": {
            "text/plain": "   P_ID  gender  height  weight ... follow_up  illness  surgery  ER\n0     1    male    71.0   175.0 ...         0        0        0   0\n1     2    male    73.0   225.0 ...         0        0        0   1\n2     4  female    64.0   125.0 ...         1        2        0   0\n3     5  female    66.0   165.0 ...         2        7        2   0\n4     7  female    62.0   115.0 ...         0        1        0   0\n5     8    male    72.0   250.0 ...         0        1        0   0\n6     9     NaN     NaN     NaN ...         0        0        0   1\n7    10     NaN     NaN     NaN ...         0        0        0   1\n\n[8 rows x 11 columns]",
            "text/html": "<div>\n<style scoped>\n    .dataframe tbody tr th:only-of-type {\n        vertical-align: middle;\n    }\n\n    .dataframe tbody tr th {\n        vertical-align: top;\n    }\n\n    .dataframe thead th {\n        text-align: right;\n    }\n</style>\n<table border=\"1\" class=\"dataframe\">\n  <thead>\n    <tr style=\"text-align: right;\">\n      <th></th>\n      <th>P_ID</th>\n      <th>gender</th>\n      <th>height</th>\n      <th>weight</th>\n      <th>sex</th>\n      <th>visits</th>\n      <th>checkup</th>\n      <th>follow_up</th>\n      <th>illness</th>\n      <th>surgery</th>\n      <th>ER</th>\n    </tr>\n  </thead>\n  <tbody>\n    <tr>\n      <th>0</th>\n      <td>1</td>\n      <td>male</td>\n      <td>71.0</td>\n      <td>175.0</td>\n      <td>male</td>\n      <td>1</td>\n      <td>1</td>\n      <td>0</td>\n      <td>0</td>\n      <td>0</td>\n      <td>0</td>\n    </tr>\n    <tr>\n      <th>1</th>\n      <td>2</td>\n      <td>male</td>\n      <td>73.0</td>\n      <td>225.0</td>\n      <td>male</td>\n      <td>2</td>\n      <td>1</td>\n      <td>0</td>\n      <td>0</td>\n      <td>0</td>\n      <td>1</td>\n    </tr>\n    <tr>\n      <th>2</th>\n      <td>4</td>\n      <td>female</td>\n      <td>64.0</td>\n      <td>125.0</td>\n      <td>female</td>\n      <td>4</td>\n      <td>1</td>\n      <td>1</td>\n      <td>2</td>\n      <td>0</td>\n      <td>0</td>\n    </tr>\n    <tr>\n      <th>3</th>\n      <td>5</td>\n      <td>female</td>\n      <td>66.0</td>\n      <td>165.0</td>\n      <td>female</td>\n      <td>12</td>\n      <td>1</td>\n      <td>2</td>\n      <td>7</td>\n      <td>2</td>\n      <td>0</td>\n    </tr>\n    <tr>\n      <th>4</th>\n      <td>7</td>\n      <td>female</td>\n      <td>62.0</td>\n      <td>115.0</td>\n      <td>female</td>\n      <td>2</td>\n      <td>1</td>\n      <td>0</td>\n      <td>1</td>\n      <td>0</td>\n      <td>0</td>\n    </tr>\n    <tr>\n      <th>5</th>\n      <td>8</td>\n      <td>male</td>\n      <td>72.0</td>\n      <td>250.0</td>\n      <td>male</td>\n      <td>2</td>\n      <td>1</td>\n      <td>0</td>\n      <td>1</td>\n      <td>0</td>\n      <td>0</td>\n    </tr>\n    <tr>\n      <th>6</th>\n      <td>9</td>\n      <td>NaN</td>\n      <td>NaN</td>\n      <td>NaN</td>\n      <td>male</td>\n      <td>1</td>\n      <td>0</td>\n      <td>0</td>\n      <td>0</td>\n      <td>0</td>\n      <td>1</td>\n    </tr>\n    <tr>\n      <th>7</th>\n      <td>10</td>\n      <td>NaN</td>\n      <td>NaN</td>\n      <td>NaN</td>\n      <td>female</td>\n      <td>1</td>\n      <td>0</td>\n      <td>0</td>\n      <td>0</td>\n      <td>0</td>\n      <td>1</td>\n    </tr>\n  </tbody>\n</table>\n</div>"
          },
          "metadata": {}
        }
      ]
    },
    {
      "cell_type": "code",
      "source": [
        "# An outer join keeps all key values in both data frames\n",
        "\n",
        "outer_join = pd.merge(table1,      # First table\n",
        "                    table2,        # Second table\n",
        "                    how=\"outer\",   # Merge method\n",
        "                    on=\"P_ID\")     # Column(s) to join on\n",
        "\n",
        "outer_join"
      ],
      "metadata": {
        "execution": {
          "iopub.status.busy": "2024-08-23T13:59:49.496039Z",
          "iopub.execute_input": "2024-08-23T13:59:49.496387Z",
          "iopub.status.idle": "2024-08-23T13:59:49.539090Z",
          "shell.execute_reply.started": "2024-08-23T13:59:49.496330Z",
          "shell.execute_reply": "2024-08-23T13:59:49.538106Z"
        },
        "trusted": true,
        "id": "FOAWK57VVrNO",
        "outputId": "e93a57b9-3901-41f4-f712-e9c3cd14e66e"
      },
      "execution_count": null,
      "outputs": [
        {
          "execution_count": 8,
          "output_type": "execute_result",
          "data": {
            "text/plain": "   P_ID  gender  height  weight ...  follow_up  illness  surgery   ER\n0     1    male    71.0   175.0 ...        0.0      0.0      0.0  0.0\n1     2    male    73.0   225.0 ...        0.0      0.0      0.0  1.0\n2     3  female    64.0   130.0 ...        NaN      NaN      NaN  NaN\n3     4  female    64.0   125.0 ...        1.0      2.0      0.0  0.0\n4     5  female    66.0   165.0 ...        2.0      7.0      2.0  0.0\n5     6    male    69.0   160.0 ...        NaN      NaN      NaN  NaN\n6     7  female    62.0   115.0 ...        0.0      1.0      0.0  0.0\n7     8    male    72.0   250.0 ...        0.0      1.0      0.0  0.0\n8     9     NaN     NaN     NaN ...        0.0      0.0      0.0  1.0\n9    10     NaN     NaN     NaN ...        0.0      0.0      0.0  1.0\n\n[10 rows x 11 columns]",
            "text/html": "<div>\n<style scoped>\n    .dataframe tbody tr th:only-of-type {\n        vertical-align: middle;\n    }\n\n    .dataframe tbody tr th {\n        vertical-align: top;\n    }\n\n    .dataframe thead th {\n        text-align: right;\n    }\n</style>\n<table border=\"1\" class=\"dataframe\">\n  <thead>\n    <tr style=\"text-align: right;\">\n      <th></th>\n      <th>P_ID</th>\n      <th>gender</th>\n      <th>height</th>\n      <th>weight</th>\n      <th>sex</th>\n      <th>visits</th>\n      <th>checkup</th>\n      <th>follow_up</th>\n      <th>illness</th>\n      <th>surgery</th>\n      <th>ER</th>\n    </tr>\n  </thead>\n  <tbody>\n    <tr>\n      <th>0</th>\n      <td>1</td>\n      <td>male</td>\n      <td>71.0</td>\n      <td>175.0</td>\n      <td>male</td>\n      <td>1.0</td>\n      <td>1.0</td>\n      <td>0.0</td>\n      <td>0.0</td>\n      <td>0.0</td>\n      <td>0.0</td>\n    </tr>\n    <tr>\n      <th>1</th>\n      <td>2</td>\n      <td>male</td>\n      <td>73.0</td>\n      <td>225.0</td>\n      <td>male</td>\n      <td>2.0</td>\n      <td>1.0</td>\n      <td>0.0</td>\n      <td>0.0</td>\n      <td>0.0</td>\n      <td>1.0</td>\n    </tr>\n    <tr>\n      <th>2</th>\n      <td>3</td>\n      <td>female</td>\n      <td>64.0</td>\n      <td>130.0</td>\n      <td>NaN</td>\n      <td>NaN</td>\n      <td>NaN</td>\n      <td>NaN</td>\n      <td>NaN</td>\n      <td>NaN</td>\n      <td>NaN</td>\n    </tr>\n    <tr>\n      <th>3</th>\n      <td>4</td>\n      <td>female</td>\n      <td>64.0</td>\n      <td>125.0</td>\n      <td>female</td>\n      <td>4.0</td>\n      <td>1.0</td>\n      <td>1.0</td>\n      <td>2.0</td>\n      <td>0.0</td>\n      <td>0.0</td>\n    </tr>\n    <tr>\n      <th>4</th>\n      <td>5</td>\n      <td>female</td>\n      <td>66.0</td>\n      <td>165.0</td>\n      <td>female</td>\n      <td>12.0</td>\n      <td>1.0</td>\n      <td>2.0</td>\n      <td>7.0</td>\n      <td>2.0</td>\n      <td>0.0</td>\n    </tr>\n    <tr>\n      <th>5</th>\n      <td>6</td>\n      <td>male</td>\n      <td>69.0</td>\n      <td>160.0</td>\n      <td>NaN</td>\n      <td>NaN</td>\n      <td>NaN</td>\n      <td>NaN</td>\n      <td>NaN</td>\n      <td>NaN</td>\n      <td>NaN</td>\n    </tr>\n    <tr>\n      <th>6</th>\n      <td>7</td>\n      <td>female</td>\n      <td>62.0</td>\n      <td>115.0</td>\n      <td>female</td>\n      <td>2.0</td>\n      <td>1.0</td>\n      <td>0.0</td>\n      <td>1.0</td>\n      <td>0.0</td>\n      <td>0.0</td>\n    </tr>\n    <tr>\n      <th>7</th>\n      <td>8</td>\n      <td>male</td>\n      <td>72.0</td>\n      <td>250.0</td>\n      <td>male</td>\n      <td>2.0</td>\n      <td>1.0</td>\n      <td>0.0</td>\n      <td>1.0</td>\n      <td>0.0</td>\n      <td>0.0</td>\n    </tr>\n    <tr>\n      <th>8</th>\n      <td>9</td>\n      <td>NaN</td>\n      <td>NaN</td>\n      <td>NaN</td>\n      <td>male</td>\n      <td>1.0</td>\n      <td>0.0</td>\n      <td>0.0</td>\n      <td>0.0</td>\n      <td>0.0</td>\n      <td>1.0</td>\n    </tr>\n    <tr>\n      <th>9</th>\n      <td>10</td>\n      <td>NaN</td>\n      <td>NaN</td>\n      <td>NaN</td>\n      <td>female</td>\n      <td>1.0</td>\n      <td>0.0</td>\n      <td>0.0</td>\n      <td>0.0</td>\n      <td>0.0</td>\n      <td>1.0</td>\n    </tr>\n  </tbody>\n</table>\n</div>"
          },
          "metadata": {}
        }
      ]
    },
    {
      "cell_type": "markdown",
      "source": [
        "By this point, you may have noticed that the two data frames contain a second column in common. The first table contains the column \"gender\" while the second contains the column \"sex\", both of which record the same information. We can solve this issue by first renaming one of the two columns so that their names are the same and then supplying that column's name as a second column to merge upon:"
      ],
      "metadata": {
        "id": "rdj8iySeVrNO"
      }
    },
    {
      "cell_type": "code",
      "source": [
        "table1.rename(columns={\"gender\":\"sex\"}, inplace=True) # Rename \"gender\" column\n",
        "\n",
        "combined2 = pd.merge(table1,               # First data frame\n",
        "                  table2,                  # Second data frame\n",
        "                  how=\"outer\",             # Merge method\n",
        "                  on=[\"P_ID\",\"sex\"])    # Column(s) to join on\n",
        "\n",
        "combined2"
      ],
      "metadata": {
        "execution": {
          "iopub.status.busy": "2024-08-23T14:02:00.128491Z",
          "iopub.execute_input": "2024-08-23T14:02:00.128817Z",
          "iopub.status.idle": "2024-08-23T14:02:00.166174Z",
          "shell.execute_reply.started": "2024-08-23T14:02:00.128766Z",
          "shell.execute_reply": "2024-08-23T14:02:00.165205Z"
        },
        "trusted": true,
        "id": "TwRx8MoBVrNO",
        "outputId": "b8ff1bb4-9c18-4542-ee38-2d849551cfd5"
      },
      "execution_count": null,
      "outputs": [
        {
          "execution_count": 9,
          "output_type": "execute_result",
          "data": {
            "text/plain": "   P_ID     sex  height  weight ...   follow_up  illness  surgery   ER\n0     1    male    71.0   175.0 ...         0.0      0.0      0.0  0.0\n1     2    male    73.0   225.0 ...         0.0      0.0      0.0  1.0\n2     3  female    64.0   130.0 ...         NaN      NaN      NaN  NaN\n3     4  female    64.0   125.0 ...         1.0      2.0      0.0  0.0\n4     5  female    66.0   165.0 ...         2.0      7.0      2.0  0.0\n5     6    male    69.0   160.0 ...         NaN      NaN      NaN  NaN\n6     7  female    62.0   115.0 ...         0.0      1.0      0.0  0.0\n7     8    male    72.0   250.0 ...         0.0      1.0      0.0  0.0\n8     9    male     NaN     NaN ...         0.0      0.0      0.0  1.0\n9    10  female     NaN     NaN ...         0.0      0.0      0.0  1.0\n\n[10 rows x 10 columns]",
            "text/html": "<div>\n<style scoped>\n    .dataframe tbody tr th:only-of-type {\n        vertical-align: middle;\n    }\n\n    .dataframe tbody tr th {\n        vertical-align: top;\n    }\n\n    .dataframe thead th {\n        text-align: right;\n    }\n</style>\n<table border=\"1\" class=\"dataframe\">\n  <thead>\n    <tr style=\"text-align: right;\">\n      <th></th>\n      <th>P_ID</th>\n      <th>sex</th>\n      <th>height</th>\n      <th>weight</th>\n      <th>visits</th>\n      <th>checkup</th>\n      <th>follow_up</th>\n      <th>illness</th>\n      <th>surgery</th>\n      <th>ER</th>\n    </tr>\n  </thead>\n  <tbody>\n    <tr>\n      <th>0</th>\n      <td>1</td>\n      <td>male</td>\n      <td>71.0</td>\n      <td>175.0</td>\n      <td>1.0</td>\n      <td>1.0</td>\n      <td>0.0</td>\n      <td>0.0</td>\n      <td>0.0</td>\n      <td>0.0</td>\n    </tr>\n    <tr>\n      <th>1</th>\n      <td>2</td>\n      <td>male</td>\n      <td>73.0</td>\n      <td>225.0</td>\n      <td>2.0</td>\n      <td>1.0</td>\n      <td>0.0</td>\n      <td>0.0</td>\n      <td>0.0</td>\n      <td>1.0</td>\n    </tr>\n    <tr>\n      <th>2</th>\n      <td>3</td>\n      <td>female</td>\n      <td>64.0</td>\n      <td>130.0</td>\n      <td>NaN</td>\n      <td>NaN</td>\n      <td>NaN</td>\n      <td>NaN</td>\n      <td>NaN</td>\n      <td>NaN</td>\n    </tr>\n    <tr>\n      <th>3</th>\n      <td>4</td>\n      <td>female</td>\n      <td>64.0</td>\n      <td>125.0</td>\n      <td>4.0</td>\n      <td>1.0</td>\n      <td>1.0</td>\n      <td>2.0</td>\n      <td>0.0</td>\n      <td>0.0</td>\n    </tr>\n    <tr>\n      <th>4</th>\n      <td>5</td>\n      <td>female</td>\n      <td>66.0</td>\n      <td>165.0</td>\n      <td>12.0</td>\n      <td>1.0</td>\n      <td>2.0</td>\n      <td>7.0</td>\n      <td>2.0</td>\n      <td>0.0</td>\n    </tr>\n    <tr>\n      <th>5</th>\n      <td>6</td>\n      <td>male</td>\n      <td>69.0</td>\n      <td>160.0</td>\n      <td>NaN</td>\n      <td>NaN</td>\n      <td>NaN</td>\n      <td>NaN</td>\n      <td>NaN</td>\n      <td>NaN</td>\n    </tr>\n    <tr>\n      <th>6</th>\n      <td>7</td>\n      <td>female</td>\n      <td>62.0</td>\n      <td>115.0</td>\n      <td>2.0</td>\n      <td>1.0</td>\n      <td>0.0</td>\n      <td>1.0</td>\n      <td>0.0</td>\n      <td>0.0</td>\n    </tr>\n    <tr>\n      <th>7</th>\n      <td>8</td>\n      <td>male</td>\n      <td>72.0</td>\n      <td>250.0</td>\n      <td>2.0</td>\n      <td>1.0</td>\n      <td>0.0</td>\n      <td>1.0</td>\n      <td>0.0</td>\n      <td>0.0</td>\n    </tr>\n    <tr>\n      <th>8</th>\n      <td>9</td>\n      <td>male</td>\n      <td>NaN</td>\n      <td>NaN</td>\n      <td>1.0</td>\n      <td>0.0</td>\n      <td>0.0</td>\n      <td>0.0</td>\n      <td>0.0</td>\n      <td>1.0</td>\n    </tr>\n    <tr>\n      <th>9</th>\n      <td>10</td>\n      <td>female</td>\n      <td>NaN</td>\n      <td>NaN</td>\n      <td>1.0</td>\n      <td>0.0</td>\n      <td>0.0</td>\n      <td>0.0</td>\n      <td>0.0</td>\n      <td>1.0</td>\n    </tr>\n  </tbody>\n</table>\n</div>"
          },
          "metadata": {}
        }
      ]
    },
    {
      "cell_type": "markdown",
      "source": [
        "By renaming and merging on the sex column, we've managed to eliminate some NA values in the outer join. Although an outer joins can introduce NA values, they can also be helpful for discovering patterns in the data. For example, in our combined data, notice that the two patients who did not have values listed for height and weight only made visits to the ER. It could be that the hospital did not have patients 9 and 10 on record previously and that it does not take height and weight measurements for ER visits. Using the same type of intuition, it could be that patients 3 and 6 have height and weight measurements on file from visits in the past, but perhaps they did not visit the hospital during the time period for which the visit data was collected."
      ],
      "metadata": {
        "id": "i33QJrRuVrNP"
      }
    },
    {
      "cell_type": "markdown",
      "source": [
        "## Wrap Up"
      ],
      "metadata": {
        "id": "9FOreFTgVrNP"
      }
    },
    {
      "cell_type": "markdown",
      "source": [
        "The pandas function merge() can perform common joins to combine data frames with matching columns. For some projects, you may have to merge several tables into one to get the most out of your data.\n",
        "\n",
        "Now that we know how to prepare and merge data, we're ready to learn more about two of the most common tools for exploring data sets: frequency tables and plots."
      ],
      "metadata": {
        "id": "kMByDty3VrNP"
      }
    }
  ]
}