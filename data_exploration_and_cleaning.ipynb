{
  "metadata": {
    "kernelspec": {
      "display_name": "Python 3",
      "language": "python",
      "name": "python3"
    },
    "language_info": {
      "name": "python",
      "version": "3.6.6",
      "mimetype": "text/x-python",
      "codemirror_mode": {
        "name": "ipython",
        "version": 3
      },
      "pygments_lexer": "ipython3",
      "nbconvert_exporter": "python",
      "file_extension": ".py"
    },
    "kaggle": {
      "accelerator": "none",
      "dataSources": [
        {
          "sourceId": 3136,
          "databundleVersionId": 26502,
          "sourceType": "competition"
        }
      ],
      "dockerImageVersionId": 24140,
      "isInternetEnabled": false,
      "language": "python",
      "sourceType": "notebook",
      "isGpuEnabled": false
    },
    "colab": {
      "provenance": []
    }
  },
  "nbformat_minor": 0,
  "nbformat": 4,
  "cells": [
    {
      "cell_type": "markdown",
      "source": [
        "# Data Exploration and Cleaning"
      ],
      "metadata": {
        "_uuid": "8f2839f25d086af736a60e9eeb907d3b93b6e0e5",
        "_cell_guid": "b1076dfc-b9ad-4769-8c92-a6c4dae69d19",
        "trusted": true,
        "id": "0RfiPNpWpnof"
      }
    },
    {
      "cell_type": "markdown",
      "source": [
        "The first part of any data analysis or predictive modeling task is an initial exploration of the data. Even if you collected the data yourself and you already have a list of questions in mind that you want to answer, it is important to explore the data before doing any serious analysis, since oddities in the data can cause bugs and muddle your results. Before exploring deeper questions, you have to answer many simpler ones about the form and quality of data. That said, it is important to go into your initial data exploration with a big picture question in mind since the goal of your analysis should inform how you prepare the data.\n",
        "\n",
        "This lesson aims to raise some of the questions you should consider when you look at a new data set for the first time and show how to perform various Python operations related to those questions. We are going to cover a lot of ground in this lesson, touching briefly on many topics from data cleaning to graphing to feature engineering. We will cover many of these topics in future lessons in greater detail.\n",
        "\n",
        "In this lesson, we will explore the Titanic disaster training set."
      ],
      "metadata": {
        "_cell_guid": "79c7e3d0-c299-4dcb-8224-4455121ee9b0",
        "_uuid": "d629ff2d2480ee46fbb7e2d37f6b5fab8052498a",
        "id": "gLz107AFpnoj"
      }
    },
    {
      "cell_type": "markdown",
      "source": [
        "## Exploring The Variables"
      ],
      "metadata": {
        "id": "GLKNfnFgpnok"
      }
    },
    {
      "cell_type": "markdown",
      "source": [
        "The first step in exploratory analysis is reading in the data and then exploring the variables. It is important to get a sense of how many variables and cases there are, the data types of the variables and the range of values they take on.\n",
        "\n",
        "We'll start by reading in the data:"
      ],
      "metadata": {
        "id": "b-9QaKp5pnol"
      }
    },
    {
      "cell_type": "code",
      "source": [
        "# Load in some packages\n",
        "%matplotlib inline\n",
        "\n",
        "\n",
        "import numpy as np\n",
        "import pandas as pd\n",
        "import os"
      ],
      "metadata": {
        "execution": {
          "iopub.status.busy": "2024-08-22T08:27:41.543379Z",
          "iopub.execute_input": "2024-08-22T08:27:41.543687Z",
          "iopub.status.idle": "2024-08-22T08:27:41.548671Z",
          "shell.execute_reply.started": "2024-08-22T08:27:41.543640Z",
          "shell.execute_reply": "2024-08-22T08:27:41.547890Z"
        },
        "trusted": true,
        "id": "00KEbFuVpnol"
      },
      "execution_count": null,
      "outputs": []
    },
    {
      "cell_type": "code",
      "source": [
        "titanic_train = pd.read_csv(\"../input/train.csv\")      # Read the data"
      ],
      "metadata": {
        "execution": {
          "iopub.status.busy": "2024-08-22T08:27:47.386440Z",
          "iopub.execute_input": "2024-08-22T08:27:47.386757Z",
          "iopub.status.idle": "2024-08-22T08:27:47.426087Z",
          "shell.execute_reply.started": "2024-08-22T08:27:47.386698Z",
          "shell.execute_reply": "2024-08-22T08:27:47.424919Z"
        },
        "trusted": true,
        "id": "UIucp0F4pnon"
      },
      "execution_count": null,
      "outputs": []
    },
    {
      "cell_type": "markdown",
      "source": [
        "It's a good idea to start off by checking the dimensions of your data set with df.shape and the variable data types of df.dtypes."
      ],
      "metadata": {
        "id": "Mak4Pfpipnon"
      }
    },
    {
      "cell_type": "code",
      "source": [
        "titanic_train.shape      # Check dimensions"
      ],
      "metadata": {
        "execution": {
          "iopub.status.busy": "2024-08-22T08:27:50.290391Z",
          "iopub.execute_input": "2024-08-22T08:27:50.290686Z",
          "iopub.status.idle": "2024-08-22T08:27:50.297465Z",
          "shell.execute_reply.started": "2024-08-22T08:27:50.290640Z",
          "shell.execute_reply": "2024-08-22T08:27:50.296589Z"
        },
        "trusted": true,
        "id": "mZqXGIIOpnoo",
        "outputId": "0feef867-b0bc-4785-8fe1-4f8cfa927a66"
      },
      "execution_count": null,
      "outputs": [
        {
          "execution_count": 4,
          "output_type": "execute_result",
          "data": {
            "text/plain": "(891, 12)"
          },
          "metadata": {}
        }
      ]
    },
    {
      "cell_type": "code",
      "source": [
        "titanic_train.dtypes"
      ],
      "metadata": {
        "execution": {
          "iopub.status.busy": "2024-08-22T08:27:54.303339Z",
          "iopub.execute_input": "2024-08-22T08:27:54.303649Z",
          "iopub.status.idle": "2024-08-22T08:27:54.314171Z",
          "shell.execute_reply.started": "2024-08-22T08:27:54.303601Z",
          "shell.execute_reply": "2024-08-22T08:27:54.313153Z"
        },
        "trusted": true,
        "id": "6fY3sVb7pnop",
        "outputId": "4f9af7d8-66ea-40da-e9be-4f9e5c7f9fe4"
      },
      "execution_count": null,
      "outputs": [
        {
          "execution_count": 5,
          "output_type": "execute_result",
          "data": {
            "text/plain": "PassengerId      int64\nSurvived         int64\nPclass           int64\nName            object\nSex             object\nAge            float64\nSibSp            int64\nParch            int64\nTicket          object\nFare           float64\nCabin           object\nEmbarked        object\ndtype: object"
          },
          "metadata": {}
        }
      ]
    },
    {
      "cell_type": "markdown",
      "source": [
        "The output shows us that we're working with a set of 891 records and 12 columns. Several of the column variables are encoded as numeric data types (ints and floats) but a few of them are encoded as \"object\". Let's check the head of the data to get a better sense of what the variables look like:"
      ],
      "metadata": {
        "id": "C29CIpRHpnop"
      }
    },
    {
      "cell_type": "code",
      "source": [
        "titanic_train.head(5)  # Check the first 5 rows"
      ],
      "metadata": {
        "execution": {
          "iopub.status.busy": "2024-08-22T08:28:03.211652Z",
          "iopub.execute_input": "2024-08-22T08:28:03.211946Z",
          "iopub.status.idle": "2024-08-22T08:28:03.250899Z",
          "shell.execute_reply.started": "2024-08-22T08:28:03.211901Z",
          "shell.execute_reply": "2024-08-22T08:28:03.250212Z"
        },
        "trusted": true,
        "id": "CIC9zAGEpnop",
        "outputId": "6afa3c39-a421-440f-9f7d-20f39be35f98"
      },
      "execution_count": null,
      "outputs": [
        {
          "execution_count": 6,
          "output_type": "execute_result",
          "data": {
            "text/plain": "   PassengerId  Survived  Pclass    ...        Fare Cabin  Embarked\n0            1         0       3    ...      7.2500   NaN         S\n1            2         1       1    ...     71.2833   C85         C\n2            3         1       3    ...      7.9250   NaN         S\n3            4         1       1    ...     53.1000  C123         S\n4            5         0       3    ...      8.0500   NaN         S\n\n[5 rows x 12 columns]",
            "text/html": "<div>\n<style scoped>\n    .dataframe tbody tr th:only-of-type {\n        vertical-align: middle;\n    }\n\n    .dataframe tbody tr th {\n        vertical-align: top;\n    }\n\n    .dataframe thead th {\n        text-align: right;\n    }\n</style>\n<table border=\"1\" class=\"dataframe\">\n  <thead>\n    <tr style=\"text-align: right;\">\n      <th></th>\n      <th>PassengerId</th>\n      <th>Survived</th>\n      <th>Pclass</th>\n      <th>Name</th>\n      <th>Sex</th>\n      <th>Age</th>\n      <th>SibSp</th>\n      <th>Parch</th>\n      <th>Ticket</th>\n      <th>Fare</th>\n      <th>Cabin</th>\n      <th>Embarked</th>\n    </tr>\n  </thead>\n  <tbody>\n    <tr>\n      <th>0</th>\n      <td>1</td>\n      <td>0</td>\n      <td>3</td>\n      <td>Braund, Mr. Owen Harris</td>\n      <td>male</td>\n      <td>22.0</td>\n      <td>1</td>\n      <td>0</td>\n      <td>A/5 21171</td>\n      <td>7.2500</td>\n      <td>NaN</td>\n      <td>S</td>\n    </tr>\n    <tr>\n      <th>1</th>\n      <td>2</td>\n      <td>1</td>\n      <td>1</td>\n      <td>Cumings, Mrs. John Bradley (Florence Briggs Th...</td>\n      <td>female</td>\n      <td>38.0</td>\n      <td>1</td>\n      <td>0</td>\n      <td>PC 17599</td>\n      <td>71.2833</td>\n      <td>C85</td>\n      <td>C</td>\n    </tr>\n    <tr>\n      <th>2</th>\n      <td>3</td>\n      <td>1</td>\n      <td>3</td>\n      <td>Heikkinen, Miss. Laina</td>\n      <td>female</td>\n      <td>26.0</td>\n      <td>0</td>\n      <td>0</td>\n      <td>STON/O2. 3101282</td>\n      <td>7.9250</td>\n      <td>NaN</td>\n      <td>S</td>\n    </tr>\n    <tr>\n      <th>3</th>\n      <td>4</td>\n      <td>1</td>\n      <td>1</td>\n      <td>Futrelle, Mrs. Jacques Heath (Lily May Peel)</td>\n      <td>female</td>\n      <td>35.0</td>\n      <td>1</td>\n      <td>0</td>\n      <td>113803</td>\n      <td>53.1000</td>\n      <td>C123</td>\n      <td>S</td>\n    </tr>\n    <tr>\n      <th>4</th>\n      <td>5</td>\n      <td>0</td>\n      <td>3</td>\n      <td>Allen, Mr. William Henry</td>\n      <td>male</td>\n      <td>35.0</td>\n      <td>0</td>\n      <td>0</td>\n      <td>373450</td>\n      <td>8.0500</td>\n      <td>NaN</td>\n      <td>S</td>\n    </tr>\n  </tbody>\n</table>\n</div>"
          },
          "metadata": {}
        }
      ]
    },
    {
      "cell_type": "markdown",
      "source": [
        "It appears we have a mixture of numeric columns and columns with text data. In data analysis, variables that split records into a fixed number of unique categories, such as Sex, are known as categorical variables. Pandas will attempt to interpret categorical variables as such when you load data, but you can specifically convert a variable to categorical if necessary, as we'll see later.\n",
        "\n",
        "Note that if you're using a local Python environment with Spyder as your Python editor, you will see the data in the variable explorer pane, showing its type (DataFrame) and size. If you double click on the data in the variable explorer, you can see the data in a spreadsheet-like view that lets you sort by columns and edit values directly. You shouldn't rely too much on the variable explorer, however, since it doesn't work well when dealing with large data sets.\n",
        "\n",
        "After getting a sense of the data's structure, it is a good idea to look at a statistical summary of the variables with df.describe():"
      ],
      "metadata": {
        "id": "dtuUgUH7pnoq"
      }
    },
    {
      "cell_type": "code",
      "source": [
        "titanic_train.describe()"
      ],
      "metadata": {
        "execution": {
          "iopub.status.busy": "2024-08-22T08:28:06.338757Z",
          "iopub.execute_input": "2024-08-22T08:28:06.339101Z",
          "iopub.status.idle": "2024-08-22T08:28:06.388891Z",
          "shell.execute_reply.started": "2024-08-22T08:28:06.339040Z",
          "shell.execute_reply": "2024-08-22T08:28:06.387966Z"
        },
        "trusted": true,
        "id": "zoqn3ZKfpnoq",
        "outputId": "487fc08b-5e9d-4a00-889b-4573abfcab15"
      },
      "execution_count": null,
      "outputs": [
        {
          "execution_count": 7,
          "output_type": "execute_result",
          "data": {
            "text/plain": "       PassengerId    Survived     ...           Parch        Fare\ncount   891.000000  891.000000     ...      891.000000  891.000000\nmean    446.000000    0.383838     ...        0.381594   32.204208\nstd     257.353842    0.486592     ...        0.806057   49.693429\nmin       1.000000    0.000000     ...        0.000000    0.000000\n25%     223.500000    0.000000     ...        0.000000    7.910400\n50%     446.000000    0.000000     ...        0.000000   14.454200\n75%     668.500000    1.000000     ...        0.000000   31.000000\nmax     891.000000    1.000000     ...        6.000000  512.329200\n\n[8 rows x 7 columns]",
            "text/html": "<div>\n<style scoped>\n    .dataframe tbody tr th:only-of-type {\n        vertical-align: middle;\n    }\n\n    .dataframe tbody tr th {\n        vertical-align: top;\n    }\n\n    .dataframe thead th {\n        text-align: right;\n    }\n</style>\n<table border=\"1\" class=\"dataframe\">\n  <thead>\n    <tr style=\"text-align: right;\">\n      <th></th>\n      <th>PassengerId</th>\n      <th>Survived</th>\n      <th>Pclass</th>\n      <th>Age</th>\n      <th>SibSp</th>\n      <th>Parch</th>\n      <th>Fare</th>\n    </tr>\n  </thead>\n  <tbody>\n    <tr>\n      <th>count</th>\n      <td>891.000000</td>\n      <td>891.000000</td>\n      <td>891.000000</td>\n      <td>714.000000</td>\n      <td>891.000000</td>\n      <td>891.000000</td>\n      <td>891.000000</td>\n    </tr>\n    <tr>\n      <th>mean</th>\n      <td>446.000000</td>\n      <td>0.383838</td>\n      <td>2.308642</td>\n      <td>29.699118</td>\n      <td>0.523008</td>\n      <td>0.381594</td>\n      <td>32.204208</td>\n    </tr>\n    <tr>\n      <th>std</th>\n      <td>257.353842</td>\n      <td>0.486592</td>\n      <td>0.836071</td>\n      <td>14.526497</td>\n      <td>1.102743</td>\n      <td>0.806057</td>\n      <td>49.693429</td>\n    </tr>\n    <tr>\n      <th>min</th>\n      <td>1.000000</td>\n      <td>0.000000</td>\n      <td>1.000000</td>\n      <td>0.420000</td>\n      <td>0.000000</td>\n      <td>0.000000</td>\n      <td>0.000000</td>\n    </tr>\n    <tr>\n      <th>25%</th>\n      <td>223.500000</td>\n      <td>0.000000</td>\n      <td>2.000000</td>\n      <td>20.125000</td>\n      <td>0.000000</td>\n      <td>0.000000</td>\n      <td>7.910400</td>\n    </tr>\n    <tr>\n      <th>50%</th>\n      <td>446.000000</td>\n      <td>0.000000</td>\n      <td>3.000000</td>\n      <td>28.000000</td>\n      <td>0.000000</td>\n      <td>0.000000</td>\n      <td>14.454200</td>\n    </tr>\n    <tr>\n      <th>75%</th>\n      <td>668.500000</td>\n      <td>1.000000</td>\n      <td>3.000000</td>\n      <td>38.000000</td>\n      <td>1.000000</td>\n      <td>0.000000</td>\n      <td>31.000000</td>\n    </tr>\n    <tr>\n      <th>max</th>\n      <td>891.000000</td>\n      <td>1.000000</td>\n      <td>3.000000</td>\n      <td>80.000000</td>\n      <td>8.000000</td>\n      <td>6.000000</td>\n      <td>512.329200</td>\n    </tr>\n  </tbody>\n</table>\n</div>"
          },
          "metadata": {}
        }
      ]
    },
    {
      "cell_type": "markdown",
      "source": [],
      "metadata": {
        "id": "j5dQTedRpnoq"
      }
    },
    {
      "cell_type": "markdown",
      "source": [
        "Notice that non-numeric columns are dropped from the statistical summary provided by df.describe().\n",
        "\n",
        "We can get a summary of the categorical variables by passing only those columns to describe():"
      ],
      "metadata": {
        "id": "6JxdkWldpnoq"
      }
    },
    {
      "cell_type": "code",
      "source": [
        "categorical = titanic_train.dtypes[titanic_train.dtypes == \"object\"].index\n",
        "print(categorical)\n",
        "\n",
        "titanic_train[categorical].describe()"
      ],
      "metadata": {
        "execution": {
          "iopub.status.busy": "2024-08-22T08:29:26.959536Z",
          "iopub.execute_input": "2024-08-22T08:29:26.959890Z",
          "iopub.status.idle": "2024-08-22T08:29:27.001455Z",
          "shell.execute_reply.started": "2024-08-22T08:29:26.959839Z",
          "shell.execute_reply": "2024-08-22T08:29:27.000359Z"
        },
        "trusted": true,
        "id": "c55_DKhrpnor",
        "outputId": "af3b31a1-6641-426c-d8aa-c6e1d0548638"
      },
      "execution_count": null,
      "outputs": [
        {
          "execution_count": 9,
          "output_type": "execute_result",
          "data": {
            "text/plain": "                   Name   Sex    Ticket        Cabin Embarked\ncount               891   891       891          204      889\nunique              891     2       681          147        3\ntop     Elias, Mr. Dibo  male  CA. 2343  C23 C25 C27        S\nfreq                  1   577         7            4      644",
            "text/html": "<div>\n<style scoped>\n    .dataframe tbody tr th:only-of-type {\n        vertical-align: middle;\n    }\n\n    .dataframe tbody tr th {\n        vertical-align: top;\n    }\n\n    .dataframe thead th {\n        text-align: right;\n    }\n</style>\n<table border=\"1\" class=\"dataframe\">\n  <thead>\n    <tr style=\"text-align: right;\">\n      <th></th>\n      <th>Name</th>\n      <th>Sex</th>\n      <th>Ticket</th>\n      <th>Cabin</th>\n      <th>Embarked</th>\n    </tr>\n  </thead>\n  <tbody>\n    <tr>\n      <th>count</th>\n      <td>891</td>\n      <td>891</td>\n      <td>891</td>\n      <td>204</td>\n      <td>889</td>\n    </tr>\n    <tr>\n      <th>unique</th>\n      <td>891</td>\n      <td>2</td>\n      <td>681</td>\n      <td>147</td>\n      <td>3</td>\n    </tr>\n    <tr>\n      <th>top</th>\n      <td>Elias, Mr. Dibo</td>\n      <td>male</td>\n      <td>CA. 2343</td>\n      <td>C23 C25 C27</td>\n      <td>S</td>\n    </tr>\n    <tr>\n      <th>freq</th>\n      <td>1</td>\n      <td>577</td>\n      <td>7</td>\n      <td>4</td>\n      <td>644</td>\n    </tr>\n  </tbody>\n</table>\n</div>"
          },
          "metadata": {}
        }
      ]
    },
    {
      "cell_type": "markdown",
      "source": [
        "The categorical variable summary shows the count of non-NaN records, the number of unique categories, the most frequently occurring value and the number of occurrences of the most frequent value.\n",
        "\n",
        "Although describe() gives a concise overview of each variable, it does not necessarily give us enough information to determine what each variable means. Certain variables like \"Age\" and \"Fare\" are self-explanatory, while others like \"SibSp\" and \"Parch\" are not. Whoever collects or provides data for download should also provide a list of variable descriptions. In this case, Kaggle provides a list of descriptions on the data download page:"
      ],
      "metadata": {
        "id": "aWgQ7RPIpnor"
      }
    },
    {
      "cell_type": "code",
      "source": [
        "# VARIABLE DESCRIPTIONS:\n",
        "# survival        Survival\n",
        "#                 (0 = No; 1 = Yes)\n",
        "# pclass          Passenger Class\n",
        "#                 (1 = 1st; 2 = 2nd; 3 = 3rd)\n",
        "# name            Name\n",
        "# sex             Sex\n",
        "# age             Age\n",
        "# sibsp           Number of Siblings/Spouses Aboard\n",
        "# parch           Number of Parents/Children Aboard\n",
        "# ticket          Ticket Number\n",
        "# fare            Passenger Fare\n",
        "# cabin           Cabin\n",
        "# embarked        Port of Embarkation\n",
        "#                 (C = Cherbourg; Q = Queenstown; S = Southampton)"
      ],
      "metadata": {
        "trusted": true,
        "id": "0MAullKypnor"
      },
      "execution_count": null,
      "outputs": []
    },
    {
      "cell_type": "markdown",
      "source": [
        "After looking at the data for the first time, you should ask yourself a few questions:\n",
        "\n",
        "1. Do I need all of the variables?\n",
        "2. Should I transform any variables?\n",
        "3. Are there NA values, outliers or other strange values?\n",
        "4. Should I create new variables?\n",
        "\n",
        "For the rest of this lesson we will address each of these questions in the context of this data set."
      ],
      "metadata": {
        "id": "87Wq-ynBpnor"
      }
    },
    {
      "cell_type": "markdown",
      "source": [
        "## Do I Need All of the Variables?"
      ],
      "metadata": {
        "id": "vYhJmRZvpnor"
      }
    },
    {
      "cell_type": "markdown",
      "source": [
        "Getting rid of unnecessary variables is a good first step when dealing with any data set, since dropping variables reduces complexity and can make computation on the data faster. Whether you should get rid of a variable or not will depend on size of the data set and the goal of your analysis. With a data set as small as the Titanic data, there's no real need to drop variables from a computing perspective (we have plenty of memory and processing power to deal with such a small data set) but it can still be helpful to drop variables that will only distract from your goal.\n",
        "\n",
        "This data set is provided in conjunction with a predictive modeling competition where the goal is to use the training data to predict whether passengers of the titanic listed in a second data set survived or not. We won't be dealing with the second data set (known the test set) right now, but we will revisit this competition and make predictions in a future lesson on predictive modeling.\n",
        "\n",
        "Let's go through each variable and consider whether we should keep it or not in the context of predicting survival:\n",
        "\"PassengerId\" is just a number assigned to each passenger. It is nothing more than an arbitrary identifier; we could keep it for identification purposes, but let's remove it anyway:"
      ],
      "metadata": {
        "id": "wkCG4RVhpnor"
      }
    },
    {
      "cell_type": "code",
      "source": [
        "del titanic_train[\"PassengerId\"]     # Remove PassengerId"
      ],
      "metadata": {
        "execution": {
          "iopub.status.busy": "2024-08-22T08:30:12.278346Z",
          "iopub.execute_input": "2024-08-22T08:30:12.278648Z",
          "iopub.status.idle": "2024-08-22T08:30:12.283177Z",
          "shell.execute_reply.started": "2024-08-22T08:30:12.278603Z",
          "shell.execute_reply": "2024-08-22T08:30:12.282177Z"
        },
        "trusted": true,
        "id": "F09CQGgRpnos"
      },
      "execution_count": null,
      "outputs": []
    },
    {
      "cell_type": "markdown",
      "source": [
        "\"Survived\" indicates whether each passenger lived or died. Since predicting survival is our goal, we definitely need to keep it.\n",
        "\n",
        "Features that describe passengers numerically or group them into a few broad categories could be useful for predicting survival. The variables Pclass, Sex, Age, SibSp, Parch, Fare and Embarked appear to fit this description, so let's keep all of them.\n",
        "\n",
        "We have 3 more features to consider: Name, Ticket and Cabin.\n",
        "\n",
        "\"Name\" appears to be a character string of the name of each passenger. Let's look at name a little closer:"
      ],
      "metadata": {
        "id": "ww5YCq6spnos"
      }
    },
    {
      "cell_type": "code",
      "source": [
        "sorted(titanic_train[\"Name\"])[0:15]   # Check the first 15 sorted names"
      ],
      "metadata": {
        "execution": {
          "iopub.status.busy": "2024-08-22T08:30:16.647338Z",
          "iopub.execute_input": "2024-08-22T08:30:16.647635Z",
          "iopub.status.idle": "2024-08-22T08:30:16.653860Z",
          "shell.execute_reply.started": "2024-08-22T08:30:16.647589Z",
          "shell.execute_reply": "2024-08-22T08:30:16.653094Z"
        },
        "trusted": true,
        "id": "P8qUdfS2pnos",
        "outputId": "b8674b4a-8508-4f56-bba5-2328ee04b59a"
      },
      "execution_count": null,
      "outputs": [
        {
          "execution_count": 11,
          "output_type": "execute_result",
          "data": {
            "text/plain": "['Abbing, Mr. Anthony',\n 'Abbott, Mr. Rossmore Edward',\n 'Abbott, Mrs. Stanton (Rosa Hunt)',\n 'Abelson, Mr. Samuel',\n 'Abelson, Mrs. Samuel (Hannah Wizosky)',\n 'Adahl, Mr. Mauritz Nils Martin',\n 'Adams, Mr. John',\n 'Ahlin, Mrs. Johan (Johanna Persdotter Larsson)',\n 'Aks, Mrs. Sam (Leah Rosen)',\n 'Albimona, Mr. Nassef Cassem',\n 'Alexander, Mr. William',\n 'Alhomaki, Mr. Ilmari Rudolf',\n 'Ali, Mr. Ahmed',\n 'Ali, Mr. William',\n 'Allen, Miss. Elisabeth Walton']"
          },
          "metadata": {}
        }
      ]
    },
    {
      "cell_type": "code",
      "source": [
        "titanic_train[\"Name\"].describe()"
      ],
      "metadata": {
        "execution": {
          "iopub.status.busy": "2024-08-22T08:30:22.140340Z",
          "iopub.execute_input": "2024-08-22T08:30:22.140638Z",
          "iopub.status.idle": "2024-08-22T08:30:22.153559Z",
          "shell.execute_reply.started": "2024-08-22T08:30:22.140591Z",
          "shell.execute_reply": "2024-08-22T08:30:22.152366Z"
        },
        "trusted": true,
        "id": "S8-KdMlJpnos",
        "outputId": "6d382d5e-7c4e-40c4-c068-d9cfd249c0bd"
      },
      "execution_count": null,
      "outputs": [
        {
          "execution_count": 12,
          "output_type": "execute_result",
          "data": {
            "text/plain": "count                 891\nunique                891\ntop       Elias, Mr. Dibo\nfreq                    1\nName: Name, dtype: object"
          },
          "metadata": {}
        }
      ]
    },
    {
      "cell_type": "markdown",
      "source": [
        "From the output above, we see that the Name variable has 889 unique values. Since there are 889 rows in the data set we know each name is unique. It appears that married women have their maiden names listed in parentheses. In general, a categorical variable that is unique to each case isn't useful for prediction. We could extract last names to try to group family members together, but even then the number of categories would be very large. In addition, the Parch and SibSp variables already contain some information about family relationships, so from the perspective of predictive modeling, the Name variable could be removed. On the other hand, it can be nice to have some way to uniquely identify particular cases and names are interesting from a personal and historical perspective, so let's keep Name, knowing that we won't actually use it in any predictive models we make.\n",
        "\n",
        "Next, let's look closer at \"Ticket\":"
      ],
      "metadata": {
        "id": "-nzeLywapnot"
      }
    },
    {
      "cell_type": "code",
      "source": [
        "titanic_train[\"Ticket\"][0:15]       # Check the first 15 tickets"
      ],
      "metadata": {
        "execution": {
          "iopub.status.busy": "2024-08-22T08:30:27.262783Z",
          "iopub.execute_input": "2024-08-22T08:30:27.263107Z",
          "iopub.status.idle": "2024-08-22T08:30:27.270328Z",
          "shell.execute_reply.started": "2024-08-22T08:30:27.263058Z",
          "shell.execute_reply": "2024-08-22T08:30:27.269321Z"
        },
        "trusted": true,
        "id": "sG7TvFaipnot",
        "outputId": "6d165d98-f26f-46c9-857b-6cebea771077"
      },
      "execution_count": null,
      "outputs": [
        {
          "execution_count": 13,
          "output_type": "execute_result",
          "data": {
            "text/plain": "0            A/5 21171\n1             PC 17599\n2     STON/O2. 3101282\n3               113803\n4               373450\n5               330877\n6                17463\n7               349909\n8               347742\n9               237736\n10             PP 9549\n11              113783\n12           A/5. 2151\n13              347082\n14              350406\nName: Ticket, dtype: object"
          },
          "metadata": {}
        }
      ]
    },
    {
      "cell_type": "code",
      "source": [
        "titanic_train[\"Ticket\"].describe()"
      ],
      "metadata": {
        "execution": {
          "iopub.status.busy": "2024-08-22T08:30:39.284793Z",
          "iopub.execute_input": "2024-08-22T08:30:39.285136Z",
          "iopub.status.idle": "2024-08-22T08:30:39.297060Z",
          "shell.execute_reply.started": "2024-08-22T08:30:39.285082Z",
          "shell.execute_reply": "2024-08-22T08:30:39.296076Z"
        },
        "trusted": true,
        "id": "v_MLdQhepnot",
        "outputId": "df933340-ae1c-4c22-ed62-5dcfc74d341f"
      },
      "execution_count": null,
      "outputs": [
        {
          "execution_count": 14,
          "output_type": "execute_result",
          "data": {
            "text/plain": "count          891\nunique         681\ntop       CA. 2343\nfreq             7\nName: Ticket, dtype: object"
          },
          "metadata": {}
        }
      ]
    },
    {
      "cell_type": "markdown",
      "source": [
        "Ticket has 680 unique values: almost as many as there are passengers. Categorical variables with almost as many levels as there are records are often not very useful for prediction. We could try to reduce the number of levels by grouping certain tickets together, but the ticket numbers don't appear to follow any logical pattern we could use for grouping. Let's remove it:"
      ],
      "metadata": {
        "id": "GaHW-_jRpnot"
      }
    },
    {
      "cell_type": "code",
      "source": [
        "del titanic_train[\"Ticket\"]        # Remove Ticket"
      ],
      "metadata": {
        "execution": {
          "iopub.status.busy": "2024-08-22T08:30:46.417965Z",
          "iopub.execute_input": "2024-08-22T08:30:46.418282Z",
          "iopub.status.idle": "2024-08-22T08:30:46.422804Z",
          "shell.execute_reply.started": "2024-08-22T08:30:46.418234Z",
          "shell.execute_reply": "2024-08-22T08:30:46.421859Z"
        },
        "trusted": true,
        "id": "6SDAHSijpnot"
      },
      "execution_count": null,
      "outputs": []
    },
    {
      "cell_type": "markdown",
      "source": [
        "Finally let's consider the \"Cabin\" variable:"
      ],
      "metadata": {
        "id": "a0k9pT2opnot"
      }
    },
    {
      "cell_type": "code",
      "source": [
        "titanic_train[\"Cabin\"][0:15]       # Check the first 15 tickets"
      ],
      "metadata": {
        "execution": {
          "iopub.status.busy": "2024-08-22T08:30:50.040327Z",
          "iopub.execute_input": "2024-08-22T08:30:50.040612Z",
          "iopub.status.idle": "2024-08-22T08:30:50.047845Z",
          "shell.execute_reply.started": "2024-08-22T08:30:50.040568Z",
          "shell.execute_reply": "2024-08-22T08:30:50.046884Z"
        },
        "trusted": true,
        "id": "Pjr3s0LOpnou",
        "outputId": "9212579a-dd32-4c06-8958-f83c5757c306"
      },
      "execution_count": null,
      "outputs": [
        {
          "execution_count": 16,
          "output_type": "execute_result",
          "data": {
            "text/plain": "0      NaN\n1      C85\n2      NaN\n3     C123\n4      NaN\n5      NaN\n6      E46\n7      NaN\n8      NaN\n9      NaN\n10      G6\n11    C103\n12     NaN\n13     NaN\n14     NaN\nName: Cabin, dtype: object"
          },
          "metadata": {}
        }
      ]
    },
    {
      "cell_type": "code",
      "source": [
        "titanic_train[\"Cabin\"].describe()  # Check number of unique cabins"
      ],
      "metadata": {
        "execution": {
          "iopub.status.busy": "2024-08-21T15:08:08.407365Z",
          "iopub.execute_input": "2024-08-21T15:08:08.407728Z",
          "iopub.status.idle": "2024-08-21T15:08:08.420358Z",
          "shell.execute_reply.started": "2024-08-21T15:08:08.407676Z",
          "shell.execute_reply": "2024-08-21T15:08:08.419019Z"
        },
        "trusted": true,
        "id": "U268pFedpnou",
        "outputId": "661fadf1-1028-436f-afce-a9399bfb82b6"
      },
      "execution_count": null,
      "outputs": [
        {
          "execution_count": 19,
          "output_type": "execute_result",
          "data": {
            "text/plain": "count         204\nunique        147\ntop       B96 B98\nfreq            4\nName: Cabin, dtype: object"
          },
          "metadata": {}
        }
      ]
    },
    {
      "cell_type": "markdown",
      "source": [
        "Cabin also has 145 unique values, which indicates it may not be particularly useful for prediction. On the other hand, the names of the levels for the cabin variable seem to have a regular structure: each starts with a capital letter followed by a number. We could use that structure to reduce the number of levels to make categories large enough that they might be useful for prediction. Let's Keep Cabin for now.\n",
        "\n",
        "As you might have noticed, removing variables is often more of an art than a science. It is easiest to start simple: don't be afraid to remove (or simply ignore) confusing, messy or otherwise troublesome variables temporarily when you're just getting starting with an analysis or predictive modeling task. Data projects are iterative processes: you can start with a simple analysis or model using only a few variables and then expand later by adding more and more of the other variables you initially ignored or removed."
      ],
      "metadata": {
        "id": "542Tbhq7pnou"
      }
    },
    {
      "cell_type": "markdown",
      "source": [
        "## Should I Transform Any Variables?"
      ],
      "metadata": {
        "id": "gBjL-Mj5pnou"
      }
    },
    {
      "cell_type": "markdown",
      "source": [
        "When you first load a data set, some of the variables may be encoded as data types that don't fit well with what the data really is or what it means.\n",
        "\n",
        "For instance, Survived is just an integer variable that takes on the value 0 or 1 depending on whether a passenger died or survived respectively. Variables that indicate a state or the presence or absence of something with the numbers 0 and 1 are sometimes called indicator variables or dummy variables (0 indicates absence and 1 indicates presence.). Indicator variables are essentially just a shorthand for encoding a categorical variable with 2 levels. We could instead encode Survived as a categorical variable with more descriptive categories:"
      ],
      "metadata": {
        "id": "8tkf3JFRpnou"
      }
    },
    {
      "cell_type": "code",
      "source": [
        "new_survived = pd.Categorical(titanic_train[\"Survived\"])\n",
        "new_survived.describe()\n",
        "new_survived = new_survived.rename_categories([\"Died\",\"Survived\"])\n",
        "\n",
        "new_survived.describe()"
      ],
      "metadata": {
        "execution": {
          "iopub.status.busy": "2024-08-22T08:32:33.369247Z",
          "iopub.execute_input": "2024-08-22T08:32:33.369561Z",
          "iopub.status.idle": "2024-08-22T08:32:33.390306Z",
          "shell.execute_reply.started": "2024-08-22T08:32:33.369506Z",
          "shell.execute_reply": "2024-08-22T08:32:33.389342Z"
        },
        "trusted": true,
        "id": "cLhheSHnpnov",
        "outputId": "1119a997-e699-4614-a9d8-86157baa2791"
      },
      "execution_count": null,
      "outputs": [
        {
          "execution_count": 22,
          "output_type": "execute_result",
          "data": {
            "text/plain": "            counts     freqs\ncategories                  \nDied           549  0.616162\nSurvived       342  0.383838",
            "text/html": "<div>\n<style scoped>\n    .dataframe tbody tr th:only-of-type {\n        vertical-align: middle;\n    }\n\n    .dataframe tbody tr th {\n        vertical-align: top;\n    }\n\n    .dataframe thead th {\n        text-align: right;\n    }\n</style>\n<table border=\"1\" class=\"dataframe\">\n  <thead>\n    <tr style=\"text-align: right;\">\n      <th></th>\n      <th>counts</th>\n      <th>freqs</th>\n    </tr>\n    <tr>\n      <th>categories</th>\n      <th></th>\n      <th></th>\n    </tr>\n  </thead>\n  <tbody>\n    <tr>\n      <th>Died</th>\n      <td>549</td>\n      <td>0.616162</td>\n    </tr>\n    <tr>\n      <th>Survived</th>\n      <td>342</td>\n      <td>0.383838</td>\n    </tr>\n  </tbody>\n</table>\n</div>"
          },
          "metadata": {}
        }
      ]
    },
    {
      "cell_type": "markdown",
      "source": [
        "Survived looks a little nicer as categorical variable with appropriate category names, but even so, we're not going to change it. Why not? If you remember, our goal with this data set is predicting survival for the Kaggle competition. It turns out that when submitting predictions for the competition, the predictions need to be encoded as 0 or 1. It would only complicate things to transform Survived, only to convert it back to 0 and 1 later.\n",
        "\n",
        "There's one more variable that has a questionable data encoding: Pclass. Pclass is an integer that indicates a passenger's class, with 1 being first class, 2 being second class and 3 being third class. Passenger class is a category, so it doesn't make a lot of sense to encode it as a numeric variable. What's more 1st class would be considered \"above\" or \"higher\" than second class, but when encoded as an integer, 1 comes before 2. We can fix this by transforming Pclass into an ordered categorical variable:"
      ],
      "metadata": {
        "id": "jt63AST_pnov"
      }
    },
    {
      "cell_type": "code",
      "source": [
        "new_Pclass = pd.Categorical(titanic_train[\"Pclass\"],\n",
        "                           ordered=True)\n",
        "\n",
        "new_Pclass = new_Pclass.rename_categories([\"Class1\",\"Class2\",\"Class3\"])\n",
        "\n",
        "new_Pclass.describe()"
      ],
      "metadata": {
        "execution": {
          "iopub.status.busy": "2024-08-22T08:38:01.194834Z",
          "iopub.execute_input": "2024-08-22T08:38:01.195203Z",
          "iopub.status.idle": "2024-08-22T08:38:01.213410Z",
          "shell.execute_reply.started": "2024-08-22T08:38:01.195151Z",
          "shell.execute_reply": "2024-08-22T08:38:01.212555Z"
        },
        "trusted": true,
        "id": "d6jblWA0pnov",
        "outputId": "89bbb81c-ed59-45d8-b301-a660a6e89625"
      },
      "execution_count": null,
      "outputs": [
        {
          "execution_count": 25,
          "output_type": "execute_result",
          "data": {
            "text/plain": "            counts     freqs\ncategories                  \nClass1         216  0.242424\nClass2         184  0.206510\nClass3         491  0.551066",
            "text/html": "<div>\n<style scoped>\n    .dataframe tbody tr th:only-of-type {\n        vertical-align: middle;\n    }\n\n    .dataframe tbody tr th {\n        vertical-align: top;\n    }\n\n    .dataframe thead th {\n        text-align: right;\n    }\n</style>\n<table border=\"1\" class=\"dataframe\">\n  <thead>\n    <tr style=\"text-align: right;\">\n      <th></th>\n      <th>counts</th>\n      <th>freqs</th>\n    </tr>\n    <tr>\n      <th>categories</th>\n      <th></th>\n      <th></th>\n    </tr>\n  </thead>\n  <tbody>\n    <tr>\n      <th>Class1</th>\n      <td>216</td>\n      <td>0.242424</td>\n    </tr>\n    <tr>\n      <th>Class2</th>\n      <td>184</td>\n      <td>0.206510</td>\n    </tr>\n    <tr>\n      <th>Class3</th>\n      <td>491</td>\n      <td>0.551066</td>\n    </tr>\n  </tbody>\n</table>\n</div>"
          },
          "metadata": {}
        }
      ]
    },
    {
      "cell_type": "code",
      "source": [
        "titanic_train[\"Pclass\"] = new_Pclass"
      ],
      "metadata": {
        "execution": {
          "iopub.status.busy": "2024-08-22T08:46:41.331581Z",
          "iopub.execute_input": "2024-08-22T08:46:41.331910Z",
          "iopub.status.idle": "2024-08-22T08:46:41.336383Z",
          "shell.execute_reply.started": "2024-08-22T08:46:41.331860Z",
          "shell.execute_reply": "2024-08-22T08:46:41.335283Z"
        },
        "trusted": true,
        "id": "bWAuZM5vpno0"
      },
      "execution_count": null,
      "outputs": []
    },
    {
      "cell_type": "markdown",
      "source": [
        "Now it's time to revisit the Cabin variable. It appears that each Cabin is in a general section of the ship indicated by the capital letter at the start of each factor level:"
      ],
      "metadata": {
        "id": "cBjXzs2Zpno0"
      }
    },
    {
      "cell_type": "code",
      "source": [
        "titanic_train[\"Cabin\"].unique()   # Check unique cabins"
      ],
      "metadata": {
        "execution": {
          "iopub.status.busy": "2024-08-22T08:38:23.330541Z",
          "iopub.execute_input": "2024-08-22T08:38:23.330840Z",
          "iopub.status.idle": "2024-08-22T08:38:23.337151Z",
          "shell.execute_reply.started": "2024-08-22T08:38:23.330793Z",
          "shell.execute_reply": "2024-08-22T08:38:23.336204Z"
        },
        "trusted": true,
        "id": "WmBa5vIxpno0",
        "outputId": "43281d99-91ae-4e84-a93b-0e3a103b6529"
      },
      "execution_count": null,
      "outputs": [
        {
          "execution_count": 27,
          "output_type": "execute_result",
          "data": {
            "text/plain": "array([nan, 'C85', 'C123', 'E46', 'G6', 'C103', 'D56', 'A6',\n       'C23 C25 C27', 'B78', 'D33', 'B30', 'C52', 'B28', 'C83', 'F33',\n       'F G73', 'E31', 'A5', 'D10 D12', 'D26', 'C110', 'B58 B60', 'E101',\n       'F E69', 'D47', 'B86', 'F2', 'C2', 'E33', 'B19', 'A7', 'C49', 'F4',\n       'A32', 'B4', 'B80', 'A31', 'D36', 'D15', 'C93', 'C78', 'D35',\n       'C87', 'B77', 'E67', 'B94', 'C125', 'C99', 'C118', 'D7', 'A19',\n       'B49', 'D', 'C22 C26', 'C106', 'C65', 'E36', 'C54',\n       'B57 B59 B63 B66', 'C7', 'E34', 'C32', 'B18', 'C124', 'C91', 'E40',\n       'T', 'C128', 'D37', 'B35', 'E50', 'C82', 'B96 B98', 'E10', 'E44',\n       'A34', 'C104', 'C111', 'C92', 'E38', 'D21', 'E12', 'E63', 'A14',\n       'B37', 'C30', 'D20', 'B79', 'E25', 'D46', 'B73', 'C95', 'B38',\n       'B39', 'B22', 'C86', 'C70', 'A16', 'C101', 'C68', 'A10', 'E68',\n       'B41', 'A20', 'D19', 'D50', 'D9', 'A23', 'B50', 'A26', 'D48',\n       'E58', 'C126', 'B71', 'B51 B53 B55', 'D49', 'B5', 'B20', 'F G63',\n       'C62 C64', 'E24', 'C90', 'C45', 'E8', 'B101', 'D45', 'C46', 'D30',\n       'E121', 'D11', 'E77', 'F38', 'B3', 'D6', 'B82 B84', 'D17', 'A36',\n       'B102', 'B69', 'E49', 'C47', 'D28', 'E17', 'A24', 'C50', 'B42',\n       'C148'], dtype=object)"
          },
          "metadata": {}
        }
      ]
    },
    {
      "cell_type": "markdown",
      "source": [
        "If we grouped cabin just by this letter, we could reduce the number of levels while potentially extracting some useful information."
      ],
      "metadata": {
        "id": "h6plphBEpno1"
      }
    },
    {
      "cell_type": "code",
      "source": [
        "char_cabin = titanic_train[\"Cabin\"].astype(str) # Convert data to str\n",
        "\n",
        "new_Cabin = np.array([cabin[0] for cabin in char_cabin]) # Take first letter\n",
        "\n",
        "\n",
        "new_Cabin = pd.Categorical(new_Cabin)\n",
        "\n",
        "new_Cabin.describe()"
      ],
      "metadata": {
        "execution": {
          "iopub.status.busy": "2024-08-22T08:51:03.402662Z",
          "iopub.execute_input": "2024-08-22T08:51:03.403262Z",
          "iopub.status.idle": "2024-08-22T08:51:03.424109Z",
          "shell.execute_reply.started": "2024-08-22T08:51:03.402950Z",
          "shell.execute_reply": "2024-08-22T08:51:03.423310Z"
        },
        "trusted": true,
        "id": "cSh8Ealipno1",
        "outputId": "4b9e83ef-cef3-463a-e893-432d0784f5ad"
      },
      "execution_count": null,
      "outputs": [
        {
          "execution_count": 39,
          "output_type": "execute_result",
          "data": {
            "text/plain": "            counts     freqs\ncategories                  \nA               15  0.016835\nB               47  0.052750\nC               59  0.066218\nD               33  0.037037\nE               32  0.035915\nF               13  0.014590\nG                4  0.004489\nT                1  0.001122\nn              687  0.771044",
            "text/html": "<div>\n<style scoped>\n    .dataframe tbody tr th:only-of-type {\n        vertical-align: middle;\n    }\n\n    .dataframe tbody tr th {\n        vertical-align: top;\n    }\n\n    .dataframe thead th {\n        text-align: right;\n    }\n</style>\n<table border=\"1\" class=\"dataframe\">\n  <thead>\n    <tr style=\"text-align: right;\">\n      <th></th>\n      <th>counts</th>\n      <th>freqs</th>\n    </tr>\n    <tr>\n      <th>categories</th>\n      <th></th>\n      <th></th>\n    </tr>\n  </thead>\n  <tbody>\n    <tr>\n      <th>A</th>\n      <td>15</td>\n      <td>0.016835</td>\n    </tr>\n    <tr>\n      <th>B</th>\n      <td>47</td>\n      <td>0.052750</td>\n    </tr>\n    <tr>\n      <th>C</th>\n      <td>59</td>\n      <td>0.066218</td>\n    </tr>\n    <tr>\n      <th>D</th>\n      <td>33</td>\n      <td>0.037037</td>\n    </tr>\n    <tr>\n      <th>E</th>\n      <td>32</td>\n      <td>0.035915</td>\n    </tr>\n    <tr>\n      <th>F</th>\n      <td>13</td>\n      <td>0.014590</td>\n    </tr>\n    <tr>\n      <th>G</th>\n      <td>4</td>\n      <td>0.004489</td>\n    </tr>\n    <tr>\n      <th>T</th>\n      <td>1</td>\n      <td>0.001122</td>\n    </tr>\n    <tr>\n      <th>n</th>\n      <td>687</td>\n      <td>0.771044</td>\n    </tr>\n  </tbody>\n</table>\n</div>"
          },
          "metadata": {}
        }
      ]
    },
    {
      "cell_type": "markdown",
      "source": [
        "The output of describe() shows we succeeded in condensing Cabin into a handful of broader categories, but we also discovered something interesting: 688 of the records have Cabin are \"n\" which is shortened from \"nan\". In other words, more than 2/3 of the passengers do not have a cabin listed at all. Discovering and deciding how to handle these sorts of peculiarities is an important part working with data and there often isn't a single correct answer.\n",
        "\n",
        "Since there are so many missing values, the Cabin variable might be devoid of useful information for prediction. On the other hand, a missing cabin variable could be an indication that a passenger died: after all, how would we know what cabin a passenger stayed in if they weren't around to tell the tale?\n",
        "\n",
        "Let's keep the new cabin variable:"
      ],
      "metadata": {
        "id": "Ds37Bt8qpno1"
      }
    },
    {
      "cell_type": "code",
      "source": [
        "titanic_train[\"Cabin\"] = new_Cabin"
      ],
      "metadata": {
        "execution": {
          "iopub.status.busy": "2024-08-22T08:52:07.878158Z",
          "iopub.execute_input": "2024-08-22T08:52:07.878486Z",
          "iopub.status.idle": "2024-08-22T08:52:07.883796Z",
          "shell.execute_reply.started": "2024-08-22T08:52:07.878440Z",
          "shell.execute_reply": "2024-08-22T08:52:07.882402Z"
        },
        "trusted": true,
        "id": "FRO22K0Spno1"
      },
      "execution_count": null,
      "outputs": []
    },
    {
      "cell_type": "markdown",
      "source": [
        "This is as far as we'll go with transformations right now, but know that the transformations we've covered here are just the tip of the iceberg."
      ],
      "metadata": {
        "id": "yFkkuZp4pno1"
      }
    },
    {
      "cell_type": "markdown",
      "source": [
        "## Are there NA Values, Outliers or Other Strange Values?"
      ],
      "metadata": {
        "id": "hR12r1Hppno2"
      }
    },
    {
      "cell_type": "markdown",
      "source": [
        "Data sets are often littered with missing data, extreme data points called outliers and other strange values. Missing values, outliers and strange values can negatively affect statistical tests and models and may even cause certain functions to fail.\n",
        "\n",
        "In Python, you can detect missing values with the pd.isnull() function:"
      ],
      "metadata": {
        "id": "tJ5XeHaFpno2"
      }
    },
    {
      "cell_type": "code",
      "source": [
        "dummy_vector = pd.Series([1,None,3,None,7,8])\n",
        "\n",
        "dummy_vector.isnull()"
      ],
      "metadata": {
        "execution": {
          "iopub.status.busy": "2024-08-22T10:09:17.729094Z",
          "iopub.execute_input": "2024-08-22T10:09:17.729429Z",
          "iopub.status.idle": "2024-08-22T10:09:17.738166Z",
          "shell.execute_reply.started": "2024-08-22T10:09:17.729381Z",
          "shell.execute_reply": "2024-08-22T10:09:17.737292Z"
        },
        "trusted": true,
        "id": "GcfnGU-bpno2",
        "outputId": "96aca5b6-5246-44b6-fa8e-df4822417772"
      },
      "execution_count": null,
      "outputs": [
        {
          "execution_count": 62,
          "output_type": "execute_result",
          "data": {
            "text/plain": "0    False\n1     True\n2    False\n3     True\n4    False\n5    False\ndtype: bool"
          },
          "metadata": {}
        }
      ]
    },
    {
      "cell_type": "markdown",
      "source": [
        "Detecting missing values is the easy part: it is far more difficult to decide how to handle them. In cases where you have a lot of data and only a few missing values, it might make sense to simply delete records with missing values present. On the other hand, if you have more than a handful of missing values, removing records with missing values could cause you to get rid of a lot of data. Missing values in categorical data are not particularly troubling because you can simply treat NA as an additional category. Missing values in numeric variables are more troublesome, since you can't just treat a missing value as number. As it happens, the Titanic dataset has some NA's in the Age variable:"
      ],
      "metadata": {
        "id": "ch8HY8Pgpno2"
      }
    },
    {
      "cell_type": "code",
      "source": [
        "titanic_train[\"Age\"].describe()"
      ],
      "metadata": {
        "execution": {
          "iopub.status.busy": "2024-08-22T08:54:39.679574Z",
          "iopub.execute_input": "2024-08-22T08:54:39.679900Z",
          "iopub.status.idle": "2024-08-22T08:54:39.690280Z",
          "shell.execute_reply.started": "2024-08-22T08:54:39.679836Z",
          "shell.execute_reply": "2024-08-22T08:54:39.689266Z"
        },
        "trusted": true,
        "id": "djQ-6Roopno2",
        "outputId": "557253cb-4041-469b-8976-66f6ae47cfef"
      },
      "execution_count": null,
      "outputs": [
        {
          "execution_count": 44,
          "output_type": "execute_result",
          "data": {
            "text/plain": "count    714.000000\nmean      29.699118\nstd       14.526497\nmin        0.420000\n25%       20.125000\n50%       28.000000\n75%       38.000000\nmax       80.000000\nName: Age, dtype: float64"
          },
          "metadata": {}
        }
      ]
    },
    {
      "cell_type": "markdown",
      "source": [
        "Notice the count of age(712) is less than the total row count of hte data set(889). This indicates missing data. We can get the row indexes of the missing values with np.where():"
      ],
      "metadata": {
        "id": "uJbI4aiapno3"
      }
    },
    {
      "cell_type": "code",
      "source": [
        "missing = np.where(titanic_train[\"Age\"].isnull() == True)\n",
        "missing"
      ],
      "metadata": {
        "execution": {
          "iopub.status.busy": "2024-08-22T08:56:32.063026Z",
          "iopub.execute_input": "2024-08-22T08:56:32.063362Z",
          "iopub.status.idle": "2024-08-22T08:56:32.071882Z",
          "shell.execute_reply.started": "2024-08-22T08:56:32.063312Z",
          "shell.execute_reply": "2024-08-22T08:56:32.070920Z"
        },
        "trusted": true,
        "id": "UbSCRYGZpno3",
        "outputId": "541dbe77-4bae-4e72-bca9-988bde933e29"
      },
      "execution_count": null,
      "outputs": [
        {
          "execution_count": 47,
          "output_type": "execute_result",
          "data": {
            "text/plain": "(array([  5,  17,  19,  26,  28,  29,  31,  32,  36,  42,  45,  46,  47,\n         48,  55,  64,  65,  76,  77,  82,  87,  95, 101, 107, 109, 121,\n        126, 128, 140, 154, 158, 159, 166, 168, 176, 180, 181, 185, 186,\n        196, 198, 201, 214, 223, 229, 235, 240, 241, 250, 256, 260, 264,\n        270, 274, 277, 284, 295, 298, 300, 301, 303, 304, 306, 324, 330,\n        334, 335, 347, 351, 354, 358, 359, 364, 367, 368, 375, 384, 388,\n        409, 410, 411, 413, 415, 420, 425, 428, 431, 444, 451, 454, 457,\n        459, 464, 466, 468, 470, 475, 481, 485, 490, 495, 497, 502, 507,\n        511, 517, 522, 524, 527, 531, 533, 538, 547, 552, 557, 560, 563,\n        564, 568, 573, 578, 584, 589, 593, 596, 598, 601, 602, 611, 612,\n        613, 629, 633, 639, 643, 648, 650, 653, 656, 667, 669, 674, 680,\n        692, 697, 709, 711, 718, 727, 732, 738, 739, 740, 760, 766, 768,\n        773, 776, 778, 783, 790, 792, 793, 815, 825, 826, 828, 832, 837,\n        839, 846, 849, 859, 863, 868, 878, 888]),)"
          },
          "metadata": {}
        }
      ]
    },
    {
      "cell_type": "code",
      "source": [
        "len(missing[0])"
      ],
      "metadata": {
        "execution": {
          "iopub.status.busy": "2024-08-22T08:57:00.459829Z",
          "iopub.execute_input": "2024-08-22T08:57:00.460191Z",
          "iopub.status.idle": "2024-08-22T08:57:00.465605Z",
          "shell.execute_reply.started": "2024-08-22T08:57:00.460130Z",
          "shell.execute_reply": "2024-08-22T08:57:00.464666Z"
        },
        "trusted": true,
        "id": "99oG-D3epno3",
        "outputId": "99ac48b4-5ed9-45af-9ba9-a0fa92e0a8fc"
      },
      "execution_count": null,
      "outputs": [
        {
          "execution_count": 48,
          "output_type": "execute_result",
          "data": {
            "text/plain": "177"
          },
          "metadata": {}
        }
      ]
    },
    {
      "cell_type": "markdown",
      "source": [
        "With 177 missing values it's probably not a good idea to throw all those records away. Here are a few ways we could deal with them:\n",
        "\n",
        "1. Replace the null values with 0s\n",
        "2. Replace the null values with some central value like the mean or median\n",
        "3. Impute some other value\n",
        "4. Split the data set into two parts: one set with where records have an Age value and another set where age is null.\n",
        "\n",
        "Setting missing values in numeric data to zero makes sense in some cases, but it doesn't make any sense here because a person's age can't be zero. Setting all ages to some central number like the median is a simple fix but there's no telling whether such a central number is a reasonable estimate of age without looking at the distribution of ages. For all we know each age is equally common. We can quickly get a sense of the distribution of ages by creating a histogram of the age variable with df.hist():"
      ],
      "metadata": {
        "id": "BjzhSbN5pno3"
      }
    },
    {
      "cell_type": "code",
      "source": [
        "titanic_train.hist(column='Age',    # Column to plot\n",
        "                   figsize=(9,6),   # Plot size\n",
        "                   bins=20)         # Number of histogram bins"
      ],
      "metadata": {
        "execution": {
          "iopub.status.busy": "2024-08-22T10:11:20.058431Z",
          "iopub.execute_input": "2024-08-22T10:11:20.058770Z",
          "iopub.status.idle": "2024-08-22T10:11:20.469733Z",
          "shell.execute_reply.started": "2024-08-22T10:11:20.058714Z",
          "shell.execute_reply": "2024-08-22T10:11:20.468734Z"
        },
        "trusted": true,
        "id": "y4vMlT2Xpno3",
        "outputId": "fd63d424-ee1a-41cc-8027-b97e2fae0ffa"
      },
      "execution_count": null,
      "outputs": [
        {
          "execution_count": 65,
          "output_type": "execute_result",
          "data": {
            "text/plain": "array([[<matplotlib.axes._subplots.AxesSubplot object at 0x79aba425b630>]],\n      dtype=object)"
          },
          "metadata": {}
        },
        {
          "output_type": "display_data",
          "data": {
            "text/plain": "<Figure size 648x432 with 1 Axes>",
            "image/png": "[encoded data removed]"
          },
          "metadata": {}
        }
      ]
    },
    {
      "cell_type": "markdown",
      "source": [
        "From the histogram, we see that ages between 20 and 30 are the most common, so filling in missing values with a central number like the mean or median wouldn't be entirely unreasonable. Let's fill in the missing values with the median value of 28:"
      ],
      "metadata": {
        "id": "wqJD_m63pno3"
      }
    },
    {
      "cell_type": "code",
      "source": [
        "new_age_var = np.where(titanic_train[\"Age\"].isnull(), # Logical check\n",
        "                       28,                       # Value if check is true\n",
        "                       titanic_train[\"Age\"])     # Value if check is false\n",
        "\n",
        "titanic_train[\"Age\"] = new_age_var\n",
        "\n",
        "titanic_train[\"Age\"].describe()"
      ],
      "metadata": {
        "execution": {
          "iopub.status.busy": "2024-08-22T10:13:12.568786Z",
          "iopub.execute_input": "2024-08-22T10:13:12.569141Z",
          "iopub.status.idle": "2024-08-22T10:13:12.582139Z",
          "shell.execute_reply.started": "2024-08-22T10:13:12.569091Z",
          "shell.execute_reply": "2024-08-22T10:13:12.581308Z"
        },
        "trusted": true,
        "id": "5sHijDU5pno4",
        "outputId": "67d40eca-a24b-4f9a-b6b6-f1d82b30ba0f"
      },
      "execution_count": null,
      "outputs": [
        {
          "execution_count": 66,
          "output_type": "execute_result",
          "data": {
            "text/plain": "count    891.000000\nmean      29.361582\nstd       13.019697\nmin        0.420000\n25%       22.000000\n50%       28.000000\n75%       35.000000\nmax       80.000000\nName: Age, dtype: float64"
          },
          "metadata": {}
        }
      ]
    },
    {
      "cell_type": "code",
      "source": [
        "missing = np.where(titanic_train[\"Age\"].isnull() == True)\n",
        "missing"
      ],
      "metadata": {
        "execution": {
          "iopub.status.busy": "2024-08-22T10:13:55.662665Z",
          "iopub.execute_input": "2024-08-22T10:13:55.663233Z",
          "iopub.status.idle": "2024-08-22T10:13:55.669649Z",
          "shell.execute_reply.started": "2024-08-22T10:13:55.662964Z",
          "shell.execute_reply": "2024-08-22T10:13:55.668893Z"
        },
        "trusted": true,
        "id": "u181WMzMpno4",
        "outputId": "19a9a63a-769b-479c-dd97-efc98cd06817"
      },
      "execution_count": null,
      "outputs": [
        {
          "execution_count": 67,
          "output_type": "execute_result",
          "data": {
            "text/plain": "(array([], dtype=int64),)"
          },
          "metadata": {}
        }
      ]
    },
    {
      "cell_type": "markdown",
      "source": [
        "Since we just added a bunch of 28s to age, let's look at the histogram again for a sanity check. The bar representing 28 to be much taller this time."
      ],
      "metadata": {
        "id": "z3IW9gMvpno4"
      }
    },
    {
      "cell_type": "code",
      "source": [
        "titanic_train.hist(column='Age',    # Column to plot\n",
        "                   figsize=(9,6),   # Plot size\n",
        "                   bins=20)         # Number of histogram bins"
      ],
      "metadata": {
        "execution": {
          "iopub.status.busy": "2024-08-22T10:14:24.468833Z",
          "iopub.execute_input": "2024-08-22T10:14:24.469183Z",
          "iopub.status.idle": "2024-08-22T10:14:24.869132Z",
          "shell.execute_reply.started": "2024-08-22T10:14:24.469122Z",
          "shell.execute_reply": "2024-08-22T10:14:24.868182Z"
        },
        "trusted": true,
        "id": "RzJv7FZYpno4",
        "outputId": "be030378-8f27-4763-f469-78d14cb17063"
      },
      "execution_count": null,
      "outputs": [
        {
          "execution_count": 68,
          "output_type": "execute_result",
          "data": {
            "text/plain": "array([[<matplotlib.axes._subplots.AxesSubplot object at 0x79aba405a4a8>]],\n      dtype=object)"
          },
          "metadata": {}
        },
        {
          "output_type": "display_data",
          "data": {
            "text/plain": "<Figure size 648x432 with 1 Axes>",
            "image/png": "[encoded data removed]"
          },
          "metadata": {}
        }
      ]
    },
    {
      "cell_type": "markdown",
      "source": [
        "Some of the ages we assigned are probably way off, but it might be better than throwing entire records away. In practice, imputing the missing data (estimating age based on other variables) might have been a better option, but we'll stick with this for now.\n",
        "\n",
        "Next, let's consider outliers. Outliers are extreme numerical values: values that lie far away from the typical values a variable takes on. Creating plots is one of the quickest ways to detect outliers. For instance, the histogram above shows that 1 or 2 passengers were near age 80. Ages near 80 are uncommon for this data set, but in looking at the general shape of the data seeing one or two 80 year olds doesn't seem particularly surprising.\n",
        "\n",
        "Now let's investigate the \"Fare\" variable. This time we'll use a boxplot, since boxplots are designed to show the spread of the data and help identify outliers:"
      ],
      "metadata": {
        "id": "5e-PCFa1pno5"
      }
    },
    {
      "cell_type": "code",
      "source": [
        "titanic_train[\"Fare\"].plot(kind=\"box\",\n",
        "                           figsize=(9,9),\n",
        "                          color = 'Blue')"
      ],
      "metadata": {
        "execution": {
          "iopub.status.busy": "2024-08-22T10:17:08.039916Z",
          "iopub.execute_input": "2024-08-22T10:17:08.040254Z",
          "iopub.status.idle": "2024-08-22T10:17:08.366476Z",
          "shell.execute_reply.started": "2024-08-22T10:17:08.040204Z",
          "shell.execute_reply": "2024-08-22T10:17:08.365463Z"
        },
        "trusted": true,
        "id": "FsXW9Ww5pno5",
        "outputId": "6fdec4f2-69db-433a-b4b3-c14ea90b1d0f"
      },
      "execution_count": null,
      "outputs": [
        {
          "execution_count": 70,
          "output_type": "execute_result",
          "data": {
            "text/plain": "<matplotlib.axes._subplots.AxesSubplot at 0x79ab96479748>"
          },
          "metadata": {}
        },
        {
          "output_type": "display_data",
          "data": {
            "text/plain": "<Figure size 648x648 with 1 Axes>",
            "image/png": "[encoded data removed]"
          },
          "metadata": {}
        }
      ]
    },
    {
      "cell_type": "markdown",
      "source": [
        "In a boxplot, the central box represents 50% of the data and the central bar represents the median. The dotted lines with bars on the ends are \"whiskers\" which encompass the great majority of the data and points beyond the whiskers indicate uncommon values. In this case, we have some uncommon values that are so far away from the typical value that the box appears squashed in the plot: this is a clear indication of outliers. Indeed, it looks like one passenger paid almost twice as much as any other passenger. Even the passengers that paid between 200 and 300 are far higher than the vast majority of the other passengers.\n",
        "\n",
        "For interest's sake, let's check the name of this high roller:"
      ],
      "metadata": {
        "id": "3Tn82KIJpno5"
      }
    },
    {
      "cell_type": "code",
      "source": [
        "index = np.where(titanic_train[\"Fare\"] == max(titanic_train[\"Fare\"]) )\n",
        "print(index)\n",
        "\n",
        "titanic_train.loc[index]"
      ],
      "metadata": {
        "execution": {
          "iopub.status.busy": "2024-08-22T10:23:05.750079Z",
          "iopub.execute_input": "2024-08-22T10:23:05.750385Z",
          "iopub.status.idle": "2024-08-22T10:23:05.783237Z",
          "shell.execute_reply.started": "2024-08-22T10:23:05.750340Z",
          "shell.execute_reply": "2024-08-22T10:23:05.782372Z"
        },
        "trusted": true,
        "id": "GUSasZwSpno5",
        "outputId": "3b824d4e-60fe-4c16-d643-e8fea8941aa4"
      },
      "execution_count": null,
      "outputs": [
        {
          "name": "stdout",
          "text": "(array([258, 679, 737]),)\n",
          "output_type": "stream"
        },
        {
          "execution_count": 77,
          "output_type": "execute_result",
          "data": {
            "text/plain": "     Survived  Pclass   ...    Cabin Embarked\n258         1  Class1   ...        n        C\n679         1  Class1   ...        B        C\n737         1  Class1   ...        B        C\n\n[3 rows x 10 columns]",
            "text/html": "<div>\n<style scoped>\n    .dataframe tbody tr th:only-of-type {\n        vertical-align: middle;\n    }\n\n    .dataframe tbody tr th {\n        vertical-align: top;\n    }\n\n    .dataframe thead th {\n        text-align: right;\n    }\n</style>\n<table border=\"1\" class=\"dataframe\">\n  <thead>\n    <tr style=\"text-align: right;\">\n      <th></th>\n      <th>Survived</th>\n      <th>Pclass</th>\n      <th>Name</th>\n      <th>Sex</th>\n      <th>Age</th>\n      <th>SibSp</th>\n      <th>Parch</th>\n      <th>Fare</th>\n      <th>Cabin</th>\n      <th>Embarked</th>\n    </tr>\n  </thead>\n  <tbody>\n    <tr>\n      <th>258</th>\n      <td>1</td>\n      <td>Class1</td>\n      <td>Ward, Miss. Anna</td>\n      <td>female</td>\n      <td>35.0</td>\n      <td>0</td>\n      <td>0</td>\n      <td>512.3292</td>\n      <td>n</td>\n      <td>C</td>\n    </tr>\n    <tr>\n      <th>679</th>\n      <td>1</td>\n      <td>Class1</td>\n      <td>Cardeza, Mr. Thomas Drake Martinez</td>\n      <td>male</td>\n      <td>36.0</td>\n      <td>0</td>\n      <td>1</td>\n      <td>512.3292</td>\n      <td>B</td>\n      <td>C</td>\n    </tr>\n    <tr>\n      <th>737</th>\n      <td>1</td>\n      <td>Class1</td>\n      <td>Lesurer, Mr. Gustave J</td>\n      <td>male</td>\n      <td>35.0</td>\n      <td>0</td>\n      <td>0</td>\n      <td>512.3292</td>\n      <td>B</td>\n      <td>C</td>\n    </tr>\n  </tbody>\n</table>\n</div>"
          },
          "metadata": {}
        }
      ]
    },
    {
      "cell_type": "markdown",
      "source": [
        "In the graph there appears to be one passenger who paid more than all the others, but the output above shows that there were actually three passengers who all paid the same high fare.\n",
        "\n",
        "Similar to NA values, there's no single cure for outliers. You can keep them, delete them or transform them in some way to try to reduce their impact. Even if you decide to keep outliers unchanged it is still worth identifying them since they can have disproportionately large influence on your results. Let's keep the three high rollers unchanged.\n",
        "\n",
        "Data sets can have other strange values beyond missing values and outliers that you may need to address. Sometimes data is mislabeled or simply erroneous; bad data can corrupt any sort of analysis so it is important to address these sorts of issues before doing too much work."
      ],
      "metadata": {
        "id": "_ly363gZpno5"
      }
    },
    {
      "cell_type": "markdown",
      "source": [
        "## Should I Create New Variables?"
      ],
      "metadata": {
        "id": "LNusywyPpno6"
      }
    },
    {
      "cell_type": "markdown",
      "source": [
        "The variables present when you load a data set aren't always the most useful variables for analysis. Creating new variables that are derivations or combinations existing ones is a common step to take before jumping into an analysis or modeling task.\n",
        "\n",
        "For example, imagine you are analyzing web site auctions where one of the data fields is a text description of the item being sold. A raw block of text is difficult to use in any sort of analysis, but you could create new variables from it such as a variable storing the length of the description or variables indicating the presence of certain keywords.\n",
        "\n",
        "Creating a new variable can be as simple as taking one variable and adding, multiplying or dividing by another. Let's create a new variable, Family, that combines SibSp and Parch to indicate the total number of family members (siblings, spouses, parents and children) a passenger has on board:"
      ],
      "metadata": {
        "id": "gPJ7yXPBpno6"
      }
    },
    {
      "cell_type": "code",
      "source": [
        "titanic_train[\"Family\"] = titanic_train[\"SibSp\"] + titanic_train[\"Parch\"]"
      ],
      "metadata": {
        "execution": {
          "iopub.status.busy": "2024-08-22T10:26:21.423815Z",
          "iopub.execute_input": "2024-08-22T10:26:21.424152Z",
          "iopub.status.idle": "2024-08-22T10:26:21.429635Z",
          "shell.execute_reply.started": "2024-08-22T10:26:21.424102Z",
          "shell.execute_reply": "2024-08-22T10:26:21.428459Z"
        },
        "trusted": true,
        "id": "zNT3eZL2pno6"
      },
      "execution_count": null,
      "outputs": []
    },
    {
      "cell_type": "markdown",
      "source": [
        "For interest's sake, let's find out who had the most family members on board:"
      ],
      "metadata": {
        "id": "YclJR_LTpno6"
      }
    },
    {
      "cell_type": "code",
      "source": [
        "most_family = np.where(titanic_train[\"Family\"] == max(titanic_train[\"Family\"]))\n",
        "\n",
        "titanic_train.loc[most_family]"
      ],
      "metadata": {
        "execution": {
          "iopub.status.busy": "2024-08-22T10:26:38.921544Z",
          "iopub.execute_input": "2024-08-22T10:26:38.921892Z",
          "iopub.status.idle": "2024-08-22T10:26:38.957144Z",
          "shell.execute_reply.started": "2024-08-22T10:26:38.921828Z",
          "shell.execute_reply": "2024-08-22T10:26:38.956155Z"
        },
        "trusted": true,
        "id": "g2nw99B_pno6",
        "outputId": "63ce9f81-36e8-41f6-e56b-ed915812b155"
      },
      "execution_count": null,
      "outputs": [
        {
          "execution_count": 79,
          "output_type": "execute_result",
          "data": {
            "text/plain": "     Survived  Pclass  ...   Embarked Family\n159         0  Class3  ...          S     10\n180         0  Class3  ...          S     10\n201         0  Class3  ...          S     10\n324         0  Class3  ...          S     10\n792         0  Class3  ...          S     10\n846         0  Class3  ...          S     10\n863         0  Class3  ...          S     10\n\n[7 rows x 11 columns]",
            "text/html": "<div>\n<style scoped>\n    .dataframe tbody tr th:only-of-type {\n        vertical-align: middle;\n    }\n\n    .dataframe tbody tr th {\n        vertical-align: top;\n    }\n\n    .dataframe thead th {\n        text-align: right;\n    }\n</style>\n<table border=\"1\" class=\"dataframe\">\n  <thead>\n    <tr style=\"text-align: right;\">\n      <th></th>\n      <th>Survived</th>\n      <th>Pclass</th>\n      <th>Name</th>\n      <th>Sex</th>\n      <th>Age</th>\n      <th>SibSp</th>\n      <th>Parch</th>\n      <th>Fare</th>\n      <th>Cabin</th>\n      <th>Embarked</th>\n      <th>Family</th>\n    </tr>\n  </thead>\n  <tbody>\n    <tr>\n      <th>159</th>\n      <td>0</td>\n      <td>Class3</td>\n      <td>Sage, Master. Thomas Henry</td>\n      <td>male</td>\n      <td>28.0</td>\n      <td>8</td>\n      <td>2</td>\n      <td>69.55</td>\n      <td>n</td>\n      <td>S</td>\n      <td>10</td>\n    </tr>\n    <tr>\n      <th>180</th>\n      <td>0</td>\n      <td>Class3</td>\n      <td>Sage, Miss. Constance Gladys</td>\n      <td>female</td>\n      <td>28.0</td>\n      <td>8</td>\n      <td>2</td>\n      <td>69.55</td>\n      <td>n</td>\n      <td>S</td>\n      <td>10</td>\n    </tr>\n    <tr>\n      <th>201</th>\n      <td>0</td>\n      <td>Class3</td>\n      <td>Sage, Mr. Frederick</td>\n      <td>male</td>\n      <td>28.0</td>\n      <td>8</td>\n      <td>2</td>\n      <td>69.55</td>\n      <td>n</td>\n      <td>S</td>\n      <td>10</td>\n    </tr>\n    <tr>\n      <th>324</th>\n      <td>0</td>\n      <td>Class3</td>\n      <td>Sage, Mr. George John Jr</td>\n      <td>male</td>\n      <td>28.0</td>\n      <td>8</td>\n      <td>2</td>\n      <td>69.55</td>\n      <td>n</td>\n      <td>S</td>\n      <td>10</td>\n    </tr>\n    <tr>\n      <th>792</th>\n      <td>0</td>\n      <td>Class3</td>\n      <td>Sage, Miss. Stella Anna</td>\n      <td>female</td>\n      <td>28.0</td>\n      <td>8</td>\n      <td>2</td>\n      <td>69.55</td>\n      <td>n</td>\n      <td>S</td>\n      <td>10</td>\n    </tr>\n    <tr>\n      <th>846</th>\n      <td>0</td>\n      <td>Class3</td>\n      <td>Sage, Mr. Douglas Bullen</td>\n      <td>male</td>\n      <td>28.0</td>\n      <td>8</td>\n      <td>2</td>\n      <td>69.55</td>\n      <td>n</td>\n      <td>S</td>\n      <td>10</td>\n    </tr>\n    <tr>\n      <th>863</th>\n      <td>0</td>\n      <td>Class3</td>\n      <td>Sage, Miss. Dorothy Edith \"Dolly\"</td>\n      <td>female</td>\n      <td>28.0</td>\n      <td>8</td>\n      <td>2</td>\n      <td>69.55</td>\n      <td>n</td>\n      <td>S</td>\n      <td>10</td>\n    </tr>\n  </tbody>\n</table>\n</div>"
          },
          "metadata": {}
        }
      ]
    },
    {
      "cell_type": "markdown",
      "source": [
        "There were 7 people on board with 8 siblings/spouses and 2 parents/children--they were probably all siblings of one another. Tragically, all 7 of them passed away. The 8th sibling is likely in the test data for which we are supposed make predictions. Would you predict that the final sibling survived or died?"
      ],
      "metadata": {
        "id": "lg1-sLgNpno7"
      }
    },
    {
      "cell_type": "markdown",
      "source": [
        "## Wrap Up"
      ],
      "metadata": {
        "id": "Ce1WiOwcpno7"
      }
    },
    {
      "cell_type": "markdown",
      "source": [
        "In this lesson, we covered several general questions you should address when you first inspect a data set. Your first goal should be to explore the structure of the data to clean it and prepare the variables for your analysis. Once your data is it the right form, you can move from exploring structure to investigating relationships between variables. Since data cleaning and formatting is a vital and often time-consuming part of data analysis, it is important that we spend some time learning how to work with different types of data. Over the next few lessons, we'll learn about cleaning and preprocessing text data, numeric data and dates."
      ],
      "metadata": {
        "id": "EdjQO4jYpno7"
      }
    }
  ]
}