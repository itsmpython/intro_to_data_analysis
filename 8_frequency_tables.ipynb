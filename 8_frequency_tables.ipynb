{
  "metadata": {
    "kernelspec": {
      "display_name": "Python 3",
      "language": "python",
      "name": "python3"
    },
    "language_info": {
      "name": "python",
      "version": "3.6.6",
      "mimetype": "text/x-python",
      "codemirror_mode": {
        "name": "ipython",
        "version": 3
      },
      "pygments_lexer": "ipython3",
      "nbconvert_exporter": "python",
      "file_extension": ".py"
    },
    "kaggle": {
      "accelerator": "none",
      "dataSources": [
        {
          "sourceId": 3136,
          "databundleVersionId": 26502,
          "sourceType": "competition"
        }
      ],
      "dockerImageVersionId": 24140,
      "isInternetEnabled": false,
      "language": "python",
      "sourceType": "notebook",
      "isGpuEnabled": false
    },
    "colab": {
      "provenance": []
    }
  },
  "nbformat_minor": 0,
  "nbformat": 4,
  "cells": [
    {
      "cell_type": "markdown",
      "source": [
        "# Frequency Tables"
      ],
      "metadata": {
        "_uuid": "8f2839f25d086af736a60e9eeb907d3b93b6e0e5",
        "_cell_guid": "b1076dfc-b9ad-4769-8c92-a6c4dae69d19",
        "trusted": true,
        "id": "CnNjswncFSNt"
      }
    },
    {
      "cell_type": "markdown",
      "source": [
        "Discovering relationships between variables is the fundamental goal of data analysis. Frequency tables are a basic tool you can use to explore data and get an idea of the relationships between variables. A frequency table is just a data table that shows the counts of one or more categorical variables.\n",
        "\n",
        "To explore frequency tables, we'll revisit the Titanic training set. We will start by performing a couple of the same preprocessing steps from lesson 14:"
      ],
      "metadata": {
        "_cell_guid": "79c7e3d0-c299-4dcb-8224-4455121ee9b0",
        "_uuid": "d629ff2d2480ee46fbb7e2d37f6b5fab8052498a",
        "id": "FNMva7BIFSNu"
      }
    },
    {
      "cell_type": "code",
      "source": [
        "import numpy as np\n",
        "import pandas as pd"
      ],
      "metadata": {
        "execution": {
          "iopub.status.busy": "2024-08-26T13:36:47.910010Z",
          "iopub.execute_input": "2024-08-26T13:36:47.910651Z",
          "iopub.status.idle": "2024-08-26T13:36:47.920902Z",
          "shell.execute_reply.started": "2024-08-26T13:36:47.910549Z",
          "shell.execute_reply": "2024-08-26T13:36:47.919361Z"
        },
        "trusted": true,
        "id": "3anHLUQgFSNv"
      },
      "execution_count": null,
      "outputs": []
    },
    {
      "cell_type": "code",
      "source": [
        "titanic_train = pd.read_csv(\"../input/train.csv\")      # Read the data\n",
        "\n",
        "char_cabin = titanic_train[\"Cabin\"].astype(str)    # Convert cabin to str\n",
        "\n",
        "new_Cabin = np.array([cabin[0] for cabin in char_cabin]) # Take first letter\n",
        "\n",
        "titanic_train[\"Cabin\"] = pd.Categorical(new_Cabin)  # Save the new cabin var"
      ],
      "metadata": {
        "execution": {
          "iopub.status.busy": "2024-08-26T13:36:59.757820Z",
          "iopub.execute_input": "2024-08-26T13:36:59.758179Z",
          "iopub.status.idle": "2024-08-26T13:36:59.804483Z",
          "shell.execute_reply.started": "2024-08-26T13:36:59.758121Z",
          "shell.execute_reply": "2024-08-26T13:36:59.803233Z"
        },
        "trusted": true,
        "id": "mU-D-KJXFSNw"
      },
      "execution_count": null,
      "outputs": []
    },
    {
      "cell_type": "markdown",
      "source": [
        "## One-Way Tables"
      ],
      "metadata": {
        "id": "d6D_rpAbFSNw"
      }
    },
    {
      "cell_type": "markdown",
      "source": [
        "Create frequency tables (also known as crosstabs) in pandas using the pd.crosstab() function. The function takes one or more array-like objects as indexes or columns and then constructs a new DataFrame of variable counts based on the supplied arrays. Let's make a one-way table of the survived variable:"
      ],
      "metadata": {
        "id": "naHI5w_wFSNx"
      }
    },
    {
      "cell_type": "code",
      "source": [
        "my_tab = pd.crosstab(index=titanic_train[\"Survived\"],  # Make a crosstab\n",
        "                     columns=\"count\")                  # Name the count column\n",
        "\n",
        "my_tab"
      ],
      "metadata": {
        "execution": {
          "iopub.status.busy": "2024-08-26T13:42:27.287025Z",
          "iopub.execute_input": "2024-08-26T13:42:27.287437Z",
          "iopub.status.idle": "2024-08-26T13:42:27.337438Z",
          "shell.execute_reply.started": "2024-08-26T13:42:27.287381Z",
          "shell.execute_reply": "2024-08-26T13:42:27.336201Z"
        },
        "trusted": true,
        "id": "DojfPs0lFSNx",
        "outputId": "32644678-6384-4e12-e0ab-5eee8e762daf"
      },
      "execution_count": null,
      "outputs": [
        {
          "execution_count": 3,
          "output_type": "execute_result",
          "data": {
            "text/plain": "col_0     count\nSurvived       \n0           549\n1           342",
            "text/html": "<div>\n<style scoped>\n    .dataframe tbody tr th:only-of-type {\n        vertical-align: middle;\n    }\n\n    .dataframe tbody tr th {\n        vertical-align: top;\n    }\n\n    .dataframe thead th {\n        text-align: right;\n    }\n</style>\n<table border=\"1\" class=\"dataframe\">\n  <thead>\n    <tr style=\"text-align: right;\">\n      <th>col_0</th>\n      <th>count</th>\n    </tr>\n    <tr>\n      <th>Survived</th>\n      <th></th>\n    </tr>\n  </thead>\n  <tbody>\n    <tr>\n      <th>0</th>\n      <td>549</td>\n    </tr>\n    <tr>\n      <th>1</th>\n      <td>342</td>\n    </tr>\n  </tbody>\n</table>\n</div>"
          },
          "metadata": {}
        }
      ]
    },
    {
      "cell_type": "code",
      "source": [
        "type(my_tab)             # Confirm that the crosstab is a DataFrame"
      ],
      "metadata": {
        "execution": {
          "iopub.status.busy": "2024-08-26T13:46:17.716384Z",
          "iopub.execute_input": "2024-08-26T13:46:17.716953Z",
          "iopub.status.idle": "2024-08-26T13:46:17.724109Z",
          "shell.execute_reply.started": "2024-08-26T13:46:17.716870Z",
          "shell.execute_reply": "2024-08-26T13:46:17.723092Z"
        },
        "trusted": true,
        "id": "8LnrxDVDFSNy",
        "outputId": "361d626b-4285-4237-eb51-95508e798752"
      },
      "execution_count": null,
      "outputs": [
        {
          "execution_count": 4,
          "output_type": "execute_result",
          "data": {
            "text/plain": "pandas.core.frame.DataFrame"
          },
          "metadata": {}
        }
      ]
    },
    {
      "cell_type": "markdown",
      "source": [
        "Let's make a couple more crosstabs to explore other variables:"
      ],
      "metadata": {
        "id": "IKrmXmNmFSNz"
      }
    },
    {
      "cell_type": "code",
      "source": [
        "pd.crosstab(index=titanic_train[\"Pclass\"],  # Make a crosstab\n",
        "            columns=\"count\")                # Name the count column"
      ],
      "metadata": {
        "execution": {
          "iopub.status.busy": "2024-08-26T13:46:22.495489Z",
          "iopub.execute_input": "2024-08-26T13:46:22.495887Z",
          "iopub.status.idle": "2024-08-26T13:46:22.528709Z",
          "shell.execute_reply.started": "2024-08-26T13:46:22.495820Z",
          "shell.execute_reply": "2024-08-26T13:46:22.527407Z"
        },
        "trusted": true,
        "id": "rOMlZsCxFSNz",
        "outputId": "b055b3ae-01fa-45a5-96a9-2025efa024cf"
      },
      "execution_count": null,
      "outputs": [
        {
          "execution_count": 5,
          "output_type": "execute_result",
          "data": {
            "text/plain": "col_0   count\nPclass       \n1         216\n2         184\n3         491",
            "text/html": "<div>\n<style scoped>\n    .dataframe tbody tr th:only-of-type {\n        vertical-align: middle;\n    }\n\n    .dataframe tbody tr th {\n        vertical-align: top;\n    }\n\n    .dataframe thead th {\n        text-align: right;\n    }\n</style>\n<table border=\"1\" class=\"dataframe\">\n  <thead>\n    <tr style=\"text-align: right;\">\n      <th>col_0</th>\n      <th>count</th>\n    </tr>\n    <tr>\n      <th>Pclass</th>\n      <th></th>\n    </tr>\n  </thead>\n  <tbody>\n    <tr>\n      <th>1</th>\n      <td>216</td>\n    </tr>\n    <tr>\n      <th>2</th>\n      <td>184</td>\n    </tr>\n    <tr>\n      <th>3</th>\n      <td>491</td>\n    </tr>\n  </tbody>\n</table>\n</div>"
          },
          "metadata": {}
        }
      ]
    },
    {
      "cell_type": "code",
      "source": [
        "pd.crosstab(index=titanic_train[\"Sex\"],     # Make a crosstab\n",
        "                      columns=\"count\")      # Name the count column"
      ],
      "metadata": {
        "execution": {
          "iopub.status.busy": "2024-08-26T13:46:27.620486Z",
          "iopub.execute_input": "2024-08-26T13:46:27.621002Z",
          "iopub.status.idle": "2024-08-26T13:46:27.665564Z",
          "shell.execute_reply.started": "2024-08-26T13:46:27.620922Z",
          "shell.execute_reply": "2024-08-26T13:46:27.661977Z"
        },
        "trusted": true,
        "id": "JuQ9gc5fFSN0",
        "outputId": "4129352a-33cc-4f4d-d352-1c7b60fefe2b"
      },
      "execution_count": null,
      "outputs": [
        {
          "execution_count": 6,
          "output_type": "execute_result",
          "data": {
            "text/plain": "col_0   count\nSex          \nfemale    314\nmale      577",
            "text/html": "<div>\n<style scoped>\n    .dataframe tbody tr th:only-of-type {\n        vertical-align: middle;\n    }\n\n    .dataframe tbody tr th {\n        vertical-align: top;\n    }\n\n    .dataframe thead th {\n        text-align: right;\n    }\n</style>\n<table border=\"1\" class=\"dataframe\">\n  <thead>\n    <tr style=\"text-align: right;\">\n      <th>col_0</th>\n      <th>count</th>\n    </tr>\n    <tr>\n      <th>Sex</th>\n      <th></th>\n    </tr>\n  </thead>\n  <tbody>\n    <tr>\n      <th>female</th>\n      <td>314</td>\n    </tr>\n    <tr>\n      <th>male</th>\n      <td>577</td>\n    </tr>\n  </tbody>\n</table>\n</div>"
          },
          "metadata": {}
        }
      ]
    },
    {
      "cell_type": "code",
      "source": [
        "cabin_tab = pd.crosstab(index=titanic_train[\"Cabin\"],  # Make a crosstab\n",
        "                        columns=\"count\")               # Name the count column\n",
        "\n",
        "cabin_tab"
      ],
      "metadata": {
        "execution": {
          "iopub.status.busy": "2024-08-26T13:46:29.920288Z",
          "iopub.execute_input": "2024-08-26T13:46:29.920751Z",
          "iopub.status.idle": "2024-08-26T13:46:29.960166Z",
          "shell.execute_reply.started": "2024-08-26T13:46:29.920655Z",
          "shell.execute_reply": "2024-08-26T13:46:29.959115Z"
        },
        "trusted": true,
        "id": "vRVxeTjcFSN0",
        "outputId": "638a86d4-6eec-4c04-f5e3-0fa12d2336c2"
      },
      "execution_count": null,
      "outputs": [
        {
          "execution_count": 7,
          "output_type": "execute_result",
          "data": {
            "text/plain": "col_0  count\nCabin       \nA         15\nB         47\nC         59\nD         33\nE         32\nF         13\nG          4\nT          1\nn        687",
            "text/html": "<div>\n<style scoped>\n    .dataframe tbody tr th:only-of-type {\n        vertical-align: middle;\n    }\n\n    .dataframe tbody tr th {\n        vertical-align: top;\n    }\n\n    .dataframe thead th {\n        text-align: right;\n    }\n</style>\n<table border=\"1\" class=\"dataframe\">\n  <thead>\n    <tr style=\"text-align: right;\">\n      <th>col_0</th>\n      <th>count</th>\n    </tr>\n    <tr>\n      <th>Cabin</th>\n      <th></th>\n    </tr>\n  </thead>\n  <tbody>\n    <tr>\n      <th>A</th>\n      <td>15</td>\n    </tr>\n    <tr>\n      <th>B</th>\n      <td>47</td>\n    </tr>\n    <tr>\n      <th>C</th>\n      <td>59</td>\n    </tr>\n    <tr>\n      <th>D</th>\n      <td>33</td>\n    </tr>\n    <tr>\n      <th>E</th>\n      <td>32</td>\n    </tr>\n    <tr>\n      <th>F</th>\n      <td>13</td>\n    </tr>\n    <tr>\n      <th>G</th>\n      <td>4</td>\n    </tr>\n    <tr>\n      <th>T</th>\n      <td>1</td>\n    </tr>\n    <tr>\n      <th>n</th>\n      <td>687</td>\n    </tr>\n  </tbody>\n</table>\n</div>"
          },
          "metadata": {}
        }
      ]
    },
    {
      "cell_type": "markdown",
      "source": [
        "You can also use the value_counts() function to on a pandas series (a single column) to check its counts:"
      ],
      "metadata": {
        "id": "ra9ByN-6FSN0"
      }
    },
    {
      "cell_type": "code",
      "source": [
        "titanic_train.Sex.value_counts()"
      ],
      "metadata": {
        "execution": {
          "iopub.status.busy": "2024-08-26T10:56:40.064058Z",
          "iopub.execute_input": "2024-08-26T10:56:40.064480Z",
          "iopub.status.idle": "2024-08-26T10:56:40.075210Z",
          "shell.execute_reply.started": "2024-08-26T10:56:40.064409Z",
          "shell.execute_reply": "2024-08-26T10:56:40.074066Z"
        },
        "trusted": true,
        "id": "p0bJGhZvFSN0",
        "outputId": "fd8376cc-b4c6-412c-e276-4d74b804f3ef"
      },
      "execution_count": null,
      "outputs": [
        {
          "execution_count": 11,
          "output_type": "execute_result",
          "data": {
            "text/plain": "male      577\nfemale    314\nName: Sex, dtype: int64"
          },
          "metadata": {}
        }
      ]
    },
    {
      "cell_type": "markdown",
      "source": [
        "Even these simple one-way tables give us some useful insight: we immediately get a sense of distribution of records across the categories. For instance, we see that males outnumbered females by a significant margin and that there were more third class passengers than first and second class passengers combined.\n",
        "\n",
        "If you pass a variable with many unique values to table(), such a numeric variable, it will still produce a table of counts for each unique value, but the counts may not be particularly meaningful.\n",
        "\n",
        "Since the crosstab function produces DataFrames, the DataFrame operations we've learned work on crosstabs:"
      ],
      "metadata": {
        "id": "y9ZF-QU8FSN1"
      }
    },
    {
      "cell_type": "code",
      "source": [
        "print (cabin_tab.sum(), \"\\n\")   # Sum the counts\n",
        "\n",
        "print (cabin_tab.shape, \"\\n\")   # Check number of rows and cols\n",
        "\n",
        "cabin_tab.iloc[1:7]             # Slice rows 1-6"
      ],
      "metadata": {
        "execution": {
          "iopub.status.busy": "2024-08-26T13:49:41.718915Z",
          "iopub.execute_input": "2024-08-26T13:49:41.719324Z",
          "iopub.status.idle": "2024-08-26T13:49:41.739290Z",
          "shell.execute_reply.started": "2024-08-26T13:49:41.719266Z",
          "shell.execute_reply": "2024-08-26T13:49:41.738145Z"
        },
        "trusted": true,
        "id": "7SPE_vOTFSN1",
        "outputId": "1e7ee2e8-6a45-4366-a684-937213c6b4ad"
      },
      "execution_count": null,
      "outputs": [
        {
          "name": "stdout",
          "text": "col_0\ncount    891\ndtype: int64 \n\n(9, 1) \n\n",
          "output_type": "stream"
        },
        {
          "execution_count": 8,
          "output_type": "execute_result",
          "data": {
            "text/plain": "col_0  count\nCabin       \nB         47\nC         59\nD         33\nE         32\nF         13\nG          4",
            "text/html": "<div>\n<style scoped>\n    .dataframe tbody tr th:only-of-type {\n        vertical-align: middle;\n    }\n\n    .dataframe tbody tr th {\n        vertical-align: top;\n    }\n\n    .dataframe thead th {\n        text-align: right;\n    }\n</style>\n<table border=\"1\" class=\"dataframe\">\n  <thead>\n    <tr style=\"text-align: right;\">\n      <th>col_0</th>\n      <th>count</th>\n    </tr>\n    <tr>\n      <th>Cabin</th>\n      <th></th>\n    </tr>\n  </thead>\n  <tbody>\n    <tr>\n      <th>B</th>\n      <td>47</td>\n    </tr>\n    <tr>\n      <th>C</th>\n      <td>59</td>\n    </tr>\n    <tr>\n      <th>D</th>\n      <td>33</td>\n    </tr>\n    <tr>\n      <th>E</th>\n      <td>32</td>\n    </tr>\n    <tr>\n      <th>F</th>\n      <td>13</td>\n    </tr>\n    <tr>\n      <th>G</th>\n      <td>4</td>\n    </tr>\n  </tbody>\n</table>\n</div>"
          },
          "metadata": {}
        }
      ]
    },
    {
      "cell_type": "markdown",
      "source": [
        "One of the most useful aspects of frequency tables is that they allow you to extract the proportion of the data that belongs to each category. With a one-way table, you can do this by dividing each table value by the total number of records in the table:"
      ],
      "metadata": {
        "id": "CZgbP1t6FSN1"
      }
    },
    {
      "cell_type": "code",
      "source": [
        "cabin_tab/cabin_tab.sum()"
      ],
      "metadata": {
        "execution": {
          "iopub.status.busy": "2024-08-26T13:50:35.209757Z",
          "iopub.execute_input": "2024-08-26T13:50:35.210209Z",
          "iopub.status.idle": "2024-08-26T13:50:35.348265Z",
          "shell.execute_reply.started": "2024-08-26T13:50:35.210133Z",
          "shell.execute_reply": "2024-08-26T13:50:35.346945Z"
        },
        "trusted": true,
        "id": "hfWTkyohFSN1",
        "outputId": "9ae890ff-6d5f-4b84-f2b0-24ce54b047f8"
      },
      "execution_count": null,
      "outputs": [
        {
          "execution_count": 9,
          "output_type": "execute_result",
          "data": {
            "text/plain": "col_0     count\nCabin          \nA      0.016835\nB      0.052750\nC      0.066218\nD      0.037037\nE      0.035915\nF      0.014590\nG      0.004489\nT      0.001122\nn      0.771044",
            "text/html": "<div>\n<style scoped>\n    .dataframe tbody tr th:only-of-type {\n        vertical-align: middle;\n    }\n\n    .dataframe tbody tr th {\n        vertical-align: top;\n    }\n\n    .dataframe thead th {\n        text-align: right;\n    }\n</style>\n<table border=\"1\" class=\"dataframe\">\n  <thead>\n    <tr style=\"text-align: right;\">\n      <th>col_0</th>\n      <th>count</th>\n    </tr>\n    <tr>\n      <th>Cabin</th>\n      <th></th>\n    </tr>\n  </thead>\n  <tbody>\n    <tr>\n      <th>A</th>\n      <td>0.016835</td>\n    </tr>\n    <tr>\n      <th>B</th>\n      <td>0.052750</td>\n    </tr>\n    <tr>\n      <th>C</th>\n      <td>0.066218</td>\n    </tr>\n    <tr>\n      <th>D</th>\n      <td>0.037037</td>\n    </tr>\n    <tr>\n      <th>E</th>\n      <td>0.035915</td>\n    </tr>\n    <tr>\n      <th>F</th>\n      <td>0.014590</td>\n    </tr>\n    <tr>\n      <th>G</th>\n      <td>0.004489</td>\n    </tr>\n    <tr>\n      <th>T</th>\n      <td>0.001122</td>\n    </tr>\n    <tr>\n      <th>n</th>\n      <td>0.771044</td>\n    </tr>\n  </tbody>\n</table>\n</div>"
          },
          "metadata": {}
        }
      ]
    },
    {
      "cell_type": "markdown",
      "source": [
        "## Two-Way Tables"
      ],
      "metadata": {
        "id": "trf_Q0Y3FSN1"
      }
    },
    {
      "cell_type": "markdown",
      "source": [
        "Two-way frequency tables, also called contingency tables, are tables of counts with two dimensions where each dimension is a different variable. Two-way tables can give you insight into the relationship between two variables. To create a two way table, pass two variables to the pd.crosstab() function instead of one:"
      ],
      "metadata": {
        "id": "cCR_XcwlFSN2"
      }
    },
    {
      "cell_type": "code",
      "source": [
        "# Table of survival vs. sex\n",
        "survived_sex = pd.crosstab(index=titanic_train[\"Survived\"],\n",
        "                           columns=titanic_train[\"Sex\"])\n",
        "\n",
        "survived_sex.index= [\"died\",\"survived\"]\n",
        "\n",
        "survived_sex"
      ],
      "metadata": {
        "execution": {
          "iopub.status.busy": "2024-08-26T14:07:16.533584Z",
          "iopub.execute_input": "2024-08-26T14:07:16.534045Z",
          "iopub.status.idle": "2024-08-26T14:07:16.570456Z",
          "shell.execute_reply.started": "2024-08-26T14:07:16.533987Z",
          "shell.execute_reply": "2024-08-26T14:07:16.569260Z"
        },
        "trusted": true,
        "id": "MgIv7i-DFSN2",
        "outputId": "22bffa03-967c-43d3-8da5-a2742a9d425f"
      },
      "execution_count": null,
      "outputs": [
        {
          "execution_count": 15,
          "output_type": "execute_result",
          "data": {
            "text/plain": "Sex       female  male\ndied          81   468\nsurvived     233   109",
            "text/html": "<div>\n<style scoped>\n    .dataframe tbody tr th:only-of-type {\n        vertical-align: middle;\n    }\n\n    .dataframe tbody tr th {\n        vertical-align: top;\n    }\n\n    .dataframe thead th {\n        text-align: right;\n    }\n</style>\n<table border=\"1\" class=\"dataframe\">\n  <thead>\n    <tr style=\"text-align: right;\">\n      <th>Sex</th>\n      <th>female</th>\n      <th>male</th>\n    </tr>\n  </thead>\n  <tbody>\n    <tr>\n      <th>died</th>\n      <td>81</td>\n      <td>468</td>\n    </tr>\n    <tr>\n      <th>survived</th>\n      <td>233</td>\n      <td>109</td>\n    </tr>\n  </tbody>\n</table>\n</div>"
          },
          "metadata": {}
        }
      ]
    },
    {
      "cell_type": "code",
      "source": [
        "# Table of survival vs passenger class\n",
        "survived_class = pd.crosstab(index=titanic_train[\"Survived\"],\n",
        "                            columns=titanic_train[\"Pclass\"])\n",
        "\n",
        "survived_class.columns = [\"class1\",\"class2\",\"class3\"]\n",
        "survived_class.index= [\"died\",\"survived\"]\n",
        "\n",
        "survived_class"
      ],
      "metadata": {
        "execution": {
          "iopub.status.busy": "2024-08-26T14:07:19.990655Z",
          "iopub.execute_input": "2024-08-26T14:07:19.991041Z",
          "iopub.status.idle": "2024-08-26T14:07:20.029943Z",
          "shell.execute_reply.started": "2024-08-26T14:07:19.990981Z",
          "shell.execute_reply": "2024-08-26T14:07:20.029078Z"
        },
        "trusted": true,
        "id": "9aGI0tx-FSN2",
        "outputId": "e0e16407-a17d-4924-dd44-874f03c04191"
      },
      "execution_count": null,
      "outputs": [
        {
          "execution_count": 16,
          "output_type": "execute_result",
          "data": {
            "text/plain": "          class1  class2  class3\ndied          80      97     372\nsurvived     136      87     119",
            "text/html": "<div>\n<style scoped>\n    .dataframe tbody tr th:only-of-type {\n        vertical-align: middle;\n    }\n\n    .dataframe tbody tr th {\n        vertical-align: top;\n    }\n\n    .dataframe thead th {\n        text-align: right;\n    }\n</style>\n<table border=\"1\" class=\"dataframe\">\n  <thead>\n    <tr style=\"text-align: right;\">\n      <th></th>\n      <th>class1</th>\n      <th>class2</th>\n      <th>class3</th>\n    </tr>\n  </thead>\n  <tbody>\n    <tr>\n      <th>died</th>\n      <td>80</td>\n      <td>97</td>\n      <td>372</td>\n    </tr>\n    <tr>\n      <th>survived</th>\n      <td>136</td>\n      <td>87</td>\n      <td>119</td>\n    </tr>\n  </tbody>\n</table>\n</div>"
          },
          "metadata": {}
        }
      ]
    },
    {
      "cell_type": "markdown",
      "source": [
        "You can get the marginal counts (totals for each row and column) by including the argument margins=True:"
      ],
      "metadata": {
        "id": "fw4uo3-xFSN2"
      }
    },
    {
      "cell_type": "code",
      "source": [
        "# Table of survival vs passenger class\n",
        "survived_class = pd.crosstab(index=titanic_train[\"Survived\"],\n",
        "                            columns=titanic_train[\"Pclass\"],\n",
        "                             margins=True)   # Include row and column totals\n",
        "\n",
        "survived_class.columns = [\"class1\",\"class2\",\"class3\",\"rowtotal\"]\n",
        "survived_class.index= [\"died\",\"survived\",\"coltotal\"]\n",
        "\n",
        "survived_class"
      ],
      "metadata": {
        "execution": {
          "iopub.status.busy": "2024-08-26T14:08:44.542058Z",
          "iopub.execute_input": "2024-08-26T14:08:44.542475Z",
          "iopub.status.idle": "2024-08-26T14:08:44.613838Z",
          "shell.execute_reply.started": "2024-08-26T14:08:44.542412Z",
          "shell.execute_reply": "2024-08-26T14:08:44.612174Z"
        },
        "trusted": true,
        "id": "P3R5GM_1FSN3",
        "outputId": "a213b80d-a7c5-4634-8f1a-eb2dc13855a2"
      },
      "execution_count": null,
      "outputs": [
        {
          "execution_count": 18,
          "output_type": "execute_result",
          "data": {
            "text/plain": "          class1  class2  class3  rowtotal\ndied          80      97     372       549\nsurvived     136      87     119       342\ncoltotal     216     184     491       891",
            "text/html": "<div>\n<style scoped>\n    .dataframe tbody tr th:only-of-type {\n        vertical-align: middle;\n    }\n\n    .dataframe tbody tr th {\n        vertical-align: top;\n    }\n\n    .dataframe thead th {\n        text-align: right;\n    }\n</style>\n<table border=\"1\" class=\"dataframe\">\n  <thead>\n    <tr style=\"text-align: right;\">\n      <th></th>\n      <th>class1</th>\n      <th>class2</th>\n      <th>class3</th>\n      <th>rowtotal</th>\n    </tr>\n  </thead>\n  <tbody>\n    <tr>\n      <th>died</th>\n      <td>80</td>\n      <td>97</td>\n      <td>372</td>\n      <td>549</td>\n    </tr>\n    <tr>\n      <th>survived</th>\n      <td>136</td>\n      <td>87</td>\n      <td>119</td>\n      <td>342</td>\n    </tr>\n    <tr>\n      <th>coltotal</th>\n      <td>216</td>\n      <td>184</td>\n      <td>491</td>\n      <td>891</td>\n    </tr>\n  </tbody>\n</table>\n</div>"
          },
          "metadata": {}
        }
      ]
    },
    {
      "cell_type": "markdown",
      "source": [
        "To get the total proportion of counts in each cell, divide the table by the grand total:"
      ],
      "metadata": {
        "id": "81mSwOtzFSN3"
      }
    },
    {
      "cell_type": "code",
      "source": [
        "survived_class/survived_class.loc[\"coltotal\",\"rowtotal\"]"
      ],
      "metadata": {
        "execution": {
          "iopub.status.busy": "2024-08-26T14:09:33.377091Z",
          "iopub.execute_input": "2024-08-26T14:09:33.377532Z",
          "iopub.status.idle": "2024-08-26T14:09:33.399840Z",
          "shell.execute_reply.started": "2024-08-26T14:09:33.377462Z",
          "shell.execute_reply": "2024-08-26T14:09:33.398391Z"
        },
        "trusted": true,
        "id": "g0hsqwIIFSN3",
        "outputId": "31eb3b24-afaa-438c-e8dc-27d93a9ce7bb"
      },
      "execution_count": null,
      "outputs": [
        {
          "execution_count": 20,
          "output_type": "execute_result",
          "data": {
            "text/plain": "            class1    class2    class3  rowtotal\ndied      0.089787  0.108866  0.417508  0.616162\nsurvived  0.152637  0.097643  0.133558  0.383838\ncoltotal  0.242424  0.206510  0.551066  1.000000",
            "text/html": "<div>\n<style scoped>\n    .dataframe tbody tr th:only-of-type {\n        vertical-align: middle;\n    }\n\n    .dataframe tbody tr th {\n        vertical-align: top;\n    }\n\n    .dataframe thead th {\n        text-align: right;\n    }\n</style>\n<table border=\"1\" class=\"dataframe\">\n  <thead>\n    <tr style=\"text-align: right;\">\n      <th></th>\n      <th>class1</th>\n      <th>class2</th>\n      <th>class3</th>\n      <th>rowtotal</th>\n    </tr>\n  </thead>\n  <tbody>\n    <tr>\n      <th>died</th>\n      <td>0.089787</td>\n      <td>0.108866</td>\n      <td>0.417508</td>\n      <td>0.616162</td>\n    </tr>\n    <tr>\n      <th>survived</th>\n      <td>0.152637</td>\n      <td>0.097643</td>\n      <td>0.133558</td>\n      <td>0.383838</td>\n    </tr>\n    <tr>\n      <th>coltotal</th>\n      <td>0.242424</td>\n      <td>0.206510</td>\n      <td>0.551066</td>\n      <td>1.000000</td>\n    </tr>\n  </tbody>\n</table>\n</div>"
          },
          "metadata": {}
        }
      ]
    },
    {
      "cell_type": "markdown",
      "source": [
        "To get the proportion of counts along each column (in this case, the survival rate within each passenger class) divide by the column totals:"
      ],
      "metadata": {
        "id": "OoJBG5SAFSN3"
      }
    },
    {
      "cell_type": "code",
      "source": [
        "survived_class/survived_class.loc[\"coltotal\"]"
      ],
      "metadata": {
        "execution": {
          "iopub.status.busy": "2024-08-26T14:13:13.738640Z",
          "iopub.execute_input": "2024-08-26T14:13:13.739108Z",
          "iopub.status.idle": "2024-08-26T14:13:13.764394Z",
          "shell.execute_reply.started": "2024-08-26T14:13:13.739031Z",
          "shell.execute_reply": "2024-08-26T14:13:13.762705Z"
        },
        "trusted": true,
        "id": "OAu4OjhgFSN3",
        "outputId": "fe9ee0c0-f02c-4be9-baab-ec471dbe8c54"
      },
      "execution_count": null,
      "outputs": [
        {
          "execution_count": 22,
          "output_type": "execute_result",
          "data": {
            "text/plain": "           class1    class2    class3  rowtotal\ndied      0.37037  0.527174  0.757637  0.616162\nsurvived  0.62963  0.472826  0.242363  0.383838\ncoltotal  1.00000  1.000000  1.000000  1.000000",
            "text/html": "<div>\n<style scoped>\n    .dataframe tbody tr th:only-of-type {\n        vertical-align: middle;\n    }\n\n    .dataframe tbody tr th {\n        vertical-align: top;\n    }\n\n    .dataframe thead th {\n        text-align: right;\n    }\n</style>\n<table border=\"1\" class=\"dataframe\">\n  <thead>\n    <tr style=\"text-align: right;\">\n      <th></th>\n      <th>class1</th>\n      <th>class2</th>\n      <th>class3</th>\n      <th>rowtotal</th>\n    </tr>\n  </thead>\n  <tbody>\n    <tr>\n      <th>died</th>\n      <td>0.37037</td>\n      <td>0.527174</td>\n      <td>0.757637</td>\n      <td>0.616162</td>\n    </tr>\n    <tr>\n      <th>survived</th>\n      <td>0.62963</td>\n      <td>0.472826</td>\n      <td>0.242363</td>\n      <td>0.383838</td>\n    </tr>\n    <tr>\n      <th>coltotal</th>\n      <td>1.00000</td>\n      <td>1.000000</td>\n      <td>1.000000</td>\n      <td>1.000000</td>\n    </tr>\n  </tbody>\n</table>\n</div>"
          },
          "metadata": {}
        }
      ]
    },
    {
      "cell_type": "markdown",
      "source": [
        "To get the proportion of counts along each row divide by the row totals. The division operator functions on a row-by-row basis when used on DataFrames by default. In this case we want to divide each column by the rowtotals column. To get division to work on a column by column basis, use df.div() with the axis set to 0:"
      ],
      "metadata": {
        "id": "sdnVXQeVFSN4"
      }
    },
    {
      "cell_type": "code",
      "source": [
        "survived_class.div(survived_class[\"rowtotal\"],\n",
        "                   axis=0)"
      ],
      "metadata": {
        "execution": {
          "iopub.status.busy": "2024-08-26T14:16:40.585270Z",
          "iopub.execute_input": "2024-08-26T14:16:40.585661Z",
          "iopub.status.idle": "2024-08-26T14:16:40.607390Z",
          "shell.execute_reply.started": "2024-08-26T14:16:40.585605Z",
          "shell.execute_reply": "2024-08-26T14:16:40.606072Z"
        },
        "trusted": true,
        "id": "BlSeWhj6FSN4",
        "outputId": "0593aaaa-4be0-49cd-faf5-1a6925a54ffa"
      },
      "execution_count": null,
      "outputs": [
        {
          "execution_count": 23,
          "output_type": "execute_result",
          "data": {
            "text/plain": "            class1    class2    class3  rowtotal\ndied      0.145719  0.176685  0.677596       1.0\nsurvived  0.397661  0.254386  0.347953       1.0\ncoltotal  0.242424  0.206510  0.551066       1.0",
            "text/html": "<div>\n<style scoped>\n    .dataframe tbody tr th:only-of-type {\n        vertical-align: middle;\n    }\n\n    .dataframe tbody tr th {\n        vertical-align: top;\n    }\n\n    .dataframe thead th {\n        text-align: right;\n    }\n</style>\n<table border=\"1\" class=\"dataframe\">\n  <thead>\n    <tr style=\"text-align: right;\">\n      <th></th>\n      <th>class1</th>\n      <th>class2</th>\n      <th>class3</th>\n      <th>rowtotal</th>\n    </tr>\n  </thead>\n  <tbody>\n    <tr>\n      <th>died</th>\n      <td>0.145719</td>\n      <td>0.176685</td>\n      <td>0.677596</td>\n      <td>1.0</td>\n    </tr>\n    <tr>\n      <th>survived</th>\n      <td>0.397661</td>\n      <td>0.254386</td>\n      <td>0.347953</td>\n      <td>1.0</td>\n    </tr>\n    <tr>\n      <th>coltotal</th>\n      <td>0.242424</td>\n      <td>0.206510</td>\n      <td>0.551066</td>\n      <td>1.0</td>\n    </tr>\n  </tbody>\n</table>\n</div>"
          },
          "metadata": {}
        }
      ]
    },
    {
      "cell_type": "markdown",
      "source": [
        "Alternatively, you can transpose the table with df.T to swap rows and columns and perform row by row division as normal:"
      ],
      "metadata": {
        "id": "MMMutNZ3FSN4"
      }
    },
    {
      "cell_type": "code",
      "source": [
        "survived_class.T/survived_class[\"rowtotal\"]"
      ],
      "metadata": {
        "execution": {
          "iopub.status.busy": "2024-08-26T14:17:31.184421Z",
          "iopub.execute_input": "2024-08-26T14:17:31.184833Z",
          "iopub.status.idle": "2024-08-26T14:17:31.205174Z",
          "shell.execute_reply.started": "2024-08-26T14:17:31.184773Z",
          "shell.execute_reply": "2024-08-26T14:17:31.203687Z"
        },
        "trusted": true,
        "id": "swxLWuhbFSN4",
        "outputId": "24f0c6b0-f2b1-46f3-b75e-cb0fac27eb98"
      },
      "execution_count": null,
      "outputs": [
        {
          "execution_count": 24,
          "output_type": "execute_result",
          "data": {
            "text/plain": "              died  survived  coltotal\nclass1    0.145719  0.397661  0.242424\nclass2    0.176685  0.254386  0.206510\nclass3    0.677596  0.347953  0.551066\nrowtotal  1.000000  1.000000  1.000000",
            "text/html": "<div>\n<style scoped>\n    .dataframe tbody tr th:only-of-type {\n        vertical-align: middle;\n    }\n\n    .dataframe tbody tr th {\n        vertical-align: top;\n    }\n\n    .dataframe thead th {\n        text-align: right;\n    }\n</style>\n<table border=\"1\" class=\"dataframe\">\n  <thead>\n    <tr style=\"text-align: right;\">\n      <th></th>\n      <th>died</th>\n      <th>survived</th>\n      <th>coltotal</th>\n    </tr>\n  </thead>\n  <tbody>\n    <tr>\n      <th>class1</th>\n      <td>0.145719</td>\n      <td>0.397661</td>\n      <td>0.242424</td>\n    </tr>\n    <tr>\n      <th>class2</th>\n      <td>0.176685</td>\n      <td>0.254386</td>\n      <td>0.206510</td>\n    </tr>\n    <tr>\n      <th>class3</th>\n      <td>0.677596</td>\n      <td>0.347953</td>\n      <td>0.551066</td>\n    </tr>\n    <tr>\n      <th>rowtotal</th>\n      <td>1.000000</td>\n      <td>1.000000</td>\n      <td>1.000000</td>\n    </tr>\n  </tbody>\n</table>\n</div>"
          },
          "metadata": {}
        }
      ]
    },
    {
      "cell_type": "markdown",
      "source": [
        "## Higher Dimensional Tables"
      ],
      "metadata": {
        "id": "zlFyW3H4FSN4"
      }
    },
    {
      "cell_type": "markdown",
      "source": [
        "The crosstab() function lets you create tables out of more than two categories. Higher dimensional tables can be a little confusing to look at, but they can also yield finer-grained insight into interactions between multiple variables. Let's create a 3-way table inspecting survival, sex and passenger class:"
      ],
      "metadata": {
        "id": "AbpTT-kgFSN4"
      }
    },
    {
      "cell_type": "code",
      "source": [
        "surv_sex_class = pd.crosstab(index=titanic_train[\"Survived\"],\n",
        "                             columns=[titanic_train[\"Pclass\"],\n",
        "                                      titanic_train[\"Sex\"]],\n",
        "                             margins=True)   # Include row and column totals\n",
        "\n",
        "surv_sex_class.index= [\"died\",\"survived\",\"All\"]\n",
        "surv_sex_class"
      ],
      "metadata": {
        "execution": {
          "iopub.status.busy": "2024-08-26T14:22:28.144183Z",
          "iopub.execute_input": "2024-08-26T14:22:28.144530Z",
          "iopub.status.idle": "2024-08-26T14:22:28.236603Z",
          "shell.execute_reply.started": "2024-08-26T14:22:28.144477Z",
          "shell.execute_reply": "2024-08-26T14:22:28.235459Z"
        },
        "trusted": true,
        "id": "0mDGgGaEFSN4",
        "outputId": "a7dc145a-b9dd-4bef-b932-5fc461933fa8"
      },
      "execution_count": null,
      "outputs": [
        {
          "execution_count": 32,
          "output_type": "execute_result",
          "data": {
            "text/plain": "Pclass        1           2           3       All\nSex      female male female male female male     \ndied          3   77      6   91     72  300  549\nsurvived     91   45     70   17     72   47  342\nAll          94  122     76  108    144  347  891",
            "text/html": "<div>\n<style scoped>\n    .dataframe tbody tr th:only-of-type {\n        vertical-align: middle;\n    }\n\n    .dataframe tbody tr th {\n        vertical-align: top;\n    }\n\n    .dataframe thead tr th {\n        text-align: left;\n    }\n</style>\n<table border=\"1\" class=\"dataframe\">\n  <thead>\n    <tr>\n      <th>Pclass</th>\n      <th colspan=\"2\" halign=\"left\">1</th>\n      <th colspan=\"2\" halign=\"left\">2</th>\n      <th colspan=\"2\" halign=\"left\">3</th>\n      <th>All</th>\n    </tr>\n    <tr>\n      <th>Sex</th>\n      <th>female</th>\n      <th>male</th>\n      <th>female</th>\n      <th>male</th>\n      <th>female</th>\n      <th>male</th>\n      <th></th>\n    </tr>\n  </thead>\n  <tbody>\n    <tr>\n      <th>died</th>\n      <td>3</td>\n      <td>77</td>\n      <td>6</td>\n      <td>91</td>\n      <td>72</td>\n      <td>300</td>\n      <td>549</td>\n    </tr>\n    <tr>\n      <th>survived</th>\n      <td>91</td>\n      <td>45</td>\n      <td>70</td>\n      <td>17</td>\n      <td>72</td>\n      <td>47</td>\n      <td>342</td>\n    </tr>\n    <tr>\n      <th>All</th>\n      <td>94</td>\n      <td>122</td>\n      <td>76</td>\n      <td>108</td>\n      <td>144</td>\n      <td>347</td>\n      <td>891</td>\n    </tr>\n  </tbody>\n</table>\n</div>"
          },
          "metadata": {}
        }
      ]
    },
    {
      "cell_type": "markdown",
      "source": [
        "Notice that by passing a second variable to the columns argument, the resulting table has columns categorized by both Pclass and Sex. The outermost index (Pclass) returns sections of the table instead of individual columns:"
      ],
      "metadata": {
        "id": "AUc7QaVlFSN5"
      }
    },
    {
      "cell_type": "code",
      "source": [
        "surv_sex_class[2]        # Get the subtable under Pclass 2"
      ],
      "metadata": {
        "execution": {
          "iopub.status.busy": "2024-08-26T14:23:30.566416Z",
          "iopub.execute_input": "2024-08-26T14:23:30.566817Z",
          "iopub.status.idle": "2024-08-26T14:23:30.583506Z",
          "shell.execute_reply.started": "2024-08-26T14:23:30.566756Z",
          "shell.execute_reply": "2024-08-26T14:23:30.582074Z"
        },
        "trusted": true,
        "id": "ixVsxef7FSN5",
        "outputId": "07cd0301-d02b-41b5-a4ab-43f474870b16"
      },
      "execution_count": null,
      "outputs": [
        {
          "execution_count": 33,
          "output_type": "execute_result",
          "data": {
            "text/plain": "Sex       female  male\ndied           6    91\nsurvived      70    17\nAll           76   108",
            "text/html": "<div>\n<style scoped>\n    .dataframe tbody tr th:only-of-type {\n        vertical-align: middle;\n    }\n\n    .dataframe tbody tr th {\n        vertical-align: top;\n    }\n\n    .dataframe thead th {\n        text-align: right;\n    }\n</style>\n<table border=\"1\" class=\"dataframe\">\n  <thead>\n    <tr style=\"text-align: right;\">\n      <th>Sex</th>\n      <th>female</th>\n      <th>male</th>\n    </tr>\n  </thead>\n  <tbody>\n    <tr>\n      <th>died</th>\n      <td>6</td>\n      <td>91</td>\n    </tr>\n    <tr>\n      <th>survived</th>\n      <td>70</td>\n      <td>17</td>\n    </tr>\n    <tr>\n      <th>All</th>\n      <td>76</td>\n      <td>108</td>\n    </tr>\n  </tbody>\n</table>\n</div>"
          },
          "metadata": {}
        }
      ]
    },
    {
      "cell_type": "markdown",
      "source": [
        "The secondary column index, Sex, can't be used as a top level index, but it can be used within a given Pclass:"
      ],
      "metadata": {
        "id": "LG9ldOT1FSN5"
      }
    },
    {
      "cell_type": "code",
      "source": [
        "surv_sex_class[2][\"female\"]   # Get female column within Pclass 2"
      ],
      "metadata": {
        "execution": {
          "iopub.status.busy": "2024-08-26T14:23:41.863785Z",
          "iopub.execute_input": "2024-08-26T14:23:41.864493Z",
          "iopub.status.idle": "2024-08-26T14:23:41.876645Z",
          "shell.execute_reply.started": "2024-08-26T14:23:41.864395Z",
          "shell.execute_reply": "2024-08-26T14:23:41.874659Z"
        },
        "trusted": true,
        "id": "Cbc9pUIUFSN5",
        "outputId": "2e788239-e27b-4278-d306-bd31933d2e1b"
      },
      "execution_count": null,
      "outputs": [
        {
          "execution_count": 34,
          "output_type": "execute_result",
          "data": {
            "text/plain": "died         6\nsurvived    70\nAll         76\nName: female, dtype: int64"
          },
          "metadata": {}
        }
      ]
    },
    {
      "cell_type": "markdown",
      "source": [
        "Due to the convenient hierarchical structure of the table, we still use one division to get the proportion of survival across each column:"
      ],
      "metadata": {
        "id": "TgIx3FRBFSN-"
      }
    },
    {
      "cell_type": "code",
      "source": [
        "surv_sex_class/surv_sex_class.loc[\"All\"]    # Divide by column totals"
      ],
      "metadata": {
        "execution": {
          "iopub.status.busy": "2024-08-26T14:24:03.512604Z",
          "iopub.execute_input": "2024-08-26T14:24:03.513055Z",
          "iopub.status.idle": "2024-08-26T14:24:03.560462Z",
          "shell.execute_reply.started": "2024-08-26T14:24:03.512985Z",
          "shell.execute_reply": "2024-08-26T14:24:03.558164Z"
        },
        "trusted": true,
        "id": "rJPhktGAFSN-",
        "outputId": "61137741-22a6-46c6-b18b-e686945155d9"
      },
      "execution_count": null,
      "outputs": [
        {
          "execution_count": 35,
          "output_type": "execute_result",
          "data": {
            "text/plain": "Pclass           1                   2    ...         3                 All\nSex         female      male    female    ...    female      male          \ndied      0.031915  0.631148  0.078947    ...       0.5  0.864553  0.616162\nsurvived  0.968085  0.368852  0.921053    ...       0.5  0.135447  0.383838\nAll       1.000000  1.000000  1.000000    ...       1.0  1.000000  1.000000\n\n[3 rows x 7 columns]",
            "text/html": "<div>\n<style scoped>\n    .dataframe tbody tr th:only-of-type {\n        vertical-align: middle;\n    }\n\n    .dataframe tbody tr th {\n        vertical-align: top;\n    }\n\n    .dataframe thead tr th {\n        text-align: left;\n    }\n</style>\n<table border=\"1\" class=\"dataframe\">\n  <thead>\n    <tr>\n      <th>Pclass</th>\n      <th colspan=\"2\" halign=\"left\">1</th>\n      <th colspan=\"2\" halign=\"left\">2</th>\n      <th colspan=\"2\" halign=\"left\">3</th>\n      <th>All</th>\n    </tr>\n    <tr>\n      <th>Sex</th>\n      <th>female</th>\n      <th>male</th>\n      <th>female</th>\n      <th>male</th>\n      <th>female</th>\n      <th>male</th>\n      <th></th>\n    </tr>\n  </thead>\n  <tbody>\n    <tr>\n      <th>died</th>\n      <td>0.031915</td>\n      <td>0.631148</td>\n      <td>0.078947</td>\n      <td>0.842593</td>\n      <td>0.5</td>\n      <td>0.864553</td>\n      <td>0.616162</td>\n    </tr>\n    <tr>\n      <th>survived</th>\n      <td>0.968085</td>\n      <td>0.368852</td>\n      <td>0.921053</td>\n      <td>0.157407</td>\n      <td>0.5</td>\n      <td>0.135447</td>\n      <td>0.383838</td>\n    </tr>\n    <tr>\n      <th>All</th>\n      <td>1.000000</td>\n      <td>1.000000</td>\n      <td>1.000000</td>\n      <td>1.000000</td>\n      <td>1.0</td>\n      <td>1.000000</td>\n      <td>1.000000</td>\n    </tr>\n  </tbody>\n</table>\n</div>"
          },
          "metadata": {}
        }
      ]
    },
    {
      "cell_type": "markdown",
      "source": [
        "Here we see something quite interesting: over 90% of women in first class and second class survived, but only 50% of women in third class survived. Men in first class also survived at a greater rate than men in lower classes. Passenger class seems to have a significant impact on survival, so it would likely be useful to include as a feature in a predictive model."
      ],
      "metadata": {
        "id": "WqOkM4F9FSN_"
      }
    },
    {
      "cell_type": "markdown",
      "source": [
        "## Wrap Up"
      ],
      "metadata": {
        "id": "itL0S1YAFSN_"
      }
    },
    {
      "cell_type": "markdown",
      "source": [
        "Frequency tables are a simple yet effective tool for exploring relationships between variables that take on few unique values. Tables do, however, require you to inspect numerical values and proportions closely and it is not always easy to quickly convey insights drawn from tables to others. Creating plots is a way to visually investigate data, which takes advantage of our innate ability to process and detect patterns in images."
      ],
      "metadata": {
        "id": "qeKD0bbCFSN_"
      }
    }
  ]
}