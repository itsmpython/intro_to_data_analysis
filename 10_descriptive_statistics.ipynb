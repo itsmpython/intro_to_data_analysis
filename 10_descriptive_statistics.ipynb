{
  "metadata": {
    "kernelspec": {
      "display_name": "Python 3",
      "language": "python",
      "name": "python3"
    },
    "language_info": {
      "name": "python",
      "version": "3.6.6",
      "mimetype": "text/x-python",
      "codemirror_mode": {
        "name": "ipython",
        "version": 3
      },
      "pygments_lexer": "ipython3",
      "nbconvert_exporter": "python",
      "file_extension": ".py"
    },
    "kaggle": {
      "accelerator": "none",
      "dataSources": [
        {
          "sourceId": 3136,
          "databundleVersionId": 26502,
          "sourceType": "competition"
        },
        {
          "sourceId": 36005,
          "sourceType": "datasetVersion",
          "datasetId": 28259
        }
      ],
      "dockerImageVersionId": 29661,
      "isInternetEnabled": false,
      "language": "python",
      "sourceType": "notebook",
      "isGpuEnabled": false
    },
    "colab": {
      "provenance": []
    }
  },
  "nbformat_minor": 0,
  "nbformat": 4,
  "cells": [
    {
      "cell_type": "markdown",
      "source": [
        "# Descriptive Statistics\n"
      ],
      "metadata": {
        "_uuid": "8f2839f25d086af736a60e9eeb907d3b93b6e0e5",
        "_cell_guid": "b1076dfc-b9ad-4769-8c92-a6c4dae69d19",
        "trusted": true,
        "id": "96XqMBsV8H4d"
      }
    },
    {
      "cell_type": "markdown",
      "source": [
        "Descriptive statistics are measures that summarize important features of data, often with a single number. Producing descriptive statistics is a common first step to take after cleaning and preparing a data set for analysis. We've already seen several examples of Descriptive statistics in earlier lessons, such as means and medians. In this lesson, we'll review some of these functions and explore several new ones."
      ],
      "metadata": {
        "_cell_guid": "79c7e3d0-c299-4dcb-8224-4455121ee9b0",
        "_uuid": "d629ff2d2480ee46fbb7e2d37f6b5fab8052498a",
        "id": "ILtws2ZS8H4h"
      }
    },
    {
      "cell_type": "markdown",
      "source": [
        "## Measures of Center"
      ],
      "metadata": {
        "id": "iuDVl2xj8H4h"
      }
    },
    {
      "cell_type": "markdown",
      "source": [
        "Measures of center are statistics that give us a sense of the \"middle\" of a numeric variable. In other words, centrality measures give you a sense of a typical value you'd expect to see. Common measures of center include the mean, median and mode.\n",
        "\n",
        "The mean is simply an average: the sum of the values divided by the total number of records. As we've seen in previous lessons we can use df.mean() to get the mean of each column in a DataFrame:"
      ],
      "metadata": {
        "id": "57Gs5bXb8H4i"
      }
    },
    {
      "cell_type": "code",
      "source": [
        "%matplotlib inline\n",
        "\n",
        "import numpy as np\n",
        "import pandas as pd\n",
        "import matplotlib.pyplot as plt"
      ],
      "metadata": {
        "execution": {
          "iopub.status.busy": "2024-09-02T08:32:40.868621Z",
          "iopub.execute_input": "2024-09-02T08:32:40.869016Z",
          "iopub.status.idle": "2024-09-02T08:32:41.140508Z",
          "shell.execute_reply.started": "2024-09-02T08:32:40.868952Z",
          "shell.execute_reply": "2024-09-02T08:32:41.139633Z"
        },
        "trusted": true,
        "id": "OKvTMtnM8H4i"
      },
      "execution_count": null,
      "outputs": []
    },
    {
      "cell_type": "code",
      "source": [
        "mtcars = pd.read_csv(\"../input/mtcars/mtcars.csv\")\n",
        "mtcars =  mtcars.rename(columns={'Unnamed: 0': 'model'})\n",
        "mtcars.index = mtcars.model\n",
        "del mtcars[\"model\"]\n",
        "\n",
        "mtcars.head()"
      ],
      "metadata": {
        "execution": {
          "iopub.status.busy": "2024-09-02T08:32:46.825218Z",
          "iopub.execute_input": "2024-09-02T08:32:46.825572Z",
          "iopub.status.idle": "2024-09-02T08:32:46.872839Z",
          "shell.execute_reply.started": "2024-09-02T08:32:46.825520Z",
          "shell.execute_reply": "2024-09-02T08:32:46.871757Z"
        },
        "trusted": true,
        "id": "C3M_I94E8H4j",
        "outputId": "628f9cb0-c657-4f0c-ad9f-fcee44796f0d"
      },
      "execution_count": null,
      "outputs": [
        {
          "execution_count": 2,
          "output_type": "execute_result",
          "data": {
            "text/plain": "                    mpg  cyl   disp   hp  drat     wt   qsec  vs  am  gear  \\\nmodel                                                                        \nMazda RX4          21.0    6  160.0  110  3.90  2.620  16.46   0   1     4   \nMazda RX4 Wag      21.0    6  160.0  110  3.90  2.875  17.02   0   1     4   \nDatsun 710         22.8    4  108.0   93  3.85  2.320  18.61   1   1     4   \nHornet 4 Drive     21.4    6  258.0  110  3.08  3.215  19.44   1   0     3   \nHornet Sportabout  18.7    8  360.0  175  3.15  3.440  17.02   0   0     3   \n\n                   carb  \nmodel                    \nMazda RX4             4  \nMazda RX4 Wag         4  \nDatsun 710            1  \nHornet 4 Drive        1  \nHornet Sportabout     2  ",
            "text/html": "<div>\n<style scoped>\n    .dataframe tbody tr th:only-of-type {\n        vertical-align: middle;\n    }\n\n    .dataframe tbody tr th {\n        vertical-align: top;\n    }\n\n    .dataframe thead th {\n        text-align: right;\n    }\n</style>\n<table border=\"1\" class=\"dataframe\">\n  <thead>\n    <tr style=\"text-align: right;\">\n      <th></th>\n      <th>mpg</th>\n      <th>cyl</th>\n      <th>disp</th>\n      <th>hp</th>\n      <th>drat</th>\n      <th>wt</th>\n      <th>qsec</th>\n      <th>vs</th>\n      <th>am</th>\n      <th>gear</th>\n      <th>carb</th>\n    </tr>\n    <tr>\n      <th>model</th>\n      <th></th>\n      <th></th>\n      <th></th>\n      <th></th>\n      <th></th>\n      <th></th>\n      <th></th>\n      <th></th>\n      <th></th>\n      <th></th>\n      <th></th>\n    </tr>\n  </thead>\n  <tbody>\n    <tr>\n      <td>Mazda RX4</td>\n      <td>21.0</td>\n      <td>6</td>\n      <td>160.0</td>\n      <td>110</td>\n      <td>3.90</td>\n      <td>2.620</td>\n      <td>16.46</td>\n      <td>0</td>\n      <td>1</td>\n      <td>4</td>\n      <td>4</td>\n    </tr>\n    <tr>\n      <td>Mazda RX4 Wag</td>\n      <td>21.0</td>\n      <td>6</td>\n      <td>160.0</td>\n      <td>110</td>\n      <td>3.90</td>\n      <td>2.875</td>\n      <td>17.02</td>\n      <td>0</td>\n      <td>1</td>\n      <td>4</td>\n      <td>4</td>\n    </tr>\n    <tr>\n      <td>Datsun 710</td>\n      <td>22.8</td>\n      <td>4</td>\n      <td>108.0</td>\n      <td>93</td>\n      <td>3.85</td>\n      <td>2.320</td>\n      <td>18.61</td>\n      <td>1</td>\n      <td>1</td>\n      <td>4</td>\n      <td>1</td>\n    </tr>\n    <tr>\n      <td>Hornet 4 Drive</td>\n      <td>21.4</td>\n      <td>6</td>\n      <td>258.0</td>\n      <td>110</td>\n      <td>3.08</td>\n      <td>3.215</td>\n      <td>19.44</td>\n      <td>1</td>\n      <td>0</td>\n      <td>3</td>\n      <td>1</td>\n    </tr>\n    <tr>\n      <td>Hornet Sportabout</td>\n      <td>18.7</td>\n      <td>8</td>\n      <td>360.0</td>\n      <td>175</td>\n      <td>3.15</td>\n      <td>3.440</td>\n      <td>17.02</td>\n      <td>0</td>\n      <td>0</td>\n      <td>3</td>\n      <td>2</td>\n    </tr>\n  </tbody>\n</table>\n</div>"
          },
          "metadata": {}
        }
      ]
    },
    {
      "cell_type": "code",
      "source": [
        "mtcars.mean()                 # Get the mean of each column"
      ],
      "metadata": {
        "execution": {
          "iopub.status.busy": "2024-09-02T08:32:56.860838Z",
          "iopub.execute_input": "2024-09-02T08:32:56.861212Z",
          "iopub.status.idle": "2024-09-02T08:32:56.870106Z",
          "shell.execute_reply.started": "2024-09-02T08:32:56.861145Z",
          "shell.execute_reply": "2024-09-02T08:32:56.868871Z"
        },
        "trusted": true,
        "id": "xAzuaoLU8H4k",
        "outputId": "dc567f73-ebff-4f72-8d75-b9bfa9bed28c"
      },
      "execution_count": null,
      "outputs": [
        {
          "execution_count": 4,
          "output_type": "execute_result",
          "data": {
            "text/plain": "mpg      20.090625\ncyl       6.187500\ndisp    230.721875\nhp      146.687500\ndrat      3.596563\nwt        3.217250\nqsec     17.848750\nvs        0.437500\nam        0.406250\ngear      3.687500\ncarb      2.812500\ndtype: float64"
          },
          "metadata": {}
        }
      ]
    },
    {
      "cell_type": "markdown",
      "source": [
        "We can also get the means of each row by supplying an axis argument:"
      ],
      "metadata": {
        "id": "-aabQ65Q8H4l"
      }
    },
    {
      "cell_type": "code",
      "source": [
        "mtcars.mean(axis=1)           # Get the mean of each row"
      ],
      "metadata": {
        "execution": {
          "iopub.status.busy": "2024-09-02T08:32:59.612184Z",
          "iopub.execute_input": "2024-09-02T08:32:59.612568Z",
          "iopub.status.idle": "2024-09-02T08:32:59.621887Z",
          "shell.execute_reply.started": "2024-09-02T08:32:59.612504Z",
          "shell.execute_reply": "2024-09-02T08:32:59.620783Z"
        },
        "trusted": true,
        "id": "7vwg40aJ8H4l",
        "outputId": "eec3c469-ac73-456b-b460-7299ce131dc9"
      },
      "execution_count": null,
      "outputs": [
        {
          "execution_count": 5,
          "output_type": "execute_result",
          "data": {
            "text/plain": "model\nMazda RX4              29.907273\nMazda RX4 Wag          29.981364\nDatsun 710             23.598182\nHornet 4 Drive         38.739545\nHornet Sportabout      53.664545\nValiant                35.049091\nDuster 360             59.720000\nMerc 240D              24.634545\nMerc 230               27.233636\nMerc 280               31.860000\nMerc 280C              31.787273\nMerc 450SE             46.430909\nMerc 450SL             46.500000\nMerc 450SLC            46.350000\nCadillac Fleetwood     66.232727\nLincoln Continental    66.058545\nChrysler Imperial      65.972273\nFiat 128               19.440909\nHonda Civic            17.742273\nToyota Corolla         18.814091\nToyota Corona          24.888636\nDodge Challenger       47.240909\nAMC Javelin            46.007727\nCamaro Z28             58.752727\nPontiac Firebird       57.379545\nFiat X1-9              18.928636\nPorsche 914-2          24.779091\nLotus Europa           24.880273\nFord Pantera L         60.971818\nFerrari Dino           34.508182\nMaserati Bora          63.155455\nVolvo 142E             26.262727\ndtype: float64"
          },
          "metadata": {}
        }
      ]
    },
    {
      "cell_type": "markdown",
      "source": [
        "The median of a distribution is the value where 50% of the data lies below it and 50% lies above it. In essence, the median splits the data in half. The median is also known as the 50% percentile since 50% of the observations are found below it. As we've seen previously, you can get the median using the df.median() function:"
      ],
      "metadata": {
        "id": "c7xYTsif8H4m"
      }
    },
    {
      "cell_type": "code",
      "source": [
        "mtcars.median()                 # Get the median of each column"
      ],
      "metadata": {
        "execution": {
          "iopub.status.busy": "2024-09-02T08:33:05.474989Z",
          "iopub.execute_input": "2024-09-02T08:33:05.475337Z",
          "iopub.status.idle": "2024-09-02T08:33:05.483697Z",
          "shell.execute_reply.started": "2024-09-02T08:33:05.475292Z",
          "shell.execute_reply": "2024-09-02T08:33:05.482312Z"
        },
        "trusted": true,
        "id": "-aM5Ilba8H4m",
        "outputId": "822d3ad3-1861-487e-8c5c-c67c629f2891"
      },
      "execution_count": null,
      "outputs": [
        {
          "execution_count": 6,
          "output_type": "execute_result",
          "data": {
            "text/plain": "mpg      19.200\ncyl       6.000\ndisp    196.300\nhp      123.000\ndrat      3.695\nwt        3.325\nqsec     17.710\nvs        0.000\nam        0.000\ngear      4.000\ncarb      2.000\ndtype: float64"
          },
          "metadata": {}
        }
      ]
    },
    {
      "cell_type": "markdown",
      "source": [
        "Again, we could get the row medians across each row by supplying the argument axis=1.\n",
        "\n",
        "Although the mean and median both give us some sense of the center of a distribution, they aren't always the same. The median always gives us a value that splits the data into two halves while the mean is a numeric average so extreme values can have a significant impact on the mean. In a symmetric distribution, the mean and median will be the same. Let's investigate with a density plot:"
      ],
      "metadata": {
        "id": "BurJna7V8H4m"
      }
    },
    {
      "cell_type": "code",
      "source": [
        "norm_data = pd.DataFrame(np.random.normal(size=100000))\n",
        "\n",
        "norm_data.plot(kind=\"density\",\n",
        "              figsize=(10,10));\n",
        "\n",
        "\n",
        "plt.vlines(norm_data.mean(),     # Plot green line at mean\n",
        "           ymin=0,\n",
        "           ymax=0.4,\n",
        "           linewidth=5.0,\n",
        "          color=\"green\");\n",
        "\n",
        "plt.vlines(norm_data.median(),   # Plot red line at median\n",
        "           ymin=0,\n",
        "           ymax=0.4,\n",
        "           linewidth=2.0,\n",
        "           color=\"red\");"
      ],
      "metadata": {
        "execution": {
          "iopub.status.busy": "2024-09-02T08:33:10.883649Z",
          "iopub.execute_input": "2024-09-02T08:33:10.884206Z",
          "iopub.status.idle": "2024-09-02T08:33:19.006739Z",
          "shell.execute_reply.started": "2024-09-02T08:33:10.884120Z",
          "shell.execute_reply": "2024-09-02T08:33:19.005446Z"
        },
        "trusted": true,
        "id": "5Day_Rus8H4n",
        "outputId": "d18569f9-2525-4602-9b65-cc9a59407c92"
      },
      "execution_count": null,
      "outputs": [
        {
          "output_type": "display_data",
          "data": {
            "text/plain": "<Figure size 720x720 with 1 Axes>",
            "image/png": "[encoded data removed]"
          },
          "metadata": {
            "needs_background": "light"
          }
        }
      ]
    },
    {
      "cell_type": "markdown",
      "source": [
        "In the plot above the mean and median are both so close to zero that the red median line lies on top of the thicker black line drawn at the mean.\n",
        "\n",
        "In skewed distributions, the mean tends to get pulled in the direction of the skew, while the median tends to resist the effects of skew:"
      ],
      "metadata": {
        "id": "NmteIhfH8H4n"
      }
    },
    {
      "cell_type": "code",
      "source": [
        "skewed_data = pd.DataFrame(np.random.exponential(size=100000))\n",
        "\n",
        "skewed_data.plot(kind=\"density\",\n",
        "              figsize=(10,10),\n",
        "              xlim=(-1,5));\n",
        "\n",
        "\n",
        "plt.vlines(skewed_data.mean(),     # Plot black line at mean\n",
        "           ymin=0,\n",
        "           ymax=0.8,\n",
        "           linewidth=5.0);\n",
        "\n",
        "plt.vlines(skewed_data.median(),   # Plot red line at median\n",
        "           ymin=0,\n",
        "           ymax=0.8,\n",
        "           linewidth=2.0,\n",
        "           color=\"red\");"
      ],
      "metadata": {
        "execution": {
          "iopub.status.busy": "2024-09-02T08:33:50.917070Z",
          "iopub.execute_input": "2024-09-02T08:33:50.917553Z",
          "iopub.status.idle": "2024-09-02T08:33:59.401073Z",
          "shell.execute_reply.started": "2024-09-02T08:33:50.917477Z",
          "shell.execute_reply": "2024-09-02T08:33:59.400071Z"
        },
        "trusted": true,
        "id": "q0N0Id1T8H4n",
        "outputId": "44597c03-a853-48e8-8975-309a13695667"
      },
      "execution_count": null,
      "outputs": [
        {
          "output_type": "display_data",
          "data": {
            "text/plain": "<Figure size 720x720 with 1 Axes>",
            "image/png": "[encoded data removed]"
          },
          "metadata": {
            "needs_background": "light"
          }
        }
      ]
    },
    {
      "cell_type": "markdown",
      "source": [
        "The mean is also influenced heavily by outliers, while the median resists the influence of outliers:"
      ],
      "metadata": {
        "id": "H5U1bVsX8H4n"
      }
    },
    {
      "cell_type": "code",
      "source": [
        "norm_data = np.random.normal(size=50)\n",
        "outliers = np.random.normal(15, size=3)\n",
        "\n",
        "combined_data = pd.DataFrame(np.concatenate((norm_data, outliers), axis=0))\n",
        "\n",
        "combined_data.plot(kind=\"density\",\n",
        "              figsize=(10,10),\n",
        "              xlim=(-5,20));\n",
        "\n",
        "\n",
        "plt.vlines(combined_data.mean(),     # Plot black line at mean\n",
        "           ymin=0,\n",
        "           ymax=0.2,\n",
        "           linewidth=5.0);\n",
        "\n",
        "plt.vlines(combined_data.median(),   # Plot red line at median\n",
        "           ymin=0,\n",
        "           ymax=0.2,\n",
        "           linewidth=2.0,\n",
        "           color=\"red\");"
      ],
      "metadata": {
        "execution": {
          "iopub.status.busy": "2024-09-02T08:41:59.649588Z",
          "iopub.execute_input": "2024-09-02T08:41:59.649960Z",
          "iopub.status.idle": "2024-09-02T08:41:59.925721Z",
          "shell.execute_reply.started": "2024-09-02T08:41:59.649910Z",
          "shell.execute_reply": "2024-09-02T08:41:59.924738Z"
        },
        "trusted": true,
        "id": "yFbVe__x8H4n",
        "outputId": "b421bd0c-aee0-4eec-f157-bd283ca90482"
      },
      "execution_count": null,
      "outputs": [
        {
          "output_type": "display_data",
          "data": {
            "text/plain": "<Figure size 720x720 with 1 Axes>",
            "image/png": "[encoded data removed]"
          },
          "metadata": {
            "needs_background": "light"
          }
        }
      ]
    },
    {
      "cell_type": "markdown",
      "source": [
        "Since the median tends to resist the effects of skewness and outliers, it is known a \"robust\" statistic. The median generally gives a better sense of the typical value in a distribution with significant skew or outliers.\n",
        "\n",
        "The mode of a variable is simply the value that appears most frequently. Unlike mean and median, you can take the mode of a categorical variable and it is possible to have multiple modes. Find the mode with df.mode():"
      ],
      "metadata": {
        "id": "9nRA8ZD18H4o"
      }
    },
    {
      "cell_type": "code",
      "source": [
        "mtcars.mode()"
      ],
      "metadata": {
        "execution": {
          "iopub.status.busy": "2024-09-02T08:42:46.578711Z",
          "iopub.execute_input": "2024-09-02T08:42:46.579081Z",
          "iopub.status.idle": "2024-09-02T08:42:46.613084Z",
          "shell.execute_reply.started": "2024-09-02T08:42:46.579031Z",
          "shell.execute_reply": "2024-09-02T08:42:46.611941Z"
        },
        "trusted": true,
        "id": "_BbVWQX_8H4o",
        "outputId": "d3b8fdac-c3ca-49cf-dd03-ca92f6a76623"
      },
      "execution_count": null,
      "outputs": [
        {
          "execution_count": 15,
          "output_type": "execute_result",
          "data": {
            "text/plain": "    mpg  cyl   disp     hp  drat    wt   qsec   vs   am  gear  carb\n0  10.4  8.0  275.8  110.0  3.07  3.44  17.02  0.0  0.0   3.0   2.0\n1  15.2  NaN    NaN  175.0  3.92   NaN  18.90  NaN  NaN   NaN   4.0\n2  19.2  NaN    NaN  180.0   NaN   NaN    NaN  NaN  NaN   NaN   NaN\n3  21.0  NaN    NaN    NaN   NaN   NaN    NaN  NaN  NaN   NaN   NaN\n4  21.4  NaN    NaN    NaN   NaN   NaN    NaN  NaN  NaN   NaN   NaN\n5  22.8  NaN    NaN    NaN   NaN   NaN    NaN  NaN  NaN   NaN   NaN\n6  30.4  NaN    NaN    NaN   NaN   NaN    NaN  NaN  NaN   NaN   NaN",
            "text/html": "<div>\n<style scoped>\n    .dataframe tbody tr th:only-of-type {\n        vertical-align: middle;\n    }\n\n    .dataframe tbody tr th {\n        vertical-align: top;\n    }\n\n    .dataframe thead th {\n        text-align: right;\n    }\n</style>\n<table border=\"1\" class=\"dataframe\">\n  <thead>\n    <tr style=\"text-align: right;\">\n      <th></th>\n      <th>mpg</th>\n      <th>cyl</th>\n      <th>disp</th>\n      <th>hp</th>\n      <th>drat</th>\n      <th>wt</th>\n      <th>qsec</th>\n      <th>vs</th>\n      <th>am</th>\n      <th>gear</th>\n      <th>carb</th>\n    </tr>\n  </thead>\n  <tbody>\n    <tr>\n      <td>0</td>\n      <td>10.4</td>\n      <td>8.0</td>\n      <td>275.8</td>\n      <td>110.0</td>\n      <td>3.07</td>\n      <td>3.44</td>\n      <td>17.02</td>\n      <td>0.0</td>\n      <td>0.0</td>\n      <td>3.0</td>\n      <td>2.0</td>\n    </tr>\n    <tr>\n      <td>1</td>\n      <td>15.2</td>\n      <td>NaN</td>\n      <td>NaN</td>\n      <td>175.0</td>\n      <td>3.92</td>\n      <td>NaN</td>\n      <td>18.90</td>\n      <td>NaN</td>\n      <td>NaN</td>\n      <td>NaN</td>\n      <td>4.0</td>\n    </tr>\n    <tr>\n      <td>2</td>\n      <td>19.2</td>\n      <td>NaN</td>\n      <td>NaN</td>\n      <td>180.0</td>\n      <td>NaN</td>\n      <td>NaN</td>\n      <td>NaN</td>\n      <td>NaN</td>\n      <td>NaN</td>\n      <td>NaN</td>\n      <td>NaN</td>\n    </tr>\n    <tr>\n      <td>3</td>\n      <td>21.0</td>\n      <td>NaN</td>\n      <td>NaN</td>\n      <td>NaN</td>\n      <td>NaN</td>\n      <td>NaN</td>\n      <td>NaN</td>\n      <td>NaN</td>\n      <td>NaN</td>\n      <td>NaN</td>\n      <td>NaN</td>\n    </tr>\n    <tr>\n      <td>4</td>\n      <td>21.4</td>\n      <td>NaN</td>\n      <td>NaN</td>\n      <td>NaN</td>\n      <td>NaN</td>\n      <td>NaN</td>\n      <td>NaN</td>\n      <td>NaN</td>\n      <td>NaN</td>\n      <td>NaN</td>\n      <td>NaN</td>\n    </tr>\n    <tr>\n      <td>5</td>\n      <td>22.8</td>\n      <td>NaN</td>\n      <td>NaN</td>\n      <td>NaN</td>\n      <td>NaN</td>\n      <td>NaN</td>\n      <td>NaN</td>\n      <td>NaN</td>\n      <td>NaN</td>\n      <td>NaN</td>\n      <td>NaN</td>\n    </tr>\n    <tr>\n      <td>6</td>\n      <td>30.4</td>\n      <td>NaN</td>\n      <td>NaN</td>\n      <td>NaN</td>\n      <td>NaN</td>\n      <td>NaN</td>\n      <td>NaN</td>\n      <td>NaN</td>\n      <td>NaN</td>\n      <td>NaN</td>\n      <td>NaN</td>\n    </tr>\n  </tbody>\n</table>\n</div>"
          },
          "metadata": {}
        }
      ]
    },
    {
      "cell_type": "markdown",
      "source": [
        "The columns with multiple modes (multiple values with the same count) return multiple values as the mode. Columns with no mode (no value that appears more than once) return NaN."
      ],
      "metadata": {
        "id": "EK0nhrkR8H4o"
      }
    },
    {
      "cell_type": "markdown",
      "source": [
        "## Measures of Spread"
      ],
      "metadata": {
        "id": "EtI-8Neo8H4o"
      }
    },
    {
      "cell_type": "markdown",
      "source": [
        "Measures of spread (dispersion) are statistics that describe how data varies. While measures of center give us an idea of the typical value, measures of spread give us a sense of how much the data tends to diverge from the typical value.\n",
        "\n",
        "One of the simplest measures of spread is the range. Range is the distance between the maximum and minimum observations:"
      ],
      "metadata": {
        "id": "4o4eGeLJ8H4o"
      }
    },
    {
      "cell_type": "code",
      "source": [
        "max(mtcars[\"mpg\"]) - min(mtcars[\"mpg\"])"
      ],
      "metadata": {
        "execution": {
          "iopub.status.busy": "2024-09-02T08:43:22.392690Z",
          "iopub.execute_input": "2024-09-02T08:43:22.393045Z",
          "iopub.status.idle": "2024-09-02T08:43:22.400466Z",
          "shell.execute_reply.started": "2024-09-02T08:43:22.392994Z",
          "shell.execute_reply": "2024-09-02T08:43:22.399373Z"
        },
        "trusted": true,
        "id": "e-h4cSzR8H4p",
        "outputId": "23baa947-4a8d-42c5-fe38-7ed18bb770f4"
      },
      "execution_count": null,
      "outputs": [
        {
          "execution_count": 16,
          "output_type": "execute_result",
          "data": {
            "text/plain": "23.5"
          },
          "metadata": {}
        }
      ]
    },
    {
      "cell_type": "markdown",
      "source": [
        "As noted earlier, the median represents the 50th percentile of a data set. A summary of several percentiles can be used to describe a variable's spread. We can extract the minimum value (0th percentile), first quartile (25th percentile), median, third quartile(75th percentile) and maximum value (100th percentile) using the quantile() function:"
      ],
      "metadata": {
        "id": "v19rFxeP8H4p"
      }
    },
    {
      "cell_type": "code",
      "source": [
        "five_num = [mtcars[\"mpg\"].quantile(0),\n",
        "            mtcars[\"mpg\"].quantile(0.25),\n",
        "            mtcars[\"mpg\"].quantile(0.50),\n",
        "            mtcars[\"mpg\"].quantile(0.75),\n",
        "            mtcars[\"mpg\"].quantile(1)]\n",
        "\n",
        "five_num"
      ],
      "metadata": {
        "execution": {
          "iopub.status.busy": "2024-09-02T08:45:19.372781Z",
          "iopub.execute_input": "2024-09-02T08:45:19.373184Z",
          "iopub.status.idle": "2024-09-02T08:45:19.389140Z",
          "shell.execute_reply.started": "2024-09-02T08:45:19.373108Z",
          "shell.execute_reply": "2024-09-02T08:45:19.387859Z"
        },
        "trusted": true,
        "id": "-FaGlNK88H4p",
        "outputId": "b63129b8-14ce-43a9-a03a-8deef748b8e4"
      },
      "execution_count": null,
      "outputs": [
        {
          "execution_count": 21,
          "output_type": "execute_result",
          "data": {
            "text/plain": "[10.4, 15.425, 19.2, 22.8, 33.9]"
          },
          "metadata": {}
        }
      ]
    },
    {
      "cell_type": "markdown",
      "source": [
        "Since these values are so commonly used to describe data, they are known as the \"five number summary\". They are the same percentile values returned by df.describe():"
      ],
      "metadata": {
        "id": "FgfL3NbM8H4p"
      }
    },
    {
      "cell_type": "code",
      "source": [
        "mtcars[\"mpg\"].describe()"
      ],
      "metadata": {
        "execution": {
          "iopub.status.busy": "2024-09-02T08:45:25.604355Z",
          "iopub.execute_input": "2024-09-02T08:45:25.604750Z",
          "iopub.status.idle": "2024-09-02T08:45:25.616407Z",
          "shell.execute_reply.started": "2024-09-02T08:45:25.604686Z",
          "shell.execute_reply": "2024-09-02T08:45:25.615346Z"
        },
        "trusted": true,
        "id": "EWX_ClZj8H4p",
        "outputId": "8d3153a1-e0df-468a-b40c-2b2469c28c3e"
      },
      "execution_count": null,
      "outputs": [
        {
          "execution_count": 22,
          "output_type": "execute_result",
          "data": {
            "text/plain": "count    32.000000\nmean     20.090625\nstd       6.026948\nmin      10.400000\n25%      15.425000\n50%      19.200000\n75%      22.800000\nmax      33.900000\nName: mpg, dtype: float64"
          },
          "metadata": {}
        }
      ]
    },
    {
      "cell_type": "markdown",
      "source": [
        "Interquartile (IQR) range is another common measure of spread. IQR is the distance between the 3rd quartile and the 1st quartile:"
      ],
      "metadata": {
        "id": "ycU2lqOn8H4q"
      }
    },
    {
      "cell_type": "code",
      "source": [
        "mtcars[\"mpg\"].quantile(0.75) - mtcars[\"mpg\"].quantile(0.25)"
      ],
      "metadata": {
        "execution": {
          "iopub.status.busy": "2024-09-02T08:45:48.278425Z",
          "iopub.execute_input": "2024-09-02T08:45:48.278794Z",
          "iopub.status.idle": "2024-09-02T08:45:48.288926Z",
          "shell.execute_reply.started": "2024-09-02T08:45:48.278738Z",
          "shell.execute_reply": "2024-09-02T08:45:48.287834Z"
        },
        "trusted": true,
        "id": "gbCD7R-58H4q",
        "outputId": "273a5c4f-3706-4c9c-bcce-cbc0c3d47ad2"
      },
      "execution_count": null,
      "outputs": [
        {
          "execution_count": 23,
          "output_type": "execute_result",
          "data": {
            "text/plain": "7.375"
          },
          "metadata": {}
        }
      ]
    },
    {
      "cell_type": "markdown",
      "source": [
        "The boxplots we learned to create in the lesson on plotting are just visual representations of the five number summary and IQR:"
      ],
      "metadata": {
        "id": "5clCaby68H4q"
      }
    },
    {
      "cell_type": "code",
      "source": [
        "mtcars.boxplot(column=\"mpg\",\n",
        "               return_type='axes',\n",
        "               figsize=(8,8))\n",
        "\n",
        "plt.text(x=0.74, y=22.25, s=\"3rd Quartile\")\n",
        "plt.text(x=0.8, y=18.75, s=\"Median\")\n",
        "plt.text(x=0.75, y=15.5, s=\"1st Quartile\")\n",
        "plt.text(x=0.9, y=10, s=\"Min\")\n",
        "plt.text(x=0.9, y=33.5, s=\"Max\")\n",
        "plt.text(x=0.7, y=19.5, s=\"IQR\", rotation=90, size=25);"
      ],
      "metadata": {
        "execution": {
          "iopub.status.busy": "2024-09-02T08:46:30.692360Z",
          "iopub.execute_input": "2024-09-02T08:46:30.692767Z",
          "iopub.status.idle": "2024-09-02T08:46:30.905175Z",
          "shell.execute_reply.started": "2024-09-02T08:46:30.692711Z",
          "shell.execute_reply": "2024-09-02T08:46:30.904059Z"
        },
        "trusted": true,
        "id": "fNTL1jQp8H4q",
        "outputId": "c56ee078-b101-407c-9c10-43971e6620df"
      },
      "execution_count": null,
      "outputs": [
        {
          "output_type": "display_data",
          "data": {
            "text/plain": "<Figure size 576x576 with 1 Axes>",
            "image/png": "[encoded data removed]"
          },
          "metadata": {
            "needs_background": "light"
          }
        }
      ]
    },
    {
      "cell_type": "markdown",
      "source": [
        "Variance and standard deviation are two other common measures of spread. The variance of a distribution is the average of the squared deviations (differences) from the mean. Use df.var() to check variance:"
      ],
      "metadata": {
        "id": "z4GTAjQ58H4q"
      }
    },
    {
      "cell_type": "code",
      "source": [
        "mtcars[\"mpg\"].var()"
      ],
      "metadata": {
        "execution": {
          "iopub.status.busy": "2024-09-02T08:46:47.444465Z",
          "iopub.execute_input": "2024-09-02T08:46:47.444837Z",
          "iopub.status.idle": "2024-09-02T08:46:47.451119Z",
          "shell.execute_reply.started": "2024-09-02T08:46:47.444786Z",
          "shell.execute_reply": "2024-09-02T08:46:47.450264Z"
        },
        "trusted": true,
        "id": "MXRqgPfH8H4q",
        "outputId": "c4c02d80-41d0-4fb3-a13a-1cb9ac5e944c"
      },
      "execution_count": null,
      "outputs": [
        {
          "execution_count": 25,
          "output_type": "execute_result",
          "data": {
            "text/plain": "36.32410282258065"
          },
          "metadata": {}
        }
      ]
    },
    {
      "cell_type": "markdown",
      "source": [
        "\n",
        "The standard deviation is the square root of the variance. Standard deviation can be more interpretable than variance, since the standard deviation is expressed in terms of the same units as the variable in question while variance is expressed in terms of units squared. Use df.std() to check the standard deviation:"
      ],
      "metadata": {
        "id": "QNZCD6YL8H4r"
      }
    },
    {
      "cell_type": "code",
      "source": [
        "mtcars[\"mpg\"].std()"
      ],
      "metadata": {
        "execution": {
          "iopub.status.busy": "2024-09-02T08:47:11.948156Z",
          "iopub.execute_input": "2024-09-02T08:47:11.948513Z",
          "iopub.status.idle": "2024-09-02T08:47:11.954692Z",
          "shell.execute_reply.started": "2024-09-02T08:47:11.948460Z",
          "shell.execute_reply": "2024-09-02T08:47:11.953537Z"
        },
        "trusted": true,
        "id": "w1cLAbBH8H4r",
        "outputId": "ab535d25-e6c2-4fec-c2d7-27340db7451b"
      },
      "execution_count": null,
      "outputs": [
        {
          "execution_count": 26,
          "output_type": "execute_result",
          "data": {
            "text/plain": "6.026948052089105"
          },
          "metadata": {}
        }
      ]
    },
    {
      "cell_type": "markdown",
      "source": [
        "Since variance and standard deviation are both derived from the mean, they are susceptible to the influence of data skew and outliers. **Median absolute deviation (MAD)** is an alternative measure of spread based on the median, which inherits the median's robustness against the influence of skew and outliers. It is the median of the absolute value of the deviations from the median:"
      ],
      "metadata": {
        "id": "X1R6Bmxm8H4r"
      }
    },
    {
      "cell_type": "code",
      "source": [
        "abs_median_devs = abs(mtcars[\"mpg\"] - mtcars[\"mpg\"].median())\n",
        "\n",
        "abs_median_devs.median() * 1.4826"
      ],
      "metadata": {
        "execution": {
          "iopub.status.busy": "2024-09-02T08:47:19.397777Z",
          "iopub.execute_input": "2024-09-02T08:47:19.398125Z",
          "iopub.status.idle": "2024-09-02T08:47:19.459885Z",
          "shell.execute_reply.started": "2024-09-02T08:47:19.398076Z",
          "shell.execute_reply": "2024-09-02T08:47:19.458761Z"
        },
        "trusted": true,
        "id": "N70AWf-Z8H4r",
        "outputId": "dfb5c5d7-8911-4450-fa59-fdcf411892b1"
      },
      "execution_count": null,
      "outputs": [
        {
          "execution_count": 27,
          "output_type": "execute_result",
          "data": {
            "text/plain": "5.411490000000001"
          },
          "metadata": {}
        }
      ]
    },
    {
      "cell_type": "markdown",
      "source": [
        "*Note: The MAD is often multiplied by a scaling factor of 1.4826.*"
      ],
      "metadata": {
        "id": "6qPRrpG98H4r"
      }
    },
    {
      "cell_type": "markdown",
      "source": [
        "## Skewness and Kurtosis"
      ],
      "metadata": {
        "id": "Ci81eXuK8H4r"
      }
    },
    {
      "cell_type": "markdown",
      "source": [
        "Beyond measures of center and spread, descriptive statistics include measures that give you a sense of the shape of a distribution. Skewness measures the skew or asymmetry of a distribution while kurtosis measures how much data is in the tails of a distribution v.s. the center. We won't go into the exact calculations behind skewness and kurtosis, but they are essentially just statistics that take the idea of variance a step further: while variance involves squaring deviations from the mean, skewness involves cubing deviations from the mean and kurtosis involves raising deviations from the mean to the 4th power.\n",
        "\n",
        "Pandas has built in functions for checking skewness and kurtosis, df.skew() and df.kurt() respectively:"
      ],
      "metadata": {
        "id": "yxlbOnNi8H4x"
      }
    },
    {
      "cell_type": "code",
      "source": [
        "mtcars[\"mpg\"].skew()  # Check skewness"
      ],
      "metadata": {
        "execution": {
          "iopub.status.busy": "2024-09-02T08:48:58.513156Z",
          "iopub.execute_input": "2024-09-02T08:48:58.513511Z",
          "iopub.status.idle": "2024-09-02T08:48:58.520598Z",
          "shell.execute_reply.started": "2024-09-02T08:48:58.513463Z",
          "shell.execute_reply": "2024-09-02T08:48:58.519617Z"
        },
        "trusted": true,
        "id": "VSjOBoRK8H4x",
        "outputId": "2661c6d9-3052-4f81-b8e4-104f29f77738"
      },
      "execution_count": null,
      "outputs": [
        {
          "execution_count": 28,
          "output_type": "execute_result",
          "data": {
            "text/plain": "0.6723771376290805"
          },
          "metadata": {}
        }
      ]
    },
    {
      "cell_type": "code",
      "source": [
        "mtcars[\"mpg\"].kurt()  # Check kurtosis"
      ],
      "metadata": {
        "execution": {
          "iopub.status.busy": "2024-09-02T08:49:01.912284Z",
          "iopub.execute_input": "2024-09-02T08:49:01.912642Z",
          "iopub.status.idle": "2024-09-02T08:49:01.919095Z",
          "shell.execute_reply.started": "2024-09-02T08:49:01.912581Z",
          "shell.execute_reply": "2024-09-02T08:49:01.918220Z"
        },
        "trusted": true,
        "id": "WNJZ5pJw8H4x",
        "outputId": "9f29b0cc-3e42-48a2-be76-198e7f0fa1c9"
      },
      "execution_count": null,
      "outputs": [
        {
          "execution_count": 29,
          "output_type": "execute_result",
          "data": {
            "text/plain": "-0.0220062914240855"
          },
          "metadata": {}
        }
      ]
    },
    {
      "cell_type": "markdown",
      "source": [
        "To explore these two measures further, let's create some dummy data and inspect it:"
      ],
      "metadata": {
        "id": "yxqCGO2k8H4x"
      }
    },
    {
      "cell_type": "code",
      "source": [
        "norm_data = np.random.normal(size=100000)\n",
        "skewed_data = np.concatenate((np.random.normal(size=35000)+2,\n",
        "                             np.random.exponential(size=65000)),\n",
        "                             axis=0)\n",
        "uniform_data = np.random.uniform(0,2, size=100000)\n",
        "peaked_data = np.concatenate((np.random.exponential(size=50000),\n",
        "                             np.random.exponential(size=50000)*(-1)),\n",
        "                             axis=0)\n",
        "\n",
        "data_df = pd.DataFrame({\"norm\":norm_data,\n",
        "                       \"skewed\":skewed_data,\n",
        "                       \"uniform\":uniform_data,\n",
        "                       \"peaked\":peaked_data})"
      ],
      "metadata": {
        "execution": {
          "iopub.status.busy": "2024-09-02T08:50:36.814600Z",
          "iopub.execute_input": "2024-09-02T08:50:36.814991Z",
          "iopub.status.idle": "2024-09-02T08:50:36.846796Z",
          "shell.execute_reply.started": "2024-09-02T08:50:36.814938Z",
          "shell.execute_reply": "2024-09-02T08:50:36.845833Z"
        },
        "trusted": true,
        "id": "8XCrPlrL8H4x"
      },
      "execution_count": null,
      "outputs": []
    },
    {
      "cell_type": "code",
      "source": [
        "data_df.plot(kind=\"density\",\n",
        "            figsize=(10,10),\n",
        "            xlim=(-5,5));"
      ],
      "metadata": {
        "execution": {
          "iopub.status.busy": "2024-09-02T08:51:07.617702Z",
          "iopub.execute_input": "2024-09-02T08:51:07.618041Z",
          "iopub.status.idle": "2024-09-02T08:51:56.424051Z",
          "shell.execute_reply.started": "2024-09-02T08:51:07.617992Z",
          "shell.execute_reply": "2024-09-02T08:51:56.423244Z"
        },
        "trusted": true,
        "id": "vkWMPoeq8H4y",
        "outputId": "5418da28-3a44-4f12-9665-34d689ecbf6f"
      },
      "execution_count": null,
      "outputs": [
        {
          "output_type": "display_data",
          "data": {
            "text/plain": "<Figure size 720x720 with 1 Axes>",
            "image/png": "[encoded data removed]"
          },
          "metadata": {
            "needs_background": "light"
          }
        }
      ]
    },
    {
      "cell_type": "markdown",
      "source": [
        "Now let's check the skewness of each of the distributions. Since skewness measures asymmetry, we'd expect to see low skewness for all of the distributions except the skewed one, because all the others are roughly symmetric:"
      ],
      "metadata": {
        "id": "SxMnq2Nx8H4y"
      }
    },
    {
      "cell_type": "code",
      "source": [
        "data_df.skew()"
      ],
      "metadata": {
        "execution": {
          "iopub.status.busy": "2024-09-02T08:52:21.645500Z",
          "iopub.execute_input": "2024-09-02T08:52:21.645911Z",
          "iopub.status.idle": "2024-09-02T08:52:21.676633Z",
          "shell.execute_reply.started": "2024-09-02T08:52:21.645845Z",
          "shell.execute_reply": "2024-09-02T08:52:21.675716Z"
        },
        "trusted": true,
        "id": "-lEBlD8q8H4y",
        "outputId": "fefb371e-fbc8-4cf5-8d78-8936b08a096a"
      },
      "execution_count": null,
      "outputs": [
        {
          "execution_count": 34,
          "output_type": "execute_result",
          "data": {
            "text/plain": "norm       0.004293\nskewed     1.030080\nuniform   -0.013896\npeaked    -0.008394\ndtype: float64"
          },
          "metadata": {}
        }
      ]
    },
    {
      "cell_type": "markdown",
      "source": [
        "Now let's check kurtosis."
      ],
      "metadata": {
        "id": "vMIQpJBv8H4y"
      }
    },
    {
      "cell_type": "code",
      "source": [
        "data_df.kurt()"
      ],
      "metadata": {
        "execution": {
          "iopub.status.busy": "2024-09-02T08:52:27.756710Z",
          "iopub.execute_input": "2024-09-02T08:52:27.757087Z",
          "iopub.status.idle": "2024-09-02T08:52:27.786175Z",
          "shell.execute_reply.started": "2024-09-02T08:52:27.757023Z",
          "shell.execute_reply": "2024-09-02T08:52:27.785324Z"
        },
        "trusted": true,
        "id": "cFoLgbGF8H4y",
        "outputId": "8e8e013a-a2ec-4fc5-d701-58af5bdf0b2a"
      },
      "execution_count": null,
      "outputs": [
        {
          "execution_count": 35,
          "output_type": "execute_result",
          "data": {
            "text/plain": "norm       0.014694\nskewed     1.500090\nuniform   -1.195965\npeaked     3.002751\ndtype: float64"
          },
          "metadata": {}
        }
      ]
    },
    {
      "cell_type": "markdown",
      "source": [
        "As we can see from the output, the normally distributed data has a kurtosis near zero, the flat distribution has negative kurtosis and the two distributions with more data in the tails vs the center have higher kurtosis."
      ],
      "metadata": {
        "id": "E3Otrb7t8H4z"
      }
    },
    {
      "cell_type": "markdown",
      "source": [
        "## Wrap Up"
      ],
      "metadata": {
        "id": "lXvfwbS48H4z"
      }
    },
    {
      "cell_type": "markdown",
      "source": [
        "Descriptive statistics help you explore features of your data, like center, spread and shape by summarizing them with numerical measurements. Descriptive statistics help inform the direction of an analysis and let you communicate your insights to others quickly and succinctly. In addition, certain values, like the mean and variance, are used in all sorts of statistical tests and predictive models.\n",
        "\n",
        "In this lesson, we generated a lot of random data to illustrate concepts, but we haven't actually learned much about the functions we've been using to generate random data. In the next lesson, we'll learn about probability distributions, including how to draw random data from them."
      ],
      "metadata": {
        "id": "weKiVyCp8H4z"
      }
    }
  ]
}