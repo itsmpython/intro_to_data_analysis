{
  "metadata": {
    "kernelspec": {
      "display_name": "Python 3",
      "language": "python",
      "name": "python3"
    },
    "language_info": {
      "name": "python",
      "version": "3.6.6",
      "mimetype": "text/x-python",
      "codemirror_mode": {
        "name": "ipython",
        "version": 3
      },
      "pygments_lexer": "ipython3",
      "nbconvert_exporter": "python",
      "file_extension": ".py"
    },
    "kaggle": {
      "accelerator": "none",
      "dataSources": [
        {
          "sourceId": 3136,
          "databundleVersionId": 26502,
          "sourceType": "competition"
        },
        {
          "sourceId": 36005,
          "sourceType": "datasetVersion",
          "datasetId": 28259
        }
      ],
      "dockerImageVersionId": 29661,
      "isInternetEnabled": false,
      "language": "python",
      "sourceType": "notebook",
      "isGpuEnabled": false
    },
    "colab": {
      "provenance": []
    }
  },
  "nbformat_minor": 0,
  "nbformat": 4,
  "cells": [
    {
      "cell_type": "markdown",
      "source": [
        "# Descriptive Statistics\n"
      ],
      "metadata": {
        "_uuid": "8f2839f25d086af736a60e9eeb907d3b93b6e0e5",
        "_cell_guid": "b1076dfc-b9ad-4769-8c92-a6c4dae69d19",
        "trusted": true,
        "id": "SKsPoTej3nZB"
      }
    },
    {
      "cell_type": "markdown",
      "source": [
        "Descriptive statistics are measures that summarize important features of data, often with a single number. Producing descriptive statistics is a common first step to take after cleaning and preparing a data set for analysis. We've already seen several examples of Descriptive statistics in earlier lessons, such as means and medians. In this lesson, we'll review some of these functions and explore several new ones."
      ],
      "metadata": {
        "_cell_guid": "79c7e3d0-c299-4dcb-8224-4455121ee9b0",
        "_uuid": "d629ff2d2480ee46fbb7e2d37f6b5fab8052498a",
        "id": "HFQHdJ063nZC"
      }
    },
    {
      "cell_type": "markdown",
      "source": [
        "## Measures of Center"
      ],
      "metadata": {
        "id": "ypvhfvjP3nZD"
      }
    },
    {
      "cell_type": "markdown",
      "source": [
        "Measures of center are statistics that give us a sense of the \"middle\" of a numeric variable. In other words, centrality measures give you a sense of a typical value you'd expect to see. Common measures of center include the mean, median and mode.\n",
        "\n",
        "The mean is simply an average: the sum of the values divided by the total number of records. As we've seen in previous lessons we can use df.mean() to get the mean of each column in a DataFrame:"
      ],
      "metadata": {
        "id": "czlgt76-3nZD"
      }
    },
    {
      "cell_type": "code",
      "source": [
        "%matplotlib inline\n",
        "\n",
        "import numpy as np\n",
        "import pandas as pd\n",
        "import matplotlib.pyplot as plt"
      ],
      "metadata": {
        "execution": {
          "iopub.status.busy": "2024-09-03T12:10:44.487550Z",
          "iopub.execute_input": "2024-09-03T12:10:44.487927Z",
          "iopub.status.idle": "2024-09-03T12:10:44.495318Z",
          "shell.execute_reply.started": "2024-09-03T12:10:44.487875Z",
          "shell.execute_reply": "2024-09-03T12:10:44.494019Z"
        },
        "trusted": true,
        "id": "kr7SHmCW3nZE"
      },
      "execution_count": null,
      "outputs": []
    },
    {
      "cell_type": "code",
      "source": [
        "mtcars = pd.read_csv(\"../input/mtcars/mtcars.csv\")\n",
        "mtcars =  mtcars.rename(columns={'Unnamed: 0': 'model'})\n",
        "mtcars.index = mtcars.model\n",
        "del mtcars[\"model\"]\n",
        "\n",
        "mtcars.head()"
      ],
      "metadata": {
        "execution": {
          "iopub.status.busy": "2024-09-03T12:10:52.064377Z",
          "iopub.execute_input": "2024-09-03T12:10:52.064810Z",
          "iopub.status.idle": "2024-09-03T12:10:52.103882Z",
          "shell.execute_reply.started": "2024-09-03T12:10:52.064741Z",
          "shell.execute_reply": "2024-09-03T12:10:52.102432Z"
        },
        "trusted": true,
        "id": "Pl559Rmq3nZF",
        "outputId": "ae2b9064-8dfa-48f6-ebd4-68a7b7f27256"
      },
      "execution_count": null,
      "outputs": [
        {
          "execution_count": 26,
          "output_type": "execute_result",
          "data": {
            "text/plain": "                    mpg  cyl   disp   hp  drat     wt   qsec  vs  am  gear  \\\nmodel                                                                        \nMazda RX4          21.0    6  160.0  110  3.90  2.620  16.46   0   1     4   \nMazda RX4 Wag      21.0    6  160.0  110  3.90  2.875  17.02   0   1     4   \nDatsun 710         22.8    4  108.0   93  3.85  2.320  18.61   1   1     4   \nHornet 4 Drive     21.4    6  258.0  110  3.08  3.215  19.44   1   0     3   \nHornet Sportabout  18.7    8  360.0  175  3.15  3.440  17.02   0   0     3   \n\n                   carb  \nmodel                    \nMazda RX4             4  \nMazda RX4 Wag         4  \nDatsun 710            1  \nHornet 4 Drive        1  \nHornet Sportabout     2  ",
            "text/html": "<div>\n<style scoped>\n    .dataframe tbody tr th:only-of-type {\n        vertical-align: middle;\n    }\n\n    .dataframe tbody tr th {\n        vertical-align: top;\n    }\n\n    .dataframe thead th {\n        text-align: right;\n    }\n</style>\n<table border=\"1\" class=\"dataframe\">\n  <thead>\n    <tr style=\"text-align: right;\">\n      <th></th>\n      <th>mpg</th>\n      <th>cyl</th>\n      <th>disp</th>\n      <th>hp</th>\n      <th>drat</th>\n      <th>wt</th>\n      <th>qsec</th>\n      <th>vs</th>\n      <th>am</th>\n      <th>gear</th>\n      <th>carb</th>\n    </tr>\n    <tr>\n      <th>model</th>\n      <th></th>\n      <th></th>\n      <th></th>\n      <th></th>\n      <th></th>\n      <th></th>\n      <th></th>\n      <th></th>\n      <th></th>\n      <th></th>\n      <th></th>\n    </tr>\n  </thead>\n  <tbody>\n    <tr>\n      <td>Mazda RX4</td>\n      <td>21.0</td>\n      <td>6</td>\n      <td>160.0</td>\n      <td>110</td>\n      <td>3.90</td>\n      <td>2.620</td>\n      <td>16.46</td>\n      <td>0</td>\n      <td>1</td>\n      <td>4</td>\n      <td>4</td>\n    </tr>\n    <tr>\n      <td>Mazda RX4 Wag</td>\n      <td>21.0</td>\n      <td>6</td>\n      <td>160.0</td>\n      <td>110</td>\n      <td>3.90</td>\n      <td>2.875</td>\n      <td>17.02</td>\n      <td>0</td>\n      <td>1</td>\n      <td>4</td>\n      <td>4</td>\n    </tr>\n    <tr>\n      <td>Datsun 710</td>\n      <td>22.8</td>\n      <td>4</td>\n      <td>108.0</td>\n      <td>93</td>\n      <td>3.85</td>\n      <td>2.320</td>\n      <td>18.61</td>\n      <td>1</td>\n      <td>1</td>\n      <td>4</td>\n      <td>1</td>\n    </tr>\n    <tr>\n      <td>Hornet 4 Drive</td>\n      <td>21.4</td>\n      <td>6</td>\n      <td>258.0</td>\n      <td>110</td>\n      <td>3.08</td>\n      <td>3.215</td>\n      <td>19.44</td>\n      <td>1</td>\n      <td>0</td>\n      <td>3</td>\n      <td>1</td>\n    </tr>\n    <tr>\n      <td>Hornet Sportabout</td>\n      <td>18.7</td>\n      <td>8</td>\n      <td>360.0</td>\n      <td>175</td>\n      <td>3.15</td>\n      <td>3.440</td>\n      <td>17.02</td>\n      <td>0</td>\n      <td>0</td>\n      <td>3</td>\n      <td>2</td>\n    </tr>\n  </tbody>\n</table>\n</div>"
          },
          "metadata": {}
        }
      ]
    },
    {
      "cell_type": "code",
      "source": [
        "mtcars.mean()                 # Get the mean of each column"
      ],
      "metadata": {
        "execution": {
          "iopub.status.busy": "2024-09-03T12:16:12.260051Z",
          "iopub.execute_input": "2024-09-03T12:16:12.260452Z",
          "iopub.status.idle": "2024-09-03T12:16:12.269687Z",
          "shell.execute_reply.started": "2024-09-03T12:16:12.260385Z",
          "shell.execute_reply": "2024-09-03T12:16:12.268572Z"
        },
        "trusted": true,
        "id": "g4qJlYEw3nZF",
        "outputId": "a78c473a-ddb7-42af-d1db-d8673a8884fc"
      },
      "execution_count": null,
      "outputs": [
        {
          "execution_count": 30,
          "output_type": "execute_result",
          "data": {
            "text/plain": "mpg      20.090625\ncyl       6.187500\ndisp    230.721875\nhp      146.687500\ndrat      3.596563\nwt        3.217250\nqsec     17.848750\nvs        0.437500\nam        0.406250\ngear      3.687500\ncarb      2.812500\ndtype: float64"
          },
          "metadata": {}
        }
      ]
    },
    {
      "cell_type": "markdown",
      "source": [
        "We can also get the means of each row by supplying an axis argument:"
      ],
      "metadata": {
        "id": "3318k5N33nZG"
      }
    },
    {
      "cell_type": "code",
      "source": [
        "mtcars.mean(axis=1)           # Get the mean of each row"
      ],
      "metadata": {
        "execution": {
          "iopub.status.busy": "2024-09-03T12:11:14.818624Z",
          "iopub.execute_input": "2024-09-03T12:11:14.819013Z",
          "iopub.status.idle": "2024-09-03T12:11:14.828595Z",
          "shell.execute_reply.started": "2024-09-03T12:11:14.818947Z",
          "shell.execute_reply": "2024-09-03T12:11:14.827331Z"
        },
        "trusted": true,
        "id": "G2cunOj23nZG",
        "outputId": "cc3c35f8-463b-4ca6-da79-877aa6778aa7"
      },
      "execution_count": null,
      "outputs": [
        {
          "execution_count": 28,
          "output_type": "execute_result",
          "data": {
            "text/plain": "model\nMazda RX4              29.907273\nMazda RX4 Wag          29.981364\nDatsun 710             23.598182\nHornet 4 Drive         38.739545\nHornet Sportabout      53.664545\nValiant                35.049091\nDuster 360             59.720000\nMerc 240D              24.634545\nMerc 230               27.233636\nMerc 280               31.860000\nMerc 280C              31.787273\nMerc 450SE             46.430909\nMerc 450SL             46.500000\nMerc 450SLC            46.350000\nCadillac Fleetwood     66.232727\nLincoln Continental    66.058545\nChrysler Imperial      65.972273\nFiat 128               19.440909\nHonda Civic            17.742273\nToyota Corolla         18.814091\nToyota Corona          24.888636\nDodge Challenger       47.240909\nAMC Javelin            46.007727\nCamaro Z28             58.752727\nPontiac Firebird       57.379545\nFiat X1-9              18.928636\nPorsche 914-2          24.779091\nLotus Europa           24.880273\nFord Pantera L         60.971818\nFerrari Dino           34.508182\nMaserati Bora          63.155455\nVolvo 142E             26.262727\ndtype: float64"
          },
          "metadata": {}
        }
      ]
    },
    {
      "cell_type": "markdown",
      "source": [
        "The median of a distribution is the value where 50% of the data lies below it and 50% lies above it. In essence, the median splits the data in half. The median is also known as the 50% percentile since 50% of the observations are found below it. As we've seen previously, you can get the median using the df.median() function:"
      ],
      "metadata": {
        "id": "kmvutr243nZH"
      }
    },
    {
      "cell_type": "code",
      "source": [
        "mtcars.median()                 # Get the median of each column"
      ],
      "metadata": {
        "execution": {
          "iopub.status.busy": "2024-09-03T12:01:25.085003Z",
          "iopub.execute_input": "2024-09-03T12:01:25.085338Z",
          "iopub.status.idle": "2024-09-03T12:01:25.096700Z",
          "shell.execute_reply.started": "2024-09-03T12:01:25.085284Z",
          "shell.execute_reply": "2024-09-03T12:01:25.095586Z"
        },
        "trusted": true,
        "id": "LuMGvXTm3nZH",
        "outputId": "288abad9-acd5-4120-e203-781cd843c754"
      },
      "execution_count": null,
      "outputs": [
        {
          "execution_count": 5,
          "output_type": "execute_result",
          "data": {
            "text/plain": "mpg      19.200\ncyl       6.000\ndisp    196.300\nhp      123.000\ndrat      3.695\nwt        3.325\nqsec     17.710\nvs        0.000\nam        0.000\ngear      4.000\ncarb      2.000\ndtype: float64"
          },
          "metadata": {}
        }
      ]
    },
    {
      "cell_type": "markdown",
      "source": [
        "Again, we could get the row medians across each row by supplying the argument axis=1.\n",
        "\n",
        "Although the mean and median both give us some sense of the center of a distribution, they aren't always the same. The median always gives us a value that splits the data into two halves while the mean is a numeric average so extreme values can have a significant impact on the mean. In a symmetric distribution, the mean and median will be the same. Let's investigate with a density plot:"
      ],
      "metadata": {
        "id": "HQK18Zg83nZH"
      }
    },
    {
      "cell_type": "code",
      "source": [
        "norm_data = pd.DataFrame(np.random.normal(size=100000))\n",
        "\n",
        "norm_data.plot(kind=\"density\",\n",
        "              figsize=(10,10));\n",
        "\n",
        "\n",
        "plt.vlines(norm_data.mean(),     # Plot green line at mean\n",
        "           ymin=0,\n",
        "           ymax=0.4,\n",
        "           linewidth=5.0,\n",
        "          color=\"green\");\n",
        "\n",
        "plt.vlines(norm_data.median(),   # Plot red line at median\n",
        "           ymin=0,\n",
        "           ymax=0.4,\n",
        "           linewidth=2.0,\n",
        "           color=\"red\");"
      ],
      "metadata": {
        "execution": {
          "iopub.status.busy": "2024-09-03T12:01:25.099326Z",
          "iopub.execute_input": "2024-09-03T12:01:25.099692Z",
          "iopub.status.idle": "2024-09-03T12:01:34.138901Z",
          "shell.execute_reply.started": "2024-09-03T12:01:25.099636Z",
          "shell.execute_reply": "2024-09-03T12:01:34.137752Z"
        },
        "trusted": true,
        "id": "qbTvGTn23nZI",
        "outputId": "ef452817-d4d8-4c99-c60e-e713fa89e337"
      },
      "execution_count": null,
      "outputs": [
        {
          "output_type": "display_data",
          "data": {
            "text/plain": "<Figure size 720x720 with 1 Axes>",
            "image/png": "[encoded data removed]"
          },
          "metadata": {
            "needs_background": "light"
          }
        }
      ]
    },
    {
      "cell_type": "markdown",
      "source": [
        "In the plot above the mean and median are both so close to zero that the red median line lies on top of the thicker black line drawn at the mean.\n",
        "\n",
        "In skewed distributions, the mean tends to get pulled in the direction of the skew, while the median tends to resist the effects of skew:"
      ],
      "metadata": {
        "id": "jQAp8WUe3nZI"
      }
    },
    {
      "cell_type": "code",
      "source": [
        "skewed_data = pd.DataFrame(np.random.exponential(size=100000))\n",
        "\n",
        "skewed_data.plot(kind=\"density\",\n",
        "              figsize=(10,10),\n",
        "              xlim=(-1,5));\n",
        "\n",
        "\n",
        "plt.vlines(skewed_data.mean(),     # Plot black line at mean\n",
        "           ymin=0,\n",
        "           ymax=0.8,\n",
        "           linewidth=5.0);\n",
        "\n",
        "plt.vlines(skewed_data.median(),   # Plot red line at median\n",
        "           ymin=0,\n",
        "           ymax=0.8,\n",
        "           linewidth=2.0,\n",
        "           color=\"red\");"
      ],
      "metadata": {
        "execution": {
          "iopub.status.busy": "2024-09-03T12:01:34.140740Z",
          "iopub.execute_input": "2024-09-03T12:01:34.141158Z",
          "iopub.status.idle": "2024-09-03T12:01:43.478029Z",
          "shell.execute_reply.started": "2024-09-03T12:01:34.141084Z",
          "shell.execute_reply": "2024-09-03T12:01:43.476926Z"
        },
        "trusted": true,
        "id": "sW6rumbw3nZI",
        "outputId": "968d08e7-b830-45ce-ea81-e412c4429457"
      },
      "execution_count": null,
      "outputs": [
        {
          "output_type": "display_data",
          "data": {
            "text/plain": "<Figure size 720x720 with 1 Axes>",
            "image/png": "[encoded data removed]"
          },
          "metadata": {
            "needs_background": "light"
          }
        }
      ]
    },
    {
      "cell_type": "markdown",
      "source": [
        "The mean is also influenced heavily by outliers, while the median resists the influence of outliers:"
      ],
      "metadata": {
        "id": "dJ7hvJoy3nZI"
      }
    },
    {
      "cell_type": "code",
      "source": [
        "norm_data = np.random.normal(size=50)\n",
        "outliers = np.random.normal(15, size=3)\n",
        "\n",
        "combined_data = pd.DataFrame(np.concatenate((norm_data, outliers), axis=0))\n",
        "\n",
        "combined_data.plot(kind=\"density\",\n",
        "              figsize=(10,10),\n",
        "              xlim=(-5,20));\n",
        "\n",
        "\n",
        "plt.vlines(combined_data.mean(),     # Plot black line at mean\n",
        "           ymin=0,\n",
        "           ymax=0.2,\n",
        "           linewidth=5.0);\n",
        "\n",
        "plt.vlines(combined_data.median(),   # Plot red line at median\n",
        "           ymin=0,\n",
        "           ymax=0.2,\n",
        "           linewidth=2.0,\n",
        "           color=\"red\");"
      ],
      "metadata": {
        "execution": {
          "iopub.status.busy": "2024-09-03T12:01:43.480056Z",
          "iopub.execute_input": "2024-09-03T12:01:43.480519Z",
          "iopub.status.idle": "2024-09-03T12:01:43.800692Z",
          "shell.execute_reply.started": "2024-09-03T12:01:43.480431Z",
          "shell.execute_reply": "2024-09-03T12:01:43.799583Z"
        },
        "trusted": true,
        "id": "wlXMjWY03nZI",
        "outputId": "f1298c7e-a4d9-43f7-e2f8-70c40aef522c"
      },
      "execution_count": null,
      "outputs": [
        {
          "output_type": "display_data",
          "data": {
            "text/plain": "<Figure size 720x720 with 1 Axes>",
            "image/png": "[encoded data removed]"
          },
          "metadata": {
            "needs_background": "light"
          }
        }
      ]
    },
    {
      "cell_type": "markdown",
      "source": [
        "Since the median tends to resist the effects of skewness and outliers, it is known a \"robust\" statistic. The median generally gives a better sense of the typical value in a distribution with significant skew or outliers.\n",
        "\n",
        "The mode of a variable is simply the value that appears most frequently. Unlike mean and median, you can take the mode of a categorical variable and it is possible to have multiple modes. Find the mode with df.mode():"
      ],
      "metadata": {
        "id": "e-v1XU5n3nZJ"
      }
    },
    {
      "cell_type": "code",
      "source": [
        "mtcars.mode()"
      ],
      "metadata": {
        "execution": {
          "iopub.status.busy": "2024-09-03T12:01:43.802358Z",
          "iopub.execute_input": "2024-09-03T12:01:43.802798Z",
          "iopub.status.idle": "2024-09-03T12:01:43.841047Z",
          "shell.execute_reply.started": "2024-09-03T12:01:43.802725Z",
          "shell.execute_reply": "2024-09-03T12:01:43.839886Z"
        },
        "trusted": true,
        "id": "Kz7SVuUt3nZJ",
        "outputId": "d0d0a355-a1f4-4737-ebbf-f17e5ba37d4b"
      },
      "execution_count": null,
      "outputs": [
        {
          "execution_count": 9,
          "output_type": "execute_result",
          "data": {
            "text/plain": "    mpg  cyl   disp     hp  drat    wt   qsec   vs   am  gear  carb\n0  10.4  8.0  275.8  110.0  3.07  3.44  17.02  0.0  0.0   3.0   2.0\n1  15.2  NaN    NaN  175.0  3.92   NaN  18.90  NaN  NaN   NaN   4.0\n2  19.2  NaN    NaN  180.0   NaN   NaN    NaN  NaN  NaN   NaN   NaN\n3  21.0  NaN    NaN    NaN   NaN   NaN    NaN  NaN  NaN   NaN   NaN\n4  21.4  NaN    NaN    NaN   NaN   NaN    NaN  NaN  NaN   NaN   NaN\n5  22.8  NaN    NaN    NaN   NaN   NaN    NaN  NaN  NaN   NaN   NaN\n6  30.4  NaN    NaN    NaN   NaN   NaN    NaN  NaN  NaN   NaN   NaN",
            "text/html": "<div>\n<style scoped>\n    .dataframe tbody tr th:only-of-type {\n        vertical-align: middle;\n    }\n\n    .dataframe tbody tr th {\n        vertical-align: top;\n    }\n\n    .dataframe thead th {\n        text-align: right;\n    }\n</style>\n<table border=\"1\" class=\"dataframe\">\n  <thead>\n    <tr style=\"text-align: right;\">\n      <th></th>\n      <th>mpg</th>\n      <th>cyl</th>\n      <th>disp</th>\n      <th>hp</th>\n      <th>drat</th>\n      <th>wt</th>\n      <th>qsec</th>\n      <th>vs</th>\n      <th>am</th>\n      <th>gear</th>\n      <th>carb</th>\n    </tr>\n  </thead>\n  <tbody>\n    <tr>\n      <td>0</td>\n      <td>10.4</td>\n      <td>8.0</td>\n      <td>275.8</td>\n      <td>110.0</td>\n      <td>3.07</td>\n      <td>3.44</td>\n      <td>17.02</td>\n      <td>0.0</td>\n      <td>0.0</td>\n      <td>3.0</td>\n      <td>2.0</td>\n    </tr>\n    <tr>\n      <td>1</td>\n      <td>15.2</td>\n      <td>NaN</td>\n      <td>NaN</td>\n      <td>175.0</td>\n      <td>3.92</td>\n      <td>NaN</td>\n      <td>18.90</td>\n      <td>NaN</td>\n      <td>NaN</td>\n      <td>NaN</td>\n      <td>4.0</td>\n    </tr>\n    <tr>\n      <td>2</td>\n      <td>19.2</td>\n      <td>NaN</td>\n      <td>NaN</td>\n      <td>180.0</td>\n      <td>NaN</td>\n      <td>NaN</td>\n      <td>NaN</td>\n      <td>NaN</td>\n      <td>NaN</td>\n      <td>NaN</td>\n      <td>NaN</td>\n    </tr>\n    <tr>\n      <td>3</td>\n      <td>21.0</td>\n      <td>NaN</td>\n      <td>NaN</td>\n      <td>NaN</td>\n      <td>NaN</td>\n      <td>NaN</td>\n      <td>NaN</td>\n      <td>NaN</td>\n      <td>NaN</td>\n      <td>NaN</td>\n      <td>NaN</td>\n    </tr>\n    <tr>\n      <td>4</td>\n      <td>21.4</td>\n      <td>NaN</td>\n      <td>NaN</td>\n      <td>NaN</td>\n      <td>NaN</td>\n      <td>NaN</td>\n      <td>NaN</td>\n      <td>NaN</td>\n      <td>NaN</td>\n      <td>NaN</td>\n      <td>NaN</td>\n    </tr>\n    <tr>\n      <td>5</td>\n      <td>22.8</td>\n      <td>NaN</td>\n      <td>NaN</td>\n      <td>NaN</td>\n      <td>NaN</td>\n      <td>NaN</td>\n      <td>NaN</td>\n      <td>NaN</td>\n      <td>NaN</td>\n      <td>NaN</td>\n      <td>NaN</td>\n    </tr>\n    <tr>\n      <td>6</td>\n      <td>30.4</td>\n      <td>NaN</td>\n      <td>NaN</td>\n      <td>NaN</td>\n      <td>NaN</td>\n      <td>NaN</td>\n      <td>NaN</td>\n      <td>NaN</td>\n      <td>NaN</td>\n      <td>NaN</td>\n      <td>NaN</td>\n    </tr>\n  </tbody>\n</table>\n</div>"
          },
          "metadata": {}
        }
      ]
    },
    {
      "cell_type": "markdown",
      "source": [
        "The columns with multiple modes (multiple values with the same count) return multiple values as the mode. Columns with no mode (no value that appears more than once) return NaN."
      ],
      "metadata": {
        "id": "CJ_z2Qmy3nZJ"
      }
    },
    {
      "cell_type": "markdown",
      "source": [
        "## Measures of Spread"
      ],
      "metadata": {
        "id": "8xbqvSMD3nZJ"
      }
    },
    {
      "cell_type": "markdown",
      "source": [
        "Measures of spread (dispersion) are statistics that describe how data varies. While measures of center give us an idea of the typical value, measures of spread give us a sense of how much the data tends to diverge from the typical value.\n",
        "\n",
        "One of the simplest measures of spread is the range. Range is the distance between the maximum and minimum observations:"
      ],
      "metadata": {
        "id": "pOKqIwhs3nZJ"
      }
    },
    {
      "cell_type": "code",
      "source": [
        "max(mtcars[\"mpg\"]) - min(mtcars[\"mpg\"])"
      ],
      "metadata": {
        "execution": {
          "iopub.status.busy": "2024-09-03T12:01:43.842821Z",
          "iopub.execute_input": "2024-09-03T12:01:43.843219Z",
          "iopub.status.idle": "2024-09-03T12:01:43.851240Z",
          "shell.execute_reply.started": "2024-09-03T12:01:43.843153Z",
          "shell.execute_reply": "2024-09-03T12:01:43.849708Z"
        },
        "trusted": true,
        "id": "1vO0NgR33nZK",
        "outputId": "3db66df2-9ca8-4f7b-9dd6-7322d9d2a6ec"
      },
      "execution_count": null,
      "outputs": [
        {
          "execution_count": 10,
          "output_type": "execute_result",
          "data": {
            "text/plain": "23.5"
          },
          "metadata": {}
        }
      ]
    },
    {
      "cell_type": "markdown",
      "source": [
        "As noted earlier, the median represents the 50th percentile of a data set. A summary of several percentiles can be used to describe a variable's spread. We can extract the minimum value (0th percentile), first quartile (25th percentile), median, third quartile(75th percentile) and maximum value (100th percentile) using the quantile() function:"
      ],
      "metadata": {
        "id": "Zfq2nK-z3nZK"
      }
    },
    {
      "cell_type": "code",
      "source": [
        "five_num = [mtcars[\"mpg\"].quantile(0),\n",
        "            mtcars[\"mpg\"].quantile(0.25),\n",
        "            mtcars[\"mpg\"].quantile(0.50),\n",
        "            mtcars[\"mpg\"].quantile(0.75),\n",
        "            mtcars[\"mpg\"].quantile(1)]\n",
        "\n",
        "five_num"
      ],
      "metadata": {
        "execution": {
          "iopub.status.busy": "2024-09-03T12:01:43.853051Z",
          "iopub.execute_input": "2024-09-03T12:01:43.853492Z",
          "iopub.status.idle": "2024-09-03T12:01:43.875486Z",
          "shell.execute_reply.started": "2024-09-03T12:01:43.853419Z",
          "shell.execute_reply": "2024-09-03T12:01:43.874187Z"
        },
        "trusted": true,
        "id": "wFXr_Mux3nZK",
        "outputId": "70f735bf-b48c-472e-b04f-05861c090781"
      },
      "execution_count": null,
      "outputs": [
        {
          "execution_count": 11,
          "output_type": "execute_result",
          "data": {
            "text/plain": "[10.4, 15.425, 19.2, 22.8, 33.9]"
          },
          "metadata": {}
        }
      ]
    },
    {
      "cell_type": "markdown",
      "source": [
        "Since these values are so commonly used to describe data, they are known as the \"five number summary\". They are the same percentile values returned by df.describe():"
      ],
      "metadata": {
        "id": "2s9mAQOq3nZK"
      }
    },
    {
      "cell_type": "code",
      "source": [
        "mtcars[\"mpg\"].describe()"
      ],
      "metadata": {
        "execution": {
          "iopub.status.busy": "2024-09-03T12:01:43.876929Z",
          "iopub.execute_input": "2024-09-03T12:01:43.877257Z",
          "iopub.status.idle": "2024-09-03T12:01:43.891909Z",
          "shell.execute_reply.started": "2024-09-03T12:01:43.877196Z",
          "shell.execute_reply": "2024-09-03T12:01:43.890763Z"
        },
        "trusted": true,
        "id": "Y1fg-Cjb3nZK",
        "outputId": "5bf6575c-f12f-423d-b5eb-6f882b920d85"
      },
      "execution_count": null,
      "outputs": [
        {
          "execution_count": 12,
          "output_type": "execute_result",
          "data": {
            "text/plain": "count    32.000000\nmean     20.090625\nstd       6.026948\nmin      10.400000\n25%      15.425000\n50%      19.200000\n75%      22.800000\nmax      33.900000\nName: mpg, dtype: float64"
          },
          "metadata": {}
        }
      ]
    },
    {
      "cell_type": "markdown",
      "source": [
        "Interquartile (IQR) range is another common measure of spread. IQR is the distance between the 3rd quartile and the 1st quartile:"
      ],
      "metadata": {
        "id": "M9aO7OXX3nZL"
      }
    },
    {
      "cell_type": "code",
      "source": [
        "mtcars[\"mpg\"].quantile(0.75) - mtcars[\"mpg\"].quantile(0.25)"
      ],
      "metadata": {
        "execution": {
          "iopub.status.busy": "2024-09-03T12:01:43.893561Z",
          "iopub.execute_input": "2024-09-03T12:01:43.893935Z",
          "iopub.status.idle": "2024-09-03T12:01:43.909572Z",
          "shell.execute_reply.started": "2024-09-03T12:01:43.893878Z",
          "shell.execute_reply": "2024-09-03T12:01:43.908333Z"
        },
        "trusted": true,
        "id": "T52-C8Fv3nZL",
        "outputId": "99a97a48-802d-4a1e-fd09-f41fbae561f8"
      },
      "execution_count": null,
      "outputs": [
        {
          "execution_count": 13,
          "output_type": "execute_result",
          "data": {
            "text/plain": "7.375"
          },
          "metadata": {}
        }
      ]
    },
    {
      "cell_type": "markdown",
      "source": [
        "The boxplots we learned to create in the lesson on plotting are just visual representations of the five number summary and IQR:"
      ],
      "metadata": {
        "id": "zbtDz7oL3nZL"
      }
    },
    {
      "cell_type": "code",
      "source": [
        "mtcars.boxplot(column=\"mpg\",\n",
        "               return_type='axes',\n",
        "               figsize=(8,8))\n",
        "\n",
        "plt.text(x=0.74, y=22.25, s=\"3rd Quartile\")\n",
        "plt.text(x=0.8, y=18.75, s=\"Median\")\n",
        "plt.text(x=0.75, y=15.5, s=\"1st Quartile\")\n",
        "plt.text(x=0.9, y=10, s=\"Min\")\n",
        "plt.text(x=0.9, y=33.5, s=\"Max\")\n",
        "plt.text(x=0.7, y=19.5, s=\"IQR\", rotation=90, size=25);"
      ],
      "metadata": {
        "execution": {
          "iopub.status.busy": "2024-09-03T12:01:43.911376Z",
          "iopub.execute_input": "2024-09-03T12:01:43.911881Z",
          "iopub.status.idle": "2024-09-03T12:01:44.133664Z",
          "shell.execute_reply.started": "2024-09-03T12:01:43.911795Z",
          "shell.execute_reply": "2024-09-03T12:01:44.132636Z"
        },
        "trusted": true,
        "id": "286CT9_X3nZL",
        "outputId": "ffa7e068-3bd4-439b-c9da-8f749024e1c3"
      },
      "execution_count": null,
      "outputs": [
        {
          "output_type": "display_data",
          "data": {
            "text/plain": "<Figure size 576x576 with 1 Axes>",
            "image/png": "[encoded data removed]"
          },
          "metadata": {
            "needs_background": "light"
          }
        }
      ]
    },
    {
      "cell_type": "markdown",
      "source": [
        "Variance and standard deviation are two other common measures of spread. The variance of a distribution is the average of the squared deviations (differences) from the mean. Use df.var() to check variance:"
      ],
      "metadata": {
        "id": "Oe_X5hby3nZL"
      }
    },
    {
      "cell_type": "code",
      "source": [
        "mtcars[\"mpg\"].var()"
      ],
      "metadata": {
        "execution": {
          "iopub.status.busy": "2024-09-03T12:28:21.883842Z",
          "iopub.execute_input": "2024-09-03T12:28:21.884241Z",
          "iopub.status.idle": "2024-09-03T12:28:21.891339Z",
          "shell.execute_reply.started": "2024-09-03T12:28:21.884161Z",
          "shell.execute_reply": "2024-09-03T12:28:21.890245Z"
        },
        "trusted": true,
        "id": "QfJrK5Wb3nZL",
        "outputId": "810eb83b-5cea-4a6b-c4ff-7faed47c8888"
      },
      "execution_count": null,
      "outputs": [
        {
          "execution_count": 33,
          "output_type": "execute_result",
          "data": {
            "text/plain": "36.32410282258065"
          },
          "metadata": {}
        }
      ]
    },
    {
      "cell_type": "markdown",
      "source": [
        "\n",
        "The standard deviation is the square root of the variance. Standard deviation can be more interpretable than variance, since the standard deviation is expressed in terms of the same units as the variable in question while variance is expressed in terms of units squared. Use df.std() to check the standard deviation:"
      ],
      "metadata": {
        "id": "dq89js2J3nZM"
      }
    },
    {
      "cell_type": "code",
      "source": [
        "mtcars[\"mpg\"].std()"
      ],
      "metadata": {
        "execution": {
          "iopub.status.busy": "2024-09-03T12:28:29.724105Z",
          "iopub.execute_input": "2024-09-03T12:28:29.724517Z",
          "iopub.status.idle": "2024-09-03T12:28:29.732030Z",
          "shell.execute_reply.started": "2024-09-03T12:28:29.724456Z",
          "shell.execute_reply": "2024-09-03T12:28:29.730750Z"
        },
        "trusted": true,
        "id": "P0pBr8a73nZM",
        "outputId": "065df48c-fe74-4e28-de54-b408047dad85"
      },
      "execution_count": null,
      "outputs": [
        {
          "execution_count": 34,
          "output_type": "execute_result",
          "data": {
            "text/plain": "6.026948052089105"
          },
          "metadata": {}
        }
      ]
    },
    {
      "cell_type": "markdown",
      "source": [
        "Since variance and standard deviation are both derived from the mean, they are susceptible to the influence of data skew and outliers. **Median absolute deviation (MAD)** is an alternative measure of spread based on the median, which inherits the median's robustness against the influence of skew and outliers. It is the median of the absolute value of the deviations from the median:"
      ],
      "metadata": {
        "id": "bFXXXtDk3nZM"
      }
    },
    {
      "cell_type": "code",
      "source": [
        "abs_median_devs = abs(mtcars[\"mpg\"] - mtcars[\"mpg\"].median())\n",
        "\n",
        "abs_median_devs.median() * 1.4826"
      ],
      "metadata": {
        "execution": {
          "iopub.status.busy": "2024-09-03T12:01:44.160742Z",
          "iopub.execute_input": "2024-09-03T12:01:44.161249Z",
          "iopub.status.idle": "2024-09-03T12:01:44.195698Z",
          "shell.execute_reply.started": "2024-09-03T12:01:44.161172Z",
          "shell.execute_reply": "2024-09-03T12:01:44.194096Z"
        },
        "trusted": true,
        "id": "aaJTUDJP3nZM",
        "outputId": "86e7cf6b-160b-48ae-e8dc-a5e6cd61b98d"
      },
      "execution_count": null,
      "outputs": [
        {
          "execution_count": 17,
          "output_type": "execute_result",
          "data": {
            "text/plain": "5.411490000000001"
          },
          "metadata": {}
        }
      ]
    },
    {
      "cell_type": "markdown",
      "source": [
        "*Note: The MAD is often multiplied by a scaling factor of 1.4826.*"
      ],
      "metadata": {
        "id": "lTma03Dw3nZM"
      }
    },
    {
      "cell_type": "markdown",
      "source": [
        "## Skewness and Kurtosis"
      ],
      "metadata": {
        "id": "Odk7BGlL3nZM"
      }
    },
    {
      "cell_type": "markdown",
      "source": [
        "Beyond measures of center and spread, descriptive statistics include measures that give you a sense of the shape of a distribution. Skewness measures the skew or asymmetry of a distribution while kurtosis measures how much data is in the tails of a distribution v.s. the center. We won't go into the exact calculations behind skewness and kurtosis, but they are essentially just statistics that take the idea of variance a step further: while variance involves squaring deviations from the mean, skewness involves cubing deviations from the mean and kurtosis involves raising deviations from the mean to the 4th power.\n",
        "\n",
        "Pandas has built in functions for checking skewness and kurtosis, df.skew() and df.kurt() respectively:"
      ],
      "metadata": {
        "id": "aNoMku693nZS"
      }
    },
    {
      "cell_type": "code",
      "source": [
        "mtcars[\"mpg\"].skew()  # Check skewness"
      ],
      "metadata": {
        "execution": {
          "iopub.status.busy": "2024-09-03T12:01:44.197429Z",
          "iopub.execute_input": "2024-09-03T12:01:44.197778Z",
          "iopub.status.idle": "2024-09-03T12:01:44.205275Z",
          "shell.execute_reply.started": "2024-09-03T12:01:44.197715Z",
          "shell.execute_reply": "2024-09-03T12:01:44.204323Z"
        },
        "trusted": true,
        "id": "0aTjOer43nZS",
        "outputId": "625c71b0-78c4-4f77-c482-4f7389b3a826"
      },
      "execution_count": null,
      "outputs": [
        {
          "execution_count": 18,
          "output_type": "execute_result",
          "data": {
            "text/plain": "0.6723771376290805"
          },
          "metadata": {}
        }
      ]
    },
    {
      "cell_type": "code",
      "source": [
        "mtcars[\"mpg\"].kurt()  # Check kurtosis"
      ],
      "metadata": {
        "execution": {
          "iopub.status.busy": "2024-09-03T12:01:44.206853Z",
          "iopub.execute_input": "2024-09-03T12:01:44.207161Z",
          "iopub.status.idle": "2024-09-03T12:01:44.218941Z",
          "shell.execute_reply.started": "2024-09-03T12:01:44.207112Z",
          "shell.execute_reply": "2024-09-03T12:01:44.217789Z"
        },
        "trusted": true,
        "id": "_UV9cfdl3nZS",
        "outputId": "21d9eaba-38da-47ee-dcad-17954f8ae084"
      },
      "execution_count": null,
      "outputs": [
        {
          "execution_count": 19,
          "output_type": "execute_result",
          "data": {
            "text/plain": "-0.0220062914240855"
          },
          "metadata": {}
        }
      ]
    },
    {
      "cell_type": "markdown",
      "source": [
        "To explore these two measures further, let's create some dummy data and inspect it:"
      ],
      "metadata": {
        "id": "XO7-aVzl3nZS"
      }
    },
    {
      "cell_type": "code",
      "source": [
        "norm_data = np.random.normal(size=100000)\n",
        "skewed_data = np.concatenate((np.random.normal(size=35000)+2,\n",
        "                             np.random.exponential(size=65000)),\n",
        "                             axis=0)\n",
        "uniform_data = np.random.uniform(0,2, size=100000)\n",
        "peaked_data = np.concatenate((np.random.exponential(size=50000),\n",
        "                             np.random.exponential(size=50000)*(-1)),\n",
        "                             axis=0)\n",
        "\n",
        "data_df = pd.DataFrame({\"norm\":norm_data,\n",
        "                       \"skewed\":skewed_data,\n",
        "                       \"uniform\":uniform_data,\n",
        "                       \"peaked\":peaked_data})"
      ],
      "metadata": {
        "execution": {
          "iopub.status.busy": "2024-09-03T12:01:44.220973Z",
          "iopub.execute_input": "2024-09-03T12:01:44.221309Z",
          "iopub.status.idle": "2024-09-03T12:01:44.258378Z",
          "shell.execute_reply.started": "2024-09-03T12:01:44.221241Z",
          "shell.execute_reply": "2024-09-03T12:01:44.257561Z"
        },
        "trusted": true,
        "id": "Ag6ju6cI3nZS"
      },
      "execution_count": null,
      "outputs": []
    },
    {
      "cell_type": "code",
      "source": [
        "data_df.plot(kind=\"density\",\n",
        "            figsize=(10,10),\n",
        "            xlim=(-5,5));"
      ],
      "metadata": {
        "execution": {
          "iopub.status.busy": "2024-09-03T12:01:44.260059Z",
          "iopub.execute_input": "2024-09-03T12:01:44.260492Z",
          "iopub.status.idle": "2024-09-03T12:02:39.479633Z",
          "shell.execute_reply.started": "2024-09-03T12:01:44.260416Z",
          "shell.execute_reply": "2024-09-03T12:02:39.478439Z"
        },
        "trusted": true,
        "id": "38VFPJsl3nZT",
        "outputId": "5c6f2499-d063-4c5a-9a89-564697a5e9df"
      },
      "execution_count": null,
      "outputs": [
        {
          "output_type": "display_data",
          "data": {
            "text/plain": "<Figure size 720x720 with 1 Axes>",
            "image/png": "[encoded data removed]"
          },
          "metadata": {
            "needs_background": "light"
          }
        }
      ]
    },
    {
      "cell_type": "markdown",
      "source": [
        "Now let's check the skewness of each of the distributions. Since skewness measures asymmetry, we'd expect to see low skewness for all of the distributions except the skewed one, because all the others are roughly symmetric:"
      ],
      "metadata": {
        "id": "b4sUeHcn3nZT"
      }
    },
    {
      "cell_type": "code",
      "source": [
        "data_df.skew()"
      ],
      "metadata": {
        "execution": {
          "iopub.status.busy": "2024-09-03T12:02:39.481543Z",
          "iopub.execute_input": "2024-09-03T12:02:39.481921Z",
          "iopub.status.idle": "2024-09-03T12:02:39.515631Z",
          "shell.execute_reply.started": "2024-09-03T12:02:39.481852Z",
          "shell.execute_reply": "2024-09-03T12:02:39.514647Z"
        },
        "trusted": true,
        "id": "1Thcv6md3nZT",
        "outputId": "518a0462-8aed-4398-bb8d-3ad03384effc"
      },
      "execution_count": null,
      "outputs": [
        {
          "execution_count": 22,
          "output_type": "execute_result",
          "data": {
            "text/plain": "norm      -0.004220\nskewed     0.981826\nuniform    0.001333\npeaked    -0.002365\ndtype: float64"
          },
          "metadata": {}
        }
      ]
    },
    {
      "cell_type": "markdown",
      "source": [
        "Now let's check kurtosis."
      ],
      "metadata": {
        "id": "lCbXR68O3nZT"
      }
    },
    {
      "cell_type": "code",
      "source": [
        "data_df.kurt()"
      ],
      "metadata": {
        "execution": {
          "iopub.status.busy": "2024-09-03T12:02:39.517156Z",
          "iopub.execute_input": "2024-09-03T12:02:39.517532Z",
          "iopub.status.idle": "2024-09-03T12:02:39.547894Z",
          "shell.execute_reply.started": "2024-09-03T12:02:39.517462Z",
          "shell.execute_reply": "2024-09-03T12:02:39.546638Z"
        },
        "trusted": true,
        "id": "ZSjMfa9e3nZT",
        "outputId": "e0eef3c2-9b4c-4ff2-e382-76ddf2ca3ee3"
      },
      "execution_count": null,
      "outputs": [
        {
          "execution_count": 23,
          "output_type": "execute_result",
          "data": {
            "text/plain": "norm      -0.025551\nskewed     1.215893\nuniform   -1.202284\npeaked     3.191907\ndtype: float64"
          },
          "metadata": {}
        }
      ]
    },
    {
      "cell_type": "markdown",
      "source": [
        "As we can see from the output, the normally distributed data has a kurtosis near zero, the flat distribution has negative kurtosis and the two distributions with more data in the tails vs the center have higher kurtosis."
      ],
      "metadata": {
        "id": "MQ7d2mMa3nZU"
      }
    },
    {
      "cell_type": "markdown",
      "source": [
        "## Wrap Up"
      ],
      "metadata": {
        "id": "32z0pFCV3nZU"
      }
    },
    {
      "cell_type": "markdown",
      "source": [
        "Descriptive statistics help you explore features of your data, like center, spread and shape by summarizing them with numerical measurements. Descriptive statistics help inform the direction of an analysis and let you communicate your insights to others quickly and succinctly. In addition, certain values, like the mean and variance, are used in all sorts of statistical tests and predictive models.\n",
        "\n",
        "In this lesson, we generated a lot of random data to illustrate concepts, but we haven't actually learned much about the functions we've been using to generate random data. In the next lesson, we'll learn about probability distributions, including how to draw random data from them."
      ],
      "metadata": {
        "id": "KnJhPl7d3nZU"
      }
    }
  ]
}