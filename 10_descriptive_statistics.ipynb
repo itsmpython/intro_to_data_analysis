{
  "metadata": {
    "kernelspec": {
      "display_name": "Python 3",
      "language": "python",
      "name": "python3"
    },
    "language_info": {
      "name": "python",
      "version": "3.6.6",
      "mimetype": "text/x-python",
      "codemirror_mode": {
        "name": "ipython",
        "version": 3
      },
      "pygments_lexer": "ipython3",
      "nbconvert_exporter": "python",
      "file_extension": ".py"
    },
    "kaggle": {
      "accelerator": "none",
      "dataSources": [
        {
          "sourceId": 3136,
          "databundleVersionId": 26502,
          "sourceType": "competition"
        },
        {
          "sourceId": 36005,
          "sourceType": "datasetVersion",
          "datasetId": 28259
        }
      ],
      "dockerImageVersionId": 29661,
      "isInternetEnabled": false,
      "language": "python",
      "sourceType": "notebook",
      "isGpuEnabled": false
    },
    "colab": {
      "provenance": []
    }
  },
  "nbformat_minor": 0,
  "nbformat": 4,
  "cells": [
    {
      "cell_type": "markdown",
      "source": [
        "# Descriptive Statistics"
      ],
      "metadata": {
        "_uuid": "8f2839f25d086af736a60e9eeb907d3b93b6e0e5",
        "_cell_guid": "b1076dfc-b9ad-4769-8c92-a6c4dae69d19",
        "trusted": true,
        "id": "o-MklXdjY5Ku"
      }
    },
    {
      "cell_type": "markdown",
      "source": [
        "Descriptive statistics are measures that summarize important features of data, often with a single number. Producing descriptive statistics is a common first step to take after cleaning and preparing a data set for analysis. We've already seen several examples of deceptive statistics in earlier lessons, such as means and medians. In this lesson, we'll review some of these functions and explore several new ones."
      ],
      "metadata": {
        "_cell_guid": "79c7e3d0-c299-4dcb-8224-4455121ee9b0",
        "_uuid": "d629ff2d2480ee46fbb7e2d37f6b5fab8052498a",
        "id": "3mKAwKUGY5Kw"
      }
    },
    {
      "cell_type": "markdown",
      "source": [
        "## Measures of Center"
      ],
      "metadata": {
        "id": "d3PFeSJrY5Kw"
      }
    },
    {
      "cell_type": "markdown",
      "source": [
        "Measures of center are statistics that give us a sense of the \"middle\" of a numeric variable. In other words, centrality measures give you a sense of a typical value you'd expect to see. Common measures of center include the mean, median and mode.\n",
        "\n",
        "The mean is simply an average: the sum of the values divided by the total number of records. As we've seen in previous lessons we can use df.mean() to get the mean of each column in a DataFrame:"
      ],
      "metadata": {
        "id": "2Nv_D9WuY5Kw"
      }
    },
    {
      "cell_type": "code",
      "source": [
        "%matplotlib inline\n",
        "\n",
        "import numpy as np\n",
        "import pandas as pd\n",
        "import matplotlib.pyplot as plt"
      ],
      "metadata": {
        "execution": {
          "iopub.status.busy": "2024-08-27T13:28:37.900681Z",
          "iopub.execute_input": "2024-08-27T13:28:37.901038Z",
          "iopub.status.idle": "2024-08-27T13:28:38.149373Z",
          "shell.execute_reply.started": "2024-08-27T13:28:37.900983Z",
          "shell.execute_reply": "2024-08-27T13:28:38.148001Z"
        },
        "trusted": true,
        "id": "a_XNO9HSY5Kx"
      },
      "execution_count": null,
      "outputs": []
    },
    {
      "cell_type": "code",
      "source": [
        "mtcars = pd.read_csv(\"../input/mtcars/mtcars.csv\")\n",
        "mtcars =  mtcars.rename(columns={'Unnamed: 0': 'model'})\n",
        "mtcars.index = mtcars.model\n",
        "del mtcars[\"model\"]\n",
        "\n",
        "mtcars.head()"
      ],
      "metadata": {
        "execution": {
          "iopub.status.busy": "2024-08-27T13:28:38.464257Z",
          "iopub.execute_input": "2024-08-27T13:28:38.464615Z",
          "iopub.status.idle": "2024-08-27T13:28:38.517433Z",
          "shell.execute_reply.started": "2024-08-27T13:28:38.464555Z",
          "shell.execute_reply": "2024-08-27T13:28:38.516418Z"
        },
        "trusted": true,
        "id": "N9R4bfqtY5Ky",
        "outputId": "ff8b9766-a959-4e03-b78c-00453ca91c5d"
      },
      "execution_count": null,
      "outputs": [
        {
          "execution_count": 2,
          "output_type": "execute_result",
          "data": {
            "text/plain": "                    mpg  cyl   disp   hp  drat     wt   qsec  vs  am  gear  \\\nmodel                                                                        \nMazda RX4          21.0    6  160.0  110  3.90  2.620  16.46   0   1     4   \nMazda RX4 Wag      21.0    6  160.0  110  3.90  2.875  17.02   0   1     4   \nDatsun 710         22.8    4  108.0   93  3.85  2.320  18.61   1   1     4   \nHornet 4 Drive     21.4    6  258.0  110  3.08  3.215  19.44   1   0     3   \nHornet Sportabout  18.7    8  360.0  175  3.15  3.440  17.02   0   0     3   \n\n                   carb  \nmodel                    \nMazda RX4             4  \nMazda RX4 Wag         4  \nDatsun 710            1  \nHornet 4 Drive        1  \nHornet Sportabout     2  ",
            "text/html": "<div>\n<style scoped>\n    .dataframe tbody tr th:only-of-type {\n        vertical-align: middle;\n    }\n\n    .dataframe tbody tr th {\n        vertical-align: top;\n    }\n\n    .dataframe thead th {\n        text-align: right;\n    }\n</style>\n<table border=\"1\" class=\"dataframe\">\n  <thead>\n    <tr style=\"text-align: right;\">\n      <th></th>\n      <th>mpg</th>\n      <th>cyl</th>\n      <th>disp</th>\n      <th>hp</th>\n      <th>drat</th>\n      <th>wt</th>\n      <th>qsec</th>\n      <th>vs</th>\n      <th>am</th>\n      <th>gear</th>\n      <th>carb</th>\n    </tr>\n    <tr>\n      <th>model</th>\n      <th></th>\n      <th></th>\n      <th></th>\n      <th></th>\n      <th></th>\n      <th></th>\n      <th></th>\n      <th></th>\n      <th></th>\n      <th></th>\n      <th></th>\n    </tr>\n  </thead>\n  <tbody>\n    <tr>\n      <td>Mazda RX4</td>\n      <td>21.0</td>\n      <td>6</td>\n      <td>160.0</td>\n      <td>110</td>\n      <td>3.90</td>\n      <td>2.620</td>\n      <td>16.46</td>\n      <td>0</td>\n      <td>1</td>\n      <td>4</td>\n      <td>4</td>\n    </tr>\n    <tr>\n      <td>Mazda RX4 Wag</td>\n      <td>21.0</td>\n      <td>6</td>\n      <td>160.0</td>\n      <td>110</td>\n      <td>3.90</td>\n      <td>2.875</td>\n      <td>17.02</td>\n      <td>0</td>\n      <td>1</td>\n      <td>4</td>\n      <td>4</td>\n    </tr>\n    <tr>\n      <td>Datsun 710</td>\n      <td>22.8</td>\n      <td>4</td>\n      <td>108.0</td>\n      <td>93</td>\n      <td>3.85</td>\n      <td>2.320</td>\n      <td>18.61</td>\n      <td>1</td>\n      <td>1</td>\n      <td>4</td>\n      <td>1</td>\n    </tr>\n    <tr>\n      <td>Hornet 4 Drive</td>\n      <td>21.4</td>\n      <td>6</td>\n      <td>258.0</td>\n      <td>110</td>\n      <td>3.08</td>\n      <td>3.215</td>\n      <td>19.44</td>\n      <td>1</td>\n      <td>0</td>\n      <td>3</td>\n      <td>1</td>\n    </tr>\n    <tr>\n      <td>Hornet Sportabout</td>\n      <td>18.7</td>\n      <td>8</td>\n      <td>360.0</td>\n      <td>175</td>\n      <td>3.15</td>\n      <td>3.440</td>\n      <td>17.02</td>\n      <td>0</td>\n      <td>0</td>\n      <td>3</td>\n      <td>2</td>\n    </tr>\n  </tbody>\n</table>\n</div>"
          },
          "metadata": {}
        }
      ]
    },
    {
      "cell_type": "code",
      "source": [
        "mtcars.mean()                 # Get the mean of each column"
      ],
      "metadata": {
        "execution": {
          "iopub.status.busy": "2024-08-27T13:29:06.570639Z",
          "iopub.execute_input": "2024-08-27T13:29:06.571122Z",
          "iopub.status.idle": "2024-08-27T13:29:06.579756Z",
          "shell.execute_reply.started": "2024-08-27T13:29:06.571054Z",
          "shell.execute_reply": "2024-08-27T13:29:06.579057Z"
        },
        "trusted": true,
        "id": "SauarygRY5Kz",
        "outputId": "183406fa-f1a2-450a-8363-4b7f07d5677a"
      },
      "execution_count": null,
      "outputs": [
        {
          "execution_count": 3,
          "output_type": "execute_result",
          "data": {
            "text/plain": "mpg      20.090625\ncyl       6.187500\ndisp    230.721875\nhp      146.687500\ndrat      3.596563\nwt        3.217250\nqsec     17.848750\nvs        0.437500\nam        0.406250\ngear      3.687500\ncarb      2.812500\ndtype: float64"
          },
          "metadata": {}
        }
      ]
    },
    {
      "cell_type": "markdown",
      "source": [
        "We can also get the means of each row by supplying an axis argument:"
      ],
      "metadata": {
        "id": "1ULxe-RtY5Kz"
      }
    },
    {
      "cell_type": "code",
      "source": [
        "mtcars.mean(axis=1)           # Get the mean of each row"
      ],
      "metadata": {
        "execution": {
          "iopub.status.busy": "2024-08-27T13:29:14.751203Z",
          "iopub.execute_input": "2024-08-27T13:29:14.751542Z",
          "iopub.status.idle": "2024-08-27T13:29:14.760187Z",
          "shell.execute_reply.started": "2024-08-27T13:29:14.751487Z",
          "shell.execute_reply": "2024-08-27T13:29:14.759106Z"
        },
        "trusted": true,
        "id": "ee1nWSyWY5K0",
        "outputId": "9646b008-b2ed-4209-8564-b61c283c492c"
      },
      "execution_count": null,
      "outputs": [
        {
          "execution_count": 4,
          "output_type": "execute_result",
          "data": {
            "text/plain": "model\nMazda RX4              29.907273\nMazda RX4 Wag          29.981364\nDatsun 710             23.598182\nHornet 4 Drive         38.739545\nHornet Sportabout      53.664545\nValiant                35.049091\nDuster 360             59.720000\nMerc 240D              24.634545\nMerc 230               27.233636\nMerc 280               31.860000\nMerc 280C              31.787273\nMerc 450SE             46.430909\nMerc 450SL             46.500000\nMerc 450SLC            46.350000\nCadillac Fleetwood     66.232727\nLincoln Continental    66.058545\nChrysler Imperial      65.972273\nFiat 128               19.440909\nHonda Civic            17.742273\nToyota Corolla         18.814091\nToyota Corona          24.888636\nDodge Challenger       47.240909\nAMC Javelin            46.007727\nCamaro Z28             58.752727\nPontiac Firebird       57.379545\nFiat X1-9              18.928636\nPorsche 914-2          24.779091\nLotus Europa           24.880273\nFord Pantera L         60.971818\nFerrari Dino           34.508182\nMaserati Bora          63.155455\nVolvo 142E             26.262727\ndtype: float64"
          },
          "metadata": {}
        }
      ]
    },
    {
      "cell_type": "markdown",
      "source": [
        "The median of a distribution is the value where 50% of the data lies below it and 50% lies above it. In essence, the median splits the data in half. The median is also known as the 50% percentile since 50% of the observations are found below it. As we've seen previously, you can get the median using the df.median() function:"
      ],
      "metadata": {
        "id": "oaw5GhnuY5K0"
      }
    },
    {
      "cell_type": "code",
      "source": [
        "mtcars.median()                 # Get the median of each column"
      ],
      "metadata": {
        "execution": {
          "iopub.status.busy": "2024-08-27T13:50:55.869254Z",
          "iopub.execute_input": "2024-08-27T13:50:55.869581Z",
          "iopub.status.idle": "2024-08-27T13:50:55.877722Z",
          "shell.execute_reply.started": "2024-08-27T13:50:55.869533Z",
          "shell.execute_reply": "2024-08-27T13:50:55.876772Z"
        },
        "trusted": true,
        "id": "hPm5uUQJY5K0",
        "outputId": "67e3e4c1-c5c3-482a-d143-9a403a44b346"
      },
      "execution_count": null,
      "outputs": [
        {
          "execution_count": 6,
          "output_type": "execute_result",
          "data": {
            "text/plain": "mpg      19.200\ncyl       6.000\ndisp    196.300\nhp      123.000\ndrat      3.695\nwt        3.325\nqsec     17.710\nvs        0.000\nam        0.000\ngear      4.000\ncarb      2.000\ndtype: float64"
          },
          "metadata": {}
        }
      ]
    },
    {
      "cell_type": "markdown",
      "source": [
        "Again, we could get the row medians across each row by supplying the argument axis=1.\n",
        "\n",
        "Although the mean and median both give us some sense of the center of a distribution, they aren't always the same. The median always gives us a value that splits the data into two halves while the mean is a numeric average so extreme values can have a significant impact on the mean. In a symmetric distribution, the mean and median will be the same. Let's investigate with a density plot:"
      ],
      "metadata": {
        "id": "9ztXcyOCY5K0"
      }
    },
    {
      "cell_type": "code",
      "source": [
        "norm_data = pd.DataFrame(np.random.normal(size=100000))\n",
        "\n",
        "norm_data.plot(kind=\"density\",\n",
        "              figsize=(10,10));\n",
        "\n",
        "\n",
        "plt.vlines(norm_data.mean(),     # Plot green line at mean\n",
        "           ymin=0,\n",
        "           ymax=0.4,\n",
        "           linewidth=5.0,\n",
        "          color=\"green\");\n",
        "\n",
        "plt.vlines(norm_data.median(),   # Plot red line at median\n",
        "           ymin=0,\n",
        "           ymax=0.4,\n",
        "           linewidth=2.0,\n",
        "           color=\"red\");"
      ],
      "metadata": {
        "execution": {
          "iopub.status.busy": "2024-08-27T14:24:19.030373Z",
          "iopub.execute_input": "2024-08-27T14:24:19.030704Z",
          "iopub.status.idle": "2024-08-27T14:24:26.546058Z",
          "shell.execute_reply.started": "2024-08-27T14:24:19.030655Z",
          "shell.execute_reply": "2024-08-27T14:24:26.545013Z"
        },
        "trusted": true,
        "id": "-QgvecpIY5K1",
        "outputId": "86dd9bc6-1906-4b0d-dee7-475aa57ddeb0"
      },
      "execution_count": null,
      "outputs": [
        {
          "output_type": "display_data",
          "data": {
            "text/plain": "<Figure size 720x720 with 1 Axes>",
            "image/png": "[encoded data removed]"
          },
          "metadata": {
            "needs_background": "light"
          }
        }
      ]
    },
    {
      "cell_type": "markdown",
      "source": [
        "In the plot above the mean and median are both so close to zero that the red median line lies on top of the thicker black line drawn at the mean.\n",
        "\n",
        "In skewed distributions, the mean tends to get pulled in the direction of the skew, while the median tends to resist the effects of skew:"
      ],
      "metadata": {
        "id": "yaK_DhYCY5K1"
      }
    },
    {
      "cell_type": "code",
      "source": [
        "skewed_data = pd.DataFrame(np.random.exponential(size=100000))\n",
        "\n",
        "skewed_data.plot(kind=\"density\",\n",
        "              figsize=(10,10),\n",
        "              xlim=(-1,5));\n",
        "\n",
        "\n",
        "plt.vlines(skewed_data.mean(),     # Plot black line at mean\n",
        "           ymin=0,\n",
        "           ymax=0.8,\n",
        "           linewidth=5.0);\n",
        "\n",
        "plt.vlines(skewed_data.median(),   # Plot red line at median\n",
        "           ymin=0,\n",
        "           ymax=0.8,\n",
        "           linewidth=2.0,\n",
        "           color=\"red\");"
      ],
      "metadata": {
        "execution": {
          "iopub.status.busy": "2024-08-27T14:25:06.075125Z",
          "iopub.execute_input": "2024-08-27T14:25:06.075473Z",
          "iopub.status.idle": "2024-08-27T14:25:14.571450Z",
          "shell.execute_reply.started": "2024-08-27T14:25:06.075420Z",
          "shell.execute_reply": "2024-08-27T14:25:14.570362Z"
        },
        "trusted": true,
        "id": "6AJYZSj6Y5K1",
        "outputId": "28417c9e-0903-4fa8-f48d-6108491c4099"
      },
      "execution_count": null,
      "outputs": [
        {
          "output_type": "display_data",
          "data": {
            "text/plain": "<Figure size 720x720 with 1 Axes>",
            "image/png": "[encoded data removed]"
          },
          "metadata": {
            "needs_background": "light"
          }
        }
      ]
    },
    {
      "cell_type": "markdown",
      "source": [
        "The mean is also influenced heavily by outliers, while the median resists the influence of outliers:"
      ],
      "metadata": {
        "id": "2Q6CoGcqY5K1"
      }
    },
    {
      "cell_type": "code",
      "source": [
        "norm_data = np.random.normal(size=50)\n",
        "outliers = np.random.normal(15, size=3)\n",
        "combined_data = pd.DataFrame(np.concatenate((norm_data, outliers), axis=0))\n",
        "\n",
        "combined_data.plot(kind=\"density\",\n",
        "              figsize=(10,10),\n",
        "              xlim=(-5,20));\n",
        "\n",
        "\n",
        "plt.vlines(combined_data.mean(),     # Plot black line at mean\n",
        "           ymin=0,\n",
        "           ymax=0.2,\n",
        "           linewidth=5.0);\n",
        "\n",
        "plt.vlines(combined_data.median(),   # Plot red line at median\n",
        "           ymin=0,\n",
        "           ymax=0.2,\n",
        "           linewidth=2.0,\n",
        "           color=\"red\");"
      ],
      "metadata": {
        "execution": {
          "iopub.status.busy": "2024-08-27T14:26:35.219593Z",
          "iopub.execute_input": "2024-08-27T14:26:35.220066Z",
          "iopub.status.idle": "2024-08-27T14:26:35.494225Z",
          "shell.execute_reply.started": "2024-08-27T14:26:35.219997Z",
          "shell.execute_reply": "2024-08-27T14:26:35.493233Z"
        },
        "trusted": true,
        "id": "CqkCiEZdY5K1",
        "outputId": "3cc18502-4c53-45e0-9be8-da076d44fedf"
      },
      "execution_count": null,
      "outputs": [
        {
          "output_type": "display_data",
          "data": {
            "text/plain": "<Figure size 720x720 with 1 Axes>",
            "image/png": "[encoded data removed]"
          },
          "metadata": {
            "needs_background": "light"
          }
        }
      ]
    },
    {
      "cell_type": "markdown",
      "source": [
        "Since the median tends to resist the effects of skewness and outliers, it is known a \"robust\" statistic. The median generally gives a better sense of the typical value in a distribution with significant skew or outliers.\n",
        "\n",
        "The mode of a variable is simply the value that appears most frequently. Unlike mean and median, you can take the mode of a categorical variable and it is possible to have multiple modes. Find the mode with df.mode():"
      ],
      "metadata": {
        "id": "qJnxLK5cY5K2"
      }
    },
    {
      "cell_type": "code",
      "source": [
        "mtcars.mode()"
      ],
      "metadata": {
        "execution": {
          "iopub.status.busy": "2024-08-27T14:27:32.801967Z",
          "iopub.execute_input": "2024-08-27T14:27:32.802392Z",
          "iopub.status.idle": "2024-08-27T14:27:32.840345Z",
          "shell.execute_reply.started": "2024-08-27T14:27:32.802322Z",
          "shell.execute_reply": "2024-08-27T14:27:32.839300Z"
        },
        "trusted": true,
        "id": "vEIrHXkZY5K2",
        "outputId": "e3b64aff-b76f-4f29-a6d4-c3261e33c169"
      },
      "execution_count": null,
      "outputs": [
        {
          "execution_count": 12,
          "output_type": "execute_result",
          "data": {
            "text/plain": "    mpg  cyl   disp     hp  drat    wt   qsec   vs   am  gear  carb\n0  10.4  8.0  275.8  110.0  3.07  3.44  17.02  0.0  0.0   3.0   2.0\n1  15.2  NaN    NaN  175.0  3.92   NaN  18.90  NaN  NaN   NaN   4.0\n2  19.2  NaN    NaN  180.0   NaN   NaN    NaN  NaN  NaN   NaN   NaN\n3  21.0  NaN    NaN    NaN   NaN   NaN    NaN  NaN  NaN   NaN   NaN\n4  21.4  NaN    NaN    NaN   NaN   NaN    NaN  NaN  NaN   NaN   NaN\n5  22.8  NaN    NaN    NaN   NaN   NaN    NaN  NaN  NaN   NaN   NaN\n6  30.4  NaN    NaN    NaN   NaN   NaN    NaN  NaN  NaN   NaN   NaN",
            "text/html": "<div>\n<style scoped>\n    .dataframe tbody tr th:only-of-type {\n        vertical-align: middle;\n    }\n\n    .dataframe tbody tr th {\n        vertical-align: top;\n    }\n\n    .dataframe thead th {\n        text-align: right;\n    }\n</style>\n<table border=\"1\" class=\"dataframe\">\n  <thead>\n    <tr style=\"text-align: right;\">\n      <th></th>\n      <th>mpg</th>\n      <th>cyl</th>\n      <th>disp</th>\n      <th>hp</th>\n      <th>drat</th>\n      <th>wt</th>\n      <th>qsec</th>\n      <th>vs</th>\n      <th>am</th>\n      <th>gear</th>\n      <th>carb</th>\n    </tr>\n  </thead>\n  <tbody>\n    <tr>\n      <td>0</td>\n      <td>10.4</td>\n      <td>8.0</td>\n      <td>275.8</td>\n      <td>110.0</td>\n      <td>3.07</td>\n      <td>3.44</td>\n      <td>17.02</td>\n      <td>0.0</td>\n      <td>0.0</td>\n      <td>3.0</td>\n      <td>2.0</td>\n    </tr>\n    <tr>\n      <td>1</td>\n      <td>15.2</td>\n      <td>NaN</td>\n      <td>NaN</td>\n      <td>175.0</td>\n      <td>3.92</td>\n      <td>NaN</td>\n      <td>18.90</td>\n      <td>NaN</td>\n      <td>NaN</td>\n      <td>NaN</td>\n      <td>4.0</td>\n    </tr>\n    <tr>\n      <td>2</td>\n      <td>19.2</td>\n      <td>NaN</td>\n      <td>NaN</td>\n      <td>180.0</td>\n      <td>NaN</td>\n      <td>NaN</td>\n      <td>NaN</td>\n      <td>NaN</td>\n      <td>NaN</td>\n      <td>NaN</td>\n      <td>NaN</td>\n    </tr>\n    <tr>\n      <td>3</td>\n      <td>21.0</td>\n      <td>NaN</td>\n      <td>NaN</td>\n      <td>NaN</td>\n      <td>NaN</td>\n      <td>NaN</td>\n      <td>NaN</td>\n      <td>NaN</td>\n      <td>NaN</td>\n      <td>NaN</td>\n      <td>NaN</td>\n    </tr>\n    <tr>\n      <td>4</td>\n      <td>21.4</td>\n      <td>NaN</td>\n      <td>NaN</td>\n      <td>NaN</td>\n      <td>NaN</td>\n      <td>NaN</td>\n      <td>NaN</td>\n      <td>NaN</td>\n      <td>NaN</td>\n      <td>NaN</td>\n      <td>NaN</td>\n    </tr>\n    <tr>\n      <td>5</td>\n      <td>22.8</td>\n      <td>NaN</td>\n      <td>NaN</td>\n      <td>NaN</td>\n      <td>NaN</td>\n      <td>NaN</td>\n      <td>NaN</td>\n      <td>NaN</td>\n      <td>NaN</td>\n      <td>NaN</td>\n      <td>NaN</td>\n    </tr>\n    <tr>\n      <td>6</td>\n      <td>30.4</td>\n      <td>NaN</td>\n      <td>NaN</td>\n      <td>NaN</td>\n      <td>NaN</td>\n      <td>NaN</td>\n      <td>NaN</td>\n      <td>NaN</td>\n      <td>NaN</td>\n      <td>NaN</td>\n      <td>NaN</td>\n    </tr>\n  </tbody>\n</table>\n</div>"
          },
          "metadata": {}
        }
      ]
    },
    {
      "cell_type": "markdown",
      "source": [
        "The columns with multiple modes (multiple values with the same count) return multiple values as the mode. Columns with no mode (no value that appears more than once) return NaN."
      ],
      "metadata": {
        "id": "StnUN3JiY5K2"
      }
    },
    {
      "cell_type": "markdown",
      "source": [
        "## Measures of Spread"
      ],
      "metadata": {
        "id": "uKqh8hKKY5K2"
      }
    },
    {
      "cell_type": "markdown",
      "source": [
        "Measures of spread (dispersion) are statistics that describe how data varies. While measures of center give us an idea of the typical value, measures of spread give us a sense of how much the data tends to diverge from the typical value.\n",
        "\n",
        "One of the simplest measures of spread is the range. Range is the distance between the maximum and minimum observations:"
      ],
      "metadata": {
        "id": "9vh2tkd9Y5K2"
      }
    },
    {
      "cell_type": "code",
      "source": [
        "max(mtcars[\"mpg\"]) - min(mtcars[\"mpg\"])"
      ],
      "metadata": {
        "execution": {
          "iopub.status.busy": "2024-08-27T14:28:56.048030Z",
          "iopub.execute_input": "2024-08-27T14:28:56.048407Z",
          "iopub.status.idle": "2024-08-27T14:28:56.054768Z",
          "shell.execute_reply.started": "2024-08-27T14:28:56.048343Z",
          "shell.execute_reply": "2024-08-27T14:28:56.053802Z"
        },
        "trusted": true,
        "id": "_nFCELhPY5K2",
        "outputId": "94db6224-ea9a-4ec9-9082-df3790ad640d"
      },
      "execution_count": null,
      "outputs": [
        {
          "execution_count": 16,
          "output_type": "execute_result",
          "data": {
            "text/plain": "23.5"
          },
          "metadata": {}
        }
      ]
    },
    {
      "cell_type": "markdown",
      "source": [
        "As noted earlier, the median represents the 50th percentile of a data set. A summary of several percentiles can be used to describe a variable's spread. We can extract the minimum value (0th percentile), first quartile (25th percentile), median, third quartile(75th percentile) and maximum value (100th percentile) using the quantile() function:"
      ],
      "metadata": {
        "id": "8k1rs7lfY5K3"
      }
    },
    {
      "cell_type": "code",
      "source": [
        "five_num = [mtcars[\"mpg\"].quantile(0),\n",
        "            mtcars[\"mpg\"].quantile(0.25),\n",
        "            mtcars[\"mpg\"].quantile(0.50),\n",
        "            mtcars[\"mpg\"].quantile(0.75),\n",
        "            mtcars[\"mpg\"].quantile(1)]\n",
        "\n",
        "five_num"
      ],
      "metadata": {
        "execution": {
          "iopub.status.busy": "2024-08-27T14:30:25.230605Z",
          "iopub.execute_input": "2024-08-27T14:30:25.231036Z",
          "iopub.status.idle": "2024-08-27T14:30:25.246385Z",
          "shell.execute_reply.started": "2024-08-27T14:30:25.230970Z",
          "shell.execute_reply": "2024-08-27T14:30:25.245567Z"
        },
        "trusted": true,
        "id": "_n081VxnY5K3",
        "outputId": "027a49aa-b22a-4991-b051-3e64b78a16bc"
      },
      "execution_count": null,
      "outputs": [
        {
          "execution_count": 18,
          "output_type": "execute_result",
          "data": {
            "text/plain": "[10.4, 15.425, 19.2, 22.8, 33.9]"
          },
          "metadata": {}
        }
      ]
    },
    {
      "cell_type": "markdown",
      "source": [
        "Since these values are so commonly used to describe data, they are known as the \"five number summary\". They are the same percentile values returned by df.describe():"
      ],
      "metadata": {
        "id": "OZB9cYp2Y5K3"
      }
    },
    {
      "cell_type": "code",
      "source": [
        "mtcars[\"mpg\"].describe()"
      ],
      "metadata": {
        "execution": {
          "iopub.status.busy": "2024-08-27T14:30:40.843868Z",
          "iopub.execute_input": "2024-08-27T14:30:40.844235Z",
          "iopub.status.idle": "2024-08-27T14:30:40.855289Z",
          "shell.execute_reply.started": "2024-08-27T14:30:40.844174Z",
          "shell.execute_reply": "2024-08-27T14:30:40.854385Z"
        },
        "trusted": true,
        "id": "m3ikW3pZY5K3",
        "outputId": "e239175c-85bd-4654-bf67-d215fff79d9a"
      },
      "execution_count": null,
      "outputs": [
        {
          "execution_count": 19,
          "output_type": "execute_result",
          "data": {
            "text/plain": "count    32.000000\nmean     20.090625\nstd       6.026948\nmin      10.400000\n25%      15.425000\n50%      19.200000\n75%      22.800000\nmax      33.900000\nName: mpg, dtype: float64"
          },
          "metadata": {}
        }
      ]
    },
    {
      "cell_type": "markdown",
      "source": [
        "Interquartile (IQR) range is another common measure of spread. IQR is the distance between the 3rd quartile and the 1st quartile:"
      ],
      "metadata": {
        "id": "lYw1sKctY5K3"
      }
    },
    {
      "cell_type": "code",
      "source": [
        "mtcars[\"mpg\"].quantile(0.75) - mtcars[\"mpg\"].quantile(0.25)"
      ],
      "metadata": {
        "execution": {
          "iopub.status.busy": "2024-08-27T14:31:42.400914Z",
          "iopub.execute_input": "2024-08-27T14:31:42.401335Z",
          "iopub.status.idle": "2024-08-27T14:31:42.413659Z",
          "shell.execute_reply.started": "2024-08-27T14:31:42.401266Z",
          "shell.execute_reply": "2024-08-27T14:31:42.412815Z"
        },
        "trusted": true,
        "id": "e3mEHkakY5K3",
        "outputId": "08a889cb-fc86-4b51-c2e7-6c73bc95216e"
      },
      "execution_count": null,
      "outputs": [
        {
          "execution_count": 20,
          "output_type": "execute_result",
          "data": {
            "text/plain": "7.375"
          },
          "metadata": {}
        }
      ]
    },
    {
      "cell_type": "markdown",
      "source": [
        "The boxplots we learned to create in the lesson on plotting are just visual representations of the five number summary and IQR:"
      ],
      "metadata": {
        "id": "Hdp_0vn-Y5K4"
      }
    },
    {
      "cell_type": "code",
      "source": [
        "mtcars.boxplot(column=\"mpg\",\n",
        "               return_type='axes',\n",
        "               figsize=(8,8))\n",
        "\n",
        "plt.text(x=0.74, y=22.25, s=\"3rd Quartile\")\n",
        "plt.text(x=0.8, y=18.75, s=\"Median\")\n",
        "plt.text(x=0.75, y=15.5, s=\"1st Quartile\")\n",
        "plt.text(x=0.9, y=10, s=\"Min\")\n",
        "plt.text(x=0.9, y=33.5, s=\"Max\")\n",
        "plt.text(x=0.7, y=19.5, s=\"IQR\", rotation=90, size=25);"
      ],
      "metadata": {
        "execution": {
          "iopub.status.busy": "2024-08-27T14:32:22.243124Z",
          "iopub.execute_input": "2024-08-27T14:32:22.243488Z",
          "iopub.status.idle": "2024-08-27T14:32:22.430292Z",
          "shell.execute_reply.started": "2024-08-27T14:32:22.243426Z",
          "shell.execute_reply": "2024-08-27T14:32:22.429249Z"
        },
        "trusted": true,
        "id": "U82HPBQWY5K4",
        "outputId": "390b89c8-191e-4d60-f034-81a2cb047b3a"
      },
      "execution_count": null,
      "outputs": [
        {
          "output_type": "display_data",
          "data": {
            "text/plain": "<Figure size 576x576 with 1 Axes>",
            "image/png": "[encoded data removed]"
          },
          "metadata": {
            "needs_background": "light"
          }
        }
      ]
    },
    {
      "cell_type": "markdown",
      "source": [
        "Variance and standard deviation are two other common measures of spread. The variance of a distribution is the average of the squared deviations (differences) from the mean. Use df.var() to check variance:"
      ],
      "metadata": {
        "id": "8VF3qjXGY5K4"
      }
    },
    {
      "cell_type": "code",
      "source": [
        "mtcars[\"mpg\"].var()"
      ],
      "metadata": {
        "execution": {
          "iopub.status.busy": "2024-08-27T14:32:52.969033Z",
          "iopub.execute_input": "2024-08-27T14:32:52.969409Z",
          "iopub.status.idle": "2024-08-27T14:32:52.975635Z",
          "shell.execute_reply.started": "2024-08-27T14:32:52.969345Z",
          "shell.execute_reply": "2024-08-27T14:32:52.974708Z"
        },
        "trusted": true,
        "id": "2agIBucAY5K4",
        "outputId": "4910d6aa-d6bc-4504-b2d3-d98d35ff71dd"
      },
      "execution_count": null,
      "outputs": [
        {
          "execution_count": 24,
          "output_type": "execute_result",
          "data": {
            "text/plain": "36.32410282258065"
          },
          "metadata": {}
        }
      ]
    },
    {
      "cell_type": "markdown",
      "source": [
        "\n",
        "The standard deviation is the square root of the variance. Standard deviation can be more interpretable than variance, since the standard deviation is expressed in terms of the same units as the variable in question while variance is expressed in terms of units squared. Use df.std() to check the standard deviation:"
      ],
      "metadata": {
        "id": "_IqxXg0dY5K4"
      }
    },
    {
      "cell_type": "code",
      "source": [
        "mtcars[\"mpg\"].std()"
      ],
      "metadata": {
        "execution": {
          "iopub.status.busy": "2024-08-27T14:32:56.728802Z",
          "iopub.execute_input": "2024-08-27T14:32:56.729196Z",
          "iopub.status.idle": "2024-08-27T14:32:56.735820Z",
          "shell.execute_reply.started": "2024-08-27T14:32:56.729138Z",
          "shell.execute_reply": "2024-08-27T14:32:56.734805Z"
        },
        "trusted": true,
        "id": "JtCfDbiVY5K4",
        "outputId": "177f1405-9d88-4ec0-cb20-1764f657ed9b"
      },
      "execution_count": null,
      "outputs": [
        {
          "execution_count": 25,
          "output_type": "execute_result",
          "data": {
            "text/plain": "6.026948052089105"
          },
          "metadata": {}
        }
      ]
    },
    {
      "cell_type": "markdown",
      "source": [
        "Since variance and standard deviation are both derived from the mean, they are susceptible to the influence of data skew and outliers. Median absolute deviation is an alternative measure of spread based on the median, which inherits the median's robustness against the influence of skew and outliers. It is the median of the absolute value of the deviations from the median:"
      ],
      "metadata": {
        "id": "JnykJ1JQY5K5"
      }
    },
    {
      "cell_type": "code",
      "source": [
        "abs_median_devs = abs(mtcars[\"mpg\"] - mtcars[\"mpg\"].median())\n",
        "\n",
        "abs_median_devs.median() * 1.4826"
      ],
      "metadata": {
        "execution": {
          "iopub.status.busy": "2024-08-27T14:33:41.552704Z",
          "iopub.execute_input": "2024-08-27T14:33:41.553104Z",
          "iopub.status.idle": "2024-08-27T14:33:41.586161Z",
          "shell.execute_reply.started": "2024-08-27T14:33:41.553032Z",
          "shell.execute_reply": "2024-08-27T14:33:41.585121Z"
        },
        "trusted": true,
        "id": "RQqenMuhY5K5",
        "outputId": "f22b9de4-65a6-44f3-e939-8cb88d8e3e90"
      },
      "execution_count": null,
      "outputs": [
        {
          "execution_count": 26,
          "output_type": "execute_result",
          "data": {
            "text/plain": "5.411490000000001"
          },
          "metadata": {}
        }
      ]
    },
    {
      "cell_type": "markdown",
      "source": [
        "*Note: The MAD is often multiplied by a scaling factor of 1.4826.*"
      ],
      "metadata": {
        "id": "hxGDwjaeY5K5"
      }
    },
    {
      "cell_type": "markdown",
      "source": [
        "## Skewness and Kurtosis"
      ],
      "metadata": {
        "id": "ej148B1LY5K5"
      }
    },
    {
      "cell_type": "markdown",
      "source": [
        "Beyond measures of center and spread, descriptive statistics include measures that give you a sense of the shape of a distribution. Skewness measures the skew or asymmetry of a distribution while kurtosis measures how much data is in the tails of a distribution v.s. the center. We won't go into the exact calculations behind skewness and kurtosis, but they are essentially just statistics that take the idea of variance a step further: while variance involves squaring deviations from the mean, skewness involves cubing deviations from the mean and kurtosis involves raising deviations from the mean to the 4th power.\n",
        "\n",
        "Pandas has built in functions for checking skewness and kurtosis, df.skew() and df.kurt() respectively:"
      ],
      "metadata": {
        "id": "pjTh02zxY5K5"
      }
    },
    {
      "cell_type": "code",
      "source": [
        "mtcars[\"mpg\"].skew()  # Check skewness"
      ],
      "metadata": {
        "execution": {
          "iopub.status.busy": "2024-08-27T14:34:17.425360Z",
          "iopub.execute_input": "2024-08-27T14:34:17.425741Z",
          "iopub.status.idle": "2024-08-27T14:34:17.432850Z",
          "shell.execute_reply.started": "2024-08-27T14:34:17.425672Z",
          "shell.execute_reply": "2024-08-27T14:34:17.431908Z"
        },
        "trusted": true,
        "id": "eatfio3bY5K6",
        "outputId": "a017c3a5-cfd1-4fbf-d7bf-0ced05145ac1"
      },
      "execution_count": null,
      "outputs": [
        {
          "execution_count": 27,
          "output_type": "execute_result",
          "data": {
            "text/plain": "0.6723771376290805"
          },
          "metadata": {}
        }
      ]
    },
    {
      "cell_type": "code",
      "source": [
        "mtcars[\"mpg\"].kurt()  # Check kurtosis"
      ],
      "metadata": {
        "execution": {
          "iopub.status.busy": "2024-08-27T14:34:22.366552Z",
          "iopub.execute_input": "2024-08-27T14:34:22.366958Z",
          "iopub.status.idle": "2024-08-27T14:34:22.373372Z",
          "shell.execute_reply.started": "2024-08-27T14:34:22.366897Z",
          "shell.execute_reply": "2024-08-27T14:34:22.372373Z"
        },
        "trusted": true,
        "id": "-7wj-hj-Y5K6",
        "outputId": "e9f900f7-7ead-434b-fa6d-ee392390f4c7"
      },
      "execution_count": null,
      "outputs": [
        {
          "execution_count": 28,
          "output_type": "execute_result",
          "data": {
            "text/plain": "-0.0220062914240855"
          },
          "metadata": {}
        }
      ]
    },
    {
      "cell_type": "markdown",
      "source": [
        "To explore these two measures further, let's create some dummy data and inspect it:"
      ],
      "metadata": {
        "id": "LuIAPmzaY5K6"
      }
    },
    {
      "cell_type": "code",
      "source": [
        "norm_data = np.random.normal(size=100000)\n",
        "skewed_data = np.concatenate((np.random.normal(size=35000)+2,\n",
        "                             np.random.exponential(size=65000)),\n",
        "                             axis=0)\n",
        "uniform_data = np.random.uniform(0,2, size=100000)\n",
        "peaked_data = np.concatenate((np.random.exponential(size=50000),\n",
        "                             np.random.exponential(size=50000)*(-1)),\n",
        "                             axis=0)\n",
        "\n",
        "data_df = pd.DataFrame({\"norm\":norm_data,\n",
        "                       \"skewed\":skewed_data,\n",
        "                       \"uniform\":uniform_data,\n",
        "                       \"peaked\":peaked_data})"
      ],
      "metadata": {
        "execution": {
          "iopub.status.busy": "2024-08-27T14:34:30.878995Z",
          "iopub.execute_input": "2024-08-27T14:34:30.879360Z",
          "iopub.status.idle": "2024-08-27T14:34:30.912679Z",
          "shell.execute_reply.started": "2024-08-27T14:34:30.879297Z",
          "shell.execute_reply": "2024-08-27T14:34:30.911585Z"
        },
        "trusted": true,
        "id": "lTlsRGG7Y5K6"
      },
      "execution_count": null,
      "outputs": []
    },
    {
      "cell_type": "code",
      "source": [
        "data_df.plot(kind=\"density\",\n",
        "            figsize=(10,10),\n",
        "            xlim=(-5,5));"
      ],
      "metadata": {
        "execution": {
          "iopub.status.busy": "2024-08-27T14:34:44.956231Z",
          "iopub.execute_input": "2024-08-27T14:34:44.956551Z",
          "iopub.status.idle": "2024-08-27T14:35:35.752253Z",
          "shell.execute_reply.started": "2024-08-27T14:34:44.956501Z",
          "shell.execute_reply": "2024-08-27T14:35:35.751201Z"
        },
        "trusted": true,
        "id": "dk5Et3WfY5K6",
        "outputId": "17940796-ec17-48c3-b50a-e96eff666beb"
      },
      "execution_count": null,
      "outputs": [
        {
          "output_type": "display_data",
          "data": {
            "text/plain": "<Figure size 720x720 with 1 Axes>",
            "image/png": "[encoded data removed]"
          },
          "metadata": {
            "needs_background": "light"
          }
        }
      ]
    },
    {
      "cell_type": "markdown",
      "source": [
        "Now let's check the skewness of each of the distributions. Since skewness measures asymmetry, we'd expect to see low skewness for all of the distributions except the skewed one, because all the others are roughly symmetric:"
      ],
      "metadata": {
        "id": "xAsRCc2cY5K7"
      }
    },
    {
      "cell_type": "code",
      "source": [
        "data_df.skew()"
      ],
      "metadata": {
        "execution": {
          "iopub.status.busy": "2024-08-27T14:36:07.485128Z",
          "iopub.execute_input": "2024-08-27T14:36:07.485477Z",
          "iopub.status.idle": "2024-08-27T14:36:07.517926Z",
          "shell.execute_reply.started": "2024-08-27T14:36:07.485423Z",
          "shell.execute_reply": "2024-08-27T14:36:07.516747Z"
        },
        "trusted": true,
        "id": "Xn2kEo6aY5K7",
        "outputId": "c07c15cd-19a6-429b-9ad4-95ef80f695b1"
      },
      "execution_count": null,
      "outputs": [
        {
          "execution_count": 31,
          "output_type": "execute_result",
          "data": {
            "text/plain": "norm       0.006152\nskewed     1.018452\nuniform    0.004254\npeaked    -0.000961\ndtype: float64"
          },
          "metadata": {}
        }
      ]
    },
    {
      "cell_type": "markdown",
      "source": [
        "Now let's check kurtosis."
      ],
      "metadata": {
        "id": "2HUZGBRwY5K7"
      }
    },
    {
      "cell_type": "code",
      "source": [
        "data_df.kurt()"
      ],
      "metadata": {
        "execution": {
          "iopub.status.busy": "2024-08-27T14:36:16.045479Z",
          "iopub.execute_input": "2024-08-27T14:36:16.045918Z",
          "iopub.status.idle": "2024-08-27T14:36:16.074049Z",
          "shell.execute_reply.started": "2024-08-27T14:36:16.045824Z",
          "shell.execute_reply": "2024-08-27T14:36:16.073207Z"
        },
        "trusted": true,
        "id": "JOeDYxDzY5K7",
        "outputId": "11c38065-e30a-4e20-dcd0-39a775ad18a4"
      },
      "execution_count": null,
      "outputs": [
        {
          "execution_count": 32,
          "output_type": "execute_result",
          "data": {
            "text/plain": "norm      -0.008616\nskewed     1.495955\nuniform   -1.194406\npeaked     3.133012\ndtype: float64"
          },
          "metadata": {}
        }
      ]
    },
    {
      "cell_type": "markdown",
      "source": [
        "As we can see from the output, the normally distributed data has a kurtosis near zero, the flat distribution has negative kurtosis and the two distributions with more data in the tails vs the center have higher kurtosis."
      ],
      "metadata": {
        "id": "U78U8ivMY5K7"
      }
    },
    {
      "cell_type": "markdown",
      "source": [
        "## Wrap Up"
      ],
      "metadata": {
        "id": "7dzNeqh3Y5K7"
      }
    },
    {
      "cell_type": "markdown",
      "source": [
        "Descriptive statistics help you explore features of your data, like center, spread and shape by summarizing them with numerical measurements. Descriptive statistics help inform the direction of an analysis and let you communicate your insights to others quickly and succinctly. In addition, certain values, like the mean and variance, are used in all sorts of statistical tests and predictive models.\n",
        "\n",
        "In this lesson, we generated a lot of random data to illustrate concepts, but we haven't actually learned much about the functions we've been using to generate random data. In the next lesson, we'll learn about probability distributions, including how to draw random data from them."
      ],
      "metadata": {
        "id": "W9uqnBqFY5K8"
      }
    }
  ]
}