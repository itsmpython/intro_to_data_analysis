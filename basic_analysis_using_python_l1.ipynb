{
 "cells": [
  {
   "cell_type": "markdown",
   "metadata": {},
   "source": [
    "## Load Data from CSVs"
   ]
  },
  {
   "cell_type": "code",
   "execution_count": 1,
   "metadata": {
    "scrolled": true
   },
   "outputs": [
    {
     "data": {
      "text/plain": [
       "{'account_key': '448',\n",
       " 'status': 'canceled',\n",
       " 'join_date': '2014-11-10',\n",
       " 'cancel_date': '2015-01-14',\n",
       " 'days_to_cancel': '65',\n",
       " 'is_udacity': 'True',\n",
       " 'is_canceled': 'True'}"
      ]
     },
     "execution_count": 1,
     "metadata": {},
     "output_type": "execute_result"
    }
   ],
   "source": [
    "import unicodecsv\n",
    "\n",
    "## Longer version of code (replaced with shorter, equivalent version below)\n",
    "\n",
    "# enrollments = []\n",
    "# f = open('enrollments.csv', 'rb')\n",
    "# reader = unicodecsv.DictReader(f)\n",
    "# for row in reader:\n",
    "#     enrollments.append(row)\n",
    "# f.close()\n",
    "\n",
    "with open('enrollments.csv', 'rb') as f:\n",
    "    reader = unicodecsv.DictReader(f)\n",
    "    enrollments = list(reader)\n",
    "enrollments[0]"
   ]
  },
  {
   "cell_type": "code",
   "execution_count": 2,
   "metadata": {
    "collapsed": false,
    "jupyter": {
     "outputs_hidden": false
    }
   },
   "outputs": [
    {
     "name": "stdout",
     "output_type": "stream",
     "text": [
      "[{'acct': '0', 'utc_date': '2015-01-09', 'num_courses_visited': '1.0', 'total_minutes_visited': '11.6793745', 'lessons_completed': '0.0', 'projects_completed': '0.0'}, {'acct': '0', 'utc_date': '2015-01-10', 'num_courses_visited': '2.0', 'total_minutes_visited': '37.2848873333', 'lessons_completed': '0.0', 'projects_completed': '0.0'}]\n"
     ]
    },
    {
     "data": {
      "text/plain": [
       "{'creation_date': '2015-01-14',\n",
       " 'completion_date': '2015-01-16',\n",
       " 'assigned_rating': 'UNGRADED',\n",
       " 'account_key': '256',\n",
       " 'lesson_key': '3176718735',\n",
       " 'processing_state': 'EVALUATED'}"
      ]
     },
     "execution_count": 2,
     "metadata": {},
     "output_type": "execute_result"
    }
   ],
   "source": [
    "#####################################\n",
    "#                 1                 #\n",
    "#####################################\n",
    "\n",
    "## Read in the data from daily_engagement.csv and project_submissions.csv \n",
    "## and store the results in the below variables.\n",
    "## Then look at the first row of each table.\n",
    "\n",
    "with open ('daily_engagement.csv', 'rb') as f:\n",
    "    reader = unicodecsv.DictReader(f)\n",
    "    daily_engagements =list (reader)\n",
    "with open ('project_submissions.csv', 'rb') as f:\n",
    "    reader = unicodecsv.DictReader(f)\n",
    "    project_submissions =list (reader)    \n",
    "\n",
    "\n",
    "print(daily_engagements[:2])\n",
    "#print(\"project_submissions are -->\")\n",
    "project_submissions[0]\n"
   ]
  },
  {
   "cell_type": "markdown",
   "metadata": {},
   "source": [
    "## Fixing Data Types"
   ]
  },
  {
   "cell_type": "code",
   "execution_count": 3,
   "metadata": {},
   "outputs": [
    {
     "name": "stdout",
     "output_type": "stream",
     "text": [
      "{'account_key': '448', 'status': 'canceled', 'join_date': '2014-11-10', 'cancel_date': '2015-01-14', 'days_to_cancel': '65', 'is_udacity': 'True', 'is_canceled': 'True'}\n",
      "Enrollments Sample Data\n"
     ]
    },
    {
     "data": {
      "text/plain": [
       "{'account_key': '448',\n",
       " 'status': 'canceled',\n",
       " 'join_date': datetime.datetime(2014, 11, 10, 0, 0),\n",
       " 'cancel_date': datetime.datetime(2015, 1, 14, 0, 0),\n",
       " 'days_to_cancel': 65,\n",
       " 'is_udacity': True,\n",
       " 'is_canceled': True}"
      ]
     },
     "execution_count": 3,
     "metadata": {},
     "output_type": "execute_result"
    }
   ],
   "source": [
    "from datetime import datetime as dt\n",
    "\n",
    "# Takes a date as a string, and returns a Python datetime object. \n",
    "# If there is no date given, returns None\n",
    "def parse_date(date):\n",
    "    if date in (None, ''):\n",
    "        return None\n",
    "    elif isinstance(date, dt):  # Check if val is already a datetime object\n",
    "        return date\n",
    "    else:\n",
    "        return dt.strptime(date, '%Y-%m-%d')\n",
    "        #return dt\n",
    "\n",
    "    \n",
    "# Takes a string which is either an empty string or represents an integer,\n",
    "# and returns an int or None.\n",
    "def parse_maybe_int(i):\n",
    "    if i in (None,''):\n",
    "        return None\n",
    "    else:\n",
    "        return int(i)\n",
    "\n",
    "print(enrollments[0])\n",
    "# Clean up the data types in the enrollments table\n",
    "for enrollment in enrollments:\n",
    "    enrollment['cancel_date'] = parse_date(enrollment['cancel_date'])\n",
    "    enrollment['days_to_cancel'] = parse_maybe_int(enrollment['days_to_cancel'])\n",
    "    enrollment['is_canceled'] = (enrollment['is_canceled'] == 'True')\n",
    "    enrollment['is_udacity'] = (enrollment['is_udacity'] == 'True')\n",
    "    enrollment['join_date'] = parse_date(enrollment['join_date'])\n",
    "    \n",
    "print(\"Enrollments Sample Data\")\n",
    "enrollments[0]"
   ]
  },
  {
   "cell_type": "code",
   "execution_count": 4,
   "metadata": {},
   "outputs": [
    {
     "name": "stdout",
     "output_type": "stream",
     "text": [
      "Daily Engagements Sample Data\n"
     ]
    },
    {
     "data": {
      "text/plain": [
       "{'acct': '0',\n",
       " 'utc_date': datetime.datetime(2015, 1, 9, 0, 0),\n",
       " 'num_courses_visited': 1,\n",
       " 'total_minutes_visited': 11.6793745,\n",
       " 'lessons_completed': 0,\n",
       " 'projects_completed': 0}"
      ]
     },
     "execution_count": 4,
     "metadata": {},
     "output_type": "execute_result"
    }
   ],
   "source": [
    "# Clean up the data types in the engagement table\n",
    "for engagement_record in daily_engagements:\n",
    "    engagement_record['lessons_completed'] = int(float(engagement_record['lessons_completed']))\n",
    "    engagement_record['num_courses_visited'] = int(float(engagement_record['num_courses_visited']))\n",
    "    engagement_record['projects_completed'] = int(float(engagement_record['projects_completed']))\n",
    "    engagement_record['total_minutes_visited'] = float(engagement_record['total_minutes_visited'])\n",
    "    engagement_record['utc_date'] = parse_date(engagement_record['utc_date'])\n",
    "    \n",
    "print(\"Daily Engagements Sample Data\")\n",
    "daily_engagements[0]"
   ]
  },
  {
   "cell_type": "code",
   "execution_count": 5,
   "metadata": {},
   "outputs": [
    {
     "name": "stdout",
     "output_type": "stream",
     "text": [
      "Project_submissions Sample Data\n"
     ]
    },
    {
     "data": {
      "text/plain": [
       "{'creation_date': datetime.datetime(2015, 1, 14, 0, 0),\n",
       " 'completion_date': datetime.datetime(2015, 1, 16, 0, 0),\n",
       " 'assigned_rating': 'UNGRADED',\n",
       " 'account_key': '256',\n",
       " 'lesson_key': '3176718735',\n",
       " 'processing_state': 'EVALUATED'}"
      ]
     },
     "execution_count": 5,
     "metadata": {},
     "output_type": "execute_result"
    }
   ],
   "source": [
    "# Clean up the data types in the submissions table\n",
    "for submission in project_submissions:\n",
    "    submission['completion_date'] = parse_date(submission['completion_date'])\n",
    "    submission['creation_date'] = parse_date(submission['creation_date'])\n",
    "\n",
    "print(\"Project_submissions Sample Data\")\n",
    "project_submissions[0]"
   ]
  },
  {
   "cell_type": "markdown",
   "metadata": {},
   "source": [
    "## Investigating the Data"
   ]
  },
  {
   "cell_type": "code",
   "execution_count": 6,
   "metadata": {},
   "outputs": [
    {
     "name": "stdout",
     "output_type": "stream",
     "text": [
      "Total Enrollments 1640\n",
      "Unique Enrollments  1302\n",
      "Total Daily Engagements 136240\n",
      "Unique Engagements  1237\n",
      "Total Project Submissions 3642\n",
      "Unique submissions  743\n"
     ]
    }
   ],
   "source": [
    "#####################################\n",
    "#                 2                 #\n",
    "#####################################\n",
    "\n",
    "## Find the total number of rows and the number of unique students (account keys)\n",
    "## in each table.\n",
    "\n",
    "def find_unique_accounts(list_data, acnt_key):\n",
    "    unique_list = set()\n",
    "    for val in list_data:\n",
    "        unique_list.add(val[acnt_key])\n",
    "    #return len(unique_list)\n",
    "    return unique_list\n",
    "\n",
    "\n",
    "ue = find_unique_accounts(enrollments, 'account_key')\n",
    "ueng = find_unique_accounts(daily_engagements, 'acct')\n",
    "psub = find_unique_accounts(project_submissions,'account_key')\n",
    "\n",
    "print(\"Total Enrollments\", len(enrollments))\n",
    "print(\"Unique Enrollments \",len(ue))\n",
    "print(\"Total Daily Engagements\", len(daily_engagements))\n",
    "print(\"Unique Engagements \",len(ueng))\n",
    "print(\"Total Project Submissions\", len(project_submissions))\n",
    "print(\"Unique submissions \",len(psub))"
   ]
  },
  {
   "cell_type": "markdown",
   "metadata": {},
   "source": [
    "## Problems in the Data"
   ]
  },
  {
   "cell_type": "code",
   "execution_count": 7,
   "metadata": {},
   "outputs": [
    {
     "name": "stdout",
     "output_type": "stream",
     "text": [
      "[{'utc_date': datetime.datetime(2015, 1, 9, 0, 0), 'num_courses_visited': 1, 'total_minutes_visited': 11.6793745, 'lessons_completed': 0, 'projects_completed': 0, 'account_key': '0'}, {'utc_date': datetime.datetime(2015, 1, 10, 0, 0), 'num_courses_visited': 2, 'total_minutes_visited': 37.2848873333, 'lessons_completed': 0, 'projects_completed': 0, 'account_key': '0'}]\n"
     ]
    }
   ],
   "source": [
    "#####################################\n",
    "#                 3                 #\n",
    "#####################################\n",
    "\n",
    "## Rename the \"acct\" column in the daily_engagement table to \"account_key\".\n",
    "\n",
    "for eng in daily_engagements:\n",
    "     eng['account_key']=eng.pop('acct')\n",
    "\n",
    "print(daily_engagements[:2])"
   ]
  },
  {
   "cell_type": "markdown",
   "metadata": {},
   "source": [
    "## Missing Engagement Records"
   ]
  },
  {
   "cell_type": "code",
   "execution_count": 8,
   "metadata": {},
   "outputs": [
    {
     "name": "stdout",
     "output_type": "stream",
     "text": [
      "1640\n",
      "1640\n"
     ]
    }
   ],
   "source": [
    "#####################################\n",
    "#                 4                 #\n",
    "#####################################\n",
    "\n",
    "## Find any one student enrollments where the student is missing from the daily engagement table.\n",
    "## Output that enrollment.\n",
    "num_mis_stud=0\n",
    "list_of_missing_students=[]\n",
    "for enr in enrollments:\n",
    "    enr_acct_key = enr['account_key']\n",
    "    if  enr_acct_key not in daily_engagements:\n",
    "        list_of_missing_students.append(enr_acct_key)\n",
    "        num_mis_stud +=1\n",
    "        # print(enr_acct_key, \"is NOT PRESENT in Engagements Table\")\n",
    "        # print(enr)\n",
    "        # break\n",
    "print(num_mis_stud)\n",
    "print(len(list_of_missing_students))"
   ]
  },
  {
   "cell_type": "markdown",
   "metadata": {},
   "source": [
    "## Checking for More Problem Records"
   ]
  },
  {
   "cell_type": "code",
   "execution_count": 9,
   "metadata": {},
   "outputs": [
    {
     "name": "stdout",
     "output_type": "stream",
     "text": [
      "{'account_key': '1304', 'status': 'canceled', 'join_date': datetime.datetime(2015, 1, 10, 0, 0), 'cancel_date': datetime.datetime(2015, 3, 10, 0, 0), 'days_to_cancel': 59, 'is_udacity': True, 'is_canceled': True}\n",
      "{'account_key': '1304', 'status': 'canceled', 'join_date': datetime.datetime(2015, 3, 10, 0, 0), 'cancel_date': datetime.datetime(2015, 6, 17, 0, 0), 'days_to_cancel': 99, 'is_udacity': True, 'is_canceled': True}\n",
      "{'account_key': '1101', 'status': 'current', 'join_date': datetime.datetime(2015, 2, 25, 0, 0), 'cancel_date': None, 'days_to_cancel': None, 'is_udacity': True, 'is_canceled': False}\n",
      "Number of enrollments missing from the engagement table is: \n"
     ]
    },
    {
     "data": {
      "text/plain": [
       "3"
      ]
     },
     "execution_count": 9,
     "metadata": {},
     "output_type": "execute_result"
    }
   ],
   "source": [
    "#####################################\n",
    "#                 5                 #\n",
    "#####################################\n",
    "\n",
    "## Find the number of surprising data points (enrollments missing from\n",
    "## the engagement table) that remain, if any.\n",
    "students_not_engaged = 0\n",
    "for enrollment in enrollments:\n",
    "    student_id = enrollment['account_key']\n",
    "    if student_id not in ueng and enrollment['join_date'] != enrollment['cancel_date']:\n",
    "        students_not_engaged += 1\n",
    "        print(enrollment)\n",
    "print(\"Number of enrollments missing from the engagement table is: \")\n",
    "students_not_engaged"
   ]
  },
  {
   "cell_type": "markdown",
   "metadata": {},
   "source": [
    "## Tracking Down the Remaining Problems"
   ]
  },
  {
   "cell_type": "code",
   "execution_count": 10,
   "metadata": {
    "collapsed": true,
    "jupyter": {
     "outputs_hidden": true
    }
   },
   "outputs": [
    {
     "name": "stdout",
     "output_type": "stream",
     "text": [
      "{'818', '1069', '1304', '448', '312', '1101'}\n"
     ]
    }
   ],
   "source": [
    "# Create a set of the account keys for all Udacity test accounts\n",
    "udacity_test_accounts = set()\n",
    "for enrollment in enrollments:\n",
    "    if enrollment['is_udacity'] == True:\n",
    "        udacity_test_accounts.add(enrollment['account_key'])\n",
    "len(udacity_test_accounts)\n",
    "print(udacity_test_accounts)"
   ]
  },
  {
   "cell_type": "code",
   "execution_count": 11,
   "metadata": {
    "collapsed": true,
    "jupyter": {
     "outputs_hidden": true
    }
   },
   "outputs": [],
   "source": [
    "# Given some data with an account_key field, removes any records corresponding to Udacity test accounts\n",
    "def remove_udacity_accounts(data):\n",
    "    non_udacity_data = []\n",
    "    for data_point in data:\n",
    "        if data_point['account_key'] not in udacity_test_accounts:\n",
    "            non_udacity_data.append(data_point)\n",
    "    return non_udacity_data\n",
    "\n",
    "#  Remove accounts without Joining Date\n",
    "def remove_no_join_date_accounts(data):\n",
    "    with_join_date=[]\n",
    "    for data_point in data:\n",
    "        #print (data_point['join_date'])\n",
    "        if data_point['join_date'] not in (None, '', ' '):\n",
    "            with_join_date.append(data_point)\n",
    "    return with_join_date\n"
   ]
  },
  {
   "cell_type": "code",
   "execution_count": 12,
   "metadata": {
    "collapsed": true,
    "jupyter": {
     "outputs_hidden": true
    }
   },
   "outputs": [
    {
     "name": "stdout",
     "output_type": "stream",
     "text": [
      "Total Paid Enrollments\n",
      "1622\n",
      "Total Paid Engagements\n",
      "135656\n",
      "Total Submissions for Paid Enrollments\n",
      "3634\n"
     ]
    }
   ],
   "source": [
    "# Remove Udacity test accounts from all three tables\n",
    "non_udacity_enrollments = remove_udacity_accounts(enrollments)\n",
    "non_udacity_engagement = remove_udacity_accounts(daily_engagements)\n",
    "non_udacity_submissions = remove_udacity_accounts(project_submissions)\n",
    "\n",
    "print('Total Paid Enrollments')\n",
    "print (len(non_udacity_enrollments))\n",
    "print('Total Paid Engagements')\n",
    "print (len(non_udacity_engagement))\n",
    "print('Total Submissions for Paid Enrollments')\n",
    "print (len(non_udacity_submissions))\n"
   ]
  },
  {
   "cell_type": "markdown",
   "metadata": {},
   "source": [
    "## Refining the Question"
   ]
  },
  {
   "cell_type": "code",
   "execution_count": 13,
   "metadata": {
    "collapsed": true,
    "jupyter": {
     "outputs_hidden": true
    }
   },
   "outputs": [
    {
     "data": {
      "text/plain": [
       "995"
      ]
     },
     "execution_count": 13,
     "metadata": {},
     "output_type": "execute_result"
    }
   ],
   "source": [
    "#####################################\n",
    "#                 6                 #\n",
    "#####################################\n",
    "\n",
    "## Create a dictionary named paid_students containing all students who either\n",
    "## haven't canceled yet or who remained enrolled for more than 7 days. The keys\n",
    "## should be account keys, and the values should be the date the student enrolled.\n",
    "\n",
    "paid_students = {}\n",
    "for enroll in non_udacity_enrollments:\n",
    "    if enroll['days_to_cancel'] is None or enroll['days_to_cancel'] > 7:\n",
    "        key = enroll['account_key']\n",
    "        date = enroll['join_date']\n",
    "        if key not in paid_students or date > paid_students[key]:\n",
    "            paid_students[key] = date\n",
    "len(paid_students)\n",
    "#print(non_udacity_engagement[0])"
   ]
  },
  {
   "cell_type": "markdown",
   "metadata": {},
   "source": [
    "## Getting Data from First Week"
   ]
  },
  {
   "cell_type": "code",
   "execution_count": 14,
   "metadata": {
    "collapsed": true,
    "jupyter": {
     "outputs_hidden": true
    }
   },
   "outputs": [],
   "source": [
    "# Takes a student's join date and the date of a specific engagement record,\n",
    "# and returns True if that engagement record happened within one week\n",
    "# of the student joining.\n",
    "def within_one_week(join_date, engagement_date):\n",
    "    time_delta = engagement_date - join_date\n",
    "    return time_delta.days < 7 and time_delta.days >= 0"
   ]
  },
  {
   "cell_type": "code",
   "execution_count": 15,
   "metadata": {
    "collapsed": true,
    "jupyter": {
     "outputs_hidden": true
    }
   },
   "outputs": [
    {
     "name": "stdout",
     "output_type": "stream",
     "text": [
      "{'utc_date': datetime.datetime(2015, 1, 9, 0, 0), 'num_courses_visited': 1, 'total_minutes_visited': 11.6793745, 'lessons_completed': 0, 'projects_completed': 0, 'account_key': '0'}\n"
     ]
    }
   ],
   "source": [
    "#####################################\n",
    "#                 7                 #\n",
    "#####################################\n",
    "\n",
    "## Create a list of rows from the engagement table including only rows where\n",
    "## the student is one of the paid students you just found, and the date is within\n",
    "## one week of the student's join date.\n",
    "\n",
    "# number of days student has engaged\n",
    "\n",
    "paid_engagement_in_first_week = []\n",
    "for student in non_udacity_engagement:\n",
    "    key = student['account_key']\n",
    "    if key in paid_students and within_one_week(paid_students[key], student['utc_date']):\n",
    "        paid_engagement_in_first_week.append(student)\n",
    "len(paid_engagement_in_first_week)\n",
    "print(paid_engagement_in_first_week[0])\n"
   ]
  },
  {
   "cell_type": "markdown",
   "metadata": {},
   "source": [
    "## Exploring Student Engagement"
   ]
  },
  {
   "cell_type": "code",
   "execution_count": 34,
   "metadata": {
    "collapsed": true,
    "jupyter": {
     "outputs_hidden": true
    }
   },
   "outputs": [],
   "source": [
    "from collections import defaultdict\n",
    "\n",
    "# Create a dictionary of engagement grouped by student.\n",
    "# The keys are account keys, and the values are lists of engagement records.\n",
    "\n",
    "# IMPORTANT NOTE ##\n",
    "# Each Record here is now getting grouped by Account Key\n",
    "\n",
    "engagement_by_account = defaultdict(list)\n",
    "for engagement_record in paid_engagement_in_first_week:\n",
    "    account_key = engagement_record['account_key']\n",
    "    engagement_by_account[account_key].append(engagement_record)\n",
    "\n",
    "#print(engagement_by_account)"
   ]
  },
  {
   "cell_type": "code",
   "execution_count": 35,
   "metadata": {
    "collapsed": true,
    "jupyter": {
     "outputs_hidden": true
    }
   },
   "outputs": [],
   "source": [
    "# Create a dictionary with the total minutes each student spent in the classroom during the first week.\n",
    "# The keys are account keys, and the values are numbers (total minutes)\n",
    "total_minutes_by_account = {}\n",
    "for account_key, engagement_for_student in engagement_by_account.items():\n",
    "    total_minutes = 0\n",
    "    for engagement_record in engagement_for_student:\n",
    "        total_minutes += engagement_record['total_minutes_visited']\n",
    "    total_minutes_by_account[account_key] = total_minutes\n",
    "\n",
    "#print(total_minutes_by_account)"
   ]
  },
  {
   "cell_type": "code",
   "execution_count": 18,
   "metadata": {
    "collapsed": true,
    "jupyter": {
     "outputs_hidden": true
    }
   },
   "outputs": [
    {
     "name": "stdout",
     "output_type": "stream",
     "text": [
      "Mean: 306.70832675342825\n",
      "Standard deviation: 412.99693340852957\n",
      "Minimum: 0.0\n",
      "Maximum: 3564.7332644989997\n"
     ]
    }
   ],
   "source": [
    "import numpy as np\n",
    "\n",
    "# Summarize the data about minutes spent in the classroom\n",
    "total_minutes = list(total_minutes_by_account.values())\n",
    "print ('Mean:', np.mean(total_minutes))\n",
    "print ('Standard deviation:', np.std(total_minutes))\n",
    "print ('Minimum:', np.min(total_minutes))\n",
    "print ('Maximum:', np.max(total_minutes))"
   ]
  },
  {
   "cell_type": "markdown",
   "metadata": {},
   "source": [
    "## Debugging Data Analysis Code"
   ]
  },
  {
   "cell_type": "code",
   "execution_count": 19,
   "metadata": {
    "collapsed": true,
    "jupyter": {
     "outputs_hidden": true
    }
   },
   "outputs": [],
   "source": [
    "#####################################\n",
    "#                 8                 #\n",
    "#####################################\n",
    "\n",
    "## Go through a similar process as before to see if there is a problem.\n",
    "## Locate at least one surprising piece of data, output it, and take a look at it.\n",
    "#Create a Function to find sum of grouped items based on the code in the previous snippet \"total_minutes_by_account\"\n",
    "#####################################\n",
    "#                 ARJUN             #\n",
    "#####################################\n",
    "\n",
    "def sum_grouped_items(engagement_by_account:object, interested_variable:object) ->object:\n",
    "    total_by_variable = {}\n",
    "    for account_key, engagement_for_student in engagement_by_account.items():\n",
    "        total_value = 0\n",
    "        for engagement_record in engagement_for_student:\n",
    "            total_value += engagement_record[interested_variable]\n",
    "        total_by_variable[account_key] = total_value\n",
    "    \n",
    "    total_by_variable=list(total_by_variable.values())\n",
    "    return print('Mean:', np.mean(total_by_variable),'\\n' 'Standard deviation:',\n",
    "     np.std(total_by_variable), '\\n' 'Minimum:', np.min(total_by_variable),'\\n' \n",
    "     'Maximum:', np.max(total_by_variable), '\\n') \n",
    "    "
   ]
  },
  {
   "cell_type": "markdown",
   "metadata": {},
   "source": [
    "## Lessons Completed in First Week"
   ]
  },
  {
   "cell_type": "code",
   "execution_count": 26,
   "metadata": {
    "collapsed": true,
    "jupyter": {
     "outputs_hidden": true
    }
   },
   "outputs": [
    {
     "name": "stdout",
     "output_type": "stream",
     "text": [
      "Deviations for Lessnos Completed\n",
      "Mean: 1.636180904522613 \n",
      "Standard deviation: 3.002561299829423 \n",
      "Minimum: 0 \n",
      "Maximum: 36 \n",
      "\n"
     ]
    }
   ],
   "source": [
    "#####################################\n",
    "#                 9                 #\n",
    "#####################################\n",
    "\n",
    "## Adapt the code above to find the mean, standard deviation, minimum, and maximum for\n",
    "## the number of lessons completed by each student during the first week. Try creating\n",
    "## one or more functions to re-use the code above.\n",
    "\n",
    "print('Deviations for Lessnos Completed')\n",
    "total_days_visited_by_account = sum_grouped_items(engagement_by_account, 'lessons_completed')\n"
   ]
  },
  {
   "cell_type": "markdown",
   "metadata": {},
   "source": [
    "## Number of Visits in First Week"
   ]
  },
  {
   "cell_type": "code",
   "execution_count": 27,
   "metadata": {
    "collapsed": true,
    "jupyter": {
     "outputs_hidden": true
    }
   },
   "outputs": [
    {
     "name": "stdout",
     "output_type": "stream",
     "text": [
      "Deviations of students who has visited the classes\n",
      "Mean: 2.8673366834170855 \n",
      "Standard deviation: 2.2551980029196814 \n",
      "Minimum: 0 \n",
      "Maximum: 7 \n",
      "\n"
     ]
    }
   ],
   "source": [
    "######################################\n",
    "#                 10                 #\n",
    "######################################\n",
    "\n",
    "## Find the mean, standard deviation, minimum, and maximum for the number of\n",
    "## days each student visits the classroom during the first week.\n",
    "\n",
    "for student_engagement in engagement_by_account.values():\n",
    "    for engagement in student_engagement:\n",
    "        if engagement['num_courses_visited'] > 0:\n",
    "            engagement['has_visited'] = 1\n",
    "        else:\n",
    "            engagement['has_visited'] = 0\n",
    "\n",
    "print('Deviations of students who has visited the classes')\n",
    "total_days_visited_by_account = sum_grouped_items(engagement_by_account, 'has_visited')"
   ]
  },
  {
   "cell_type": "markdown",
   "metadata": {},
   "source": [
    "## Splitting out Passing Students"
   ]
  },
  {
   "cell_type": "code",
   "execution_count": 28,
   "metadata": {},
   "outputs": [
    {
     "name": "stdout",
     "output_type": "stream",
     "text": [
      "4527\n",
      "2392\n"
     ]
    }
   ],
   "source": [
    "######################################\n",
    "#                 11                 #\n",
    "######################################\n",
    "\n",
    "## Create two lists of engagement data for paid students in the first week.\n",
    "## The first list should contain data for students who eventually pass the\n",
    "## subway project, and the second list should contain data for students\n",
    "## who do not.\n",
    "\n",
    "subway_project_lesson_keys = ['746169184', '3176718735']\n",
    "passing_engagement = []\n",
    "non_passing_engagement  = []\n",
    "\n",
    "pass_project = set()\n",
    "for submission in non_udacity_submissions:\n",
    "    rating = submission['assigned_rating']\n",
    "    project = submission['lesson_key']\n",
    "    if project in subway_project_lesson_keys and (rating == 'PASSED' or rating == 'DISTINCTION'):\n",
    "        pass_project.add(submission['account_key'])\n",
    "\n",
    "for engagement in paid_engagement_in_first_week:\n",
    "    if engagement['account_key'] in pass_project:\n",
    "        passing_engagement.append(engagement)\n",
    "    else:\n",
    "        non_passing_engagement.append(engagement)\n",
    "\n",
    "print(len(passing_engagement))\n",
    "print(len(non_passing_engagement))"
   ]
  },
  {
   "cell_type": "markdown",
   "metadata": {},
   "source": [
    "## Comparing the Two Student Groups"
   ]
  },
  {
   "cell_type": "code",
   "execution_count": 29,
   "metadata": {
    "collapsed": true,
    "jupyter": {
     "outputs_hidden": true
    }
   },
   "outputs": [
    {
     "name": "stdout",
     "output_type": "stream",
     "text": [
      "Total minutes visited\n",
      "Mean: 394.58604648350865 \n",
      "Standard deviation: 448.4995193265521 \n",
      "Minimum: 0.0 \n",
      "Maximum: 3564.7332644989997 \n",
      "\n",
      "Mean: 143.32647426675584 \n",
      "Standard deviation: 269.5386190114951 \n",
      "Minimum: 0.0 \n",
      "Maximum: 1768.5227493319999 \n",
      "\n",
      "\n",
      "Lessons completed\n",
      "Mean: 2.052550231839258 \n",
      "Standard deviation: 3.1422270555779344 \n",
      "Minimum: 0 \n",
      "Maximum: 36 \n",
      "\n",
      "Mean: 0.8620689655172413 \n",
      "Standard deviation: 2.5491599418312028 \n",
      "Minimum: 0 \n",
      "Maximum: 27 \n",
      "\n",
      "\n",
      "Days visited\n",
      "Mean: 3.384853168469861 \n",
      "Standard deviation: 2.2588214709184595 \n",
      "Minimum: 0 \n",
      "Maximum: 7 \n",
      "\n",
      "Mean: 1.9051724137931034 \n",
      "Standard deviation: 1.9057314413619046 \n",
      "Minimum: 0 \n",
      "Maximum: 7 \n",
      "\n"
     ]
    }
   ],
   "source": [
    "######################################\n",
    "#                 12                 #\n",
    "######################################\n",
    "\n",
    "## Compute some metrics you're interested in and see how they differ for\n",
    "## students who pass the subway project vs. students who don't. A good\n",
    "## starting point would be the metrics we looked at earlier (minutes spent\n",
    "## in the classroom, lessons completed, and days visited).\n",
    "\n",
    "def dict_converter(input_list):\n",
    "    from collections import defaultdict\n",
    "    passing_engagement_dict = defaultdict(list) \n",
    "    for item in input_list:\n",
    "        account_key = item['account_key']\n",
    "        passing_engagement_dict[account_key].append(item)\n",
    "    return passing_engagement_dict\n",
    "\n",
    "print('Total minutes visited')\n",
    "sum_grouped_items(dict_converter(passing_engagement), 'total_minutes_visited')\n",
    "sum_grouped_items(dict_converter(non_passing_engagement), 'total_minutes_visited')\n",
    "print('\\n' 'Lessons completed')\n",
    "sum_grouped_items(dict_converter(passing_engagement), 'lessons_completed')\n",
    "sum_grouped_items(dict_converter(non_passing_engagement), 'lessons_completed')\n",
    "print('\\n' 'Days visited')\n",
    "sum_grouped_items(dict_converter(passing_engagement), 'has_visited')\n",
    "sum_grouped_items(dict_converter(non_passing_engagement), 'has_visited')"
   ]
  },
  {
   "cell_type": "markdown",
   "metadata": {},
   "source": [
    "## Making Histograms"
   ]
  },
  {
   "cell_type": "code",
   "execution_count": 30,
   "metadata": {
    "collapsed": true,
    "jupyter": {
     "outputs_hidden": true
    }
   },
   "outputs": [
    {
     "data": {
      "text/plain": [
       "(array([97., 90., 56.,  0., 41., 15.,  0., 24., 17.,  8.]),\n",
       " array([0. , 0.7, 1.4, 2.1, 2.8, 3.5, 4.2, 4.9, 5.6, 6.3, 7. ]),\n",
       " <BarContainer object of 10 artists>)"
      ]
     },
     "execution_count": 30,
     "metadata": {},
     "output_type": "execute_result"
    },
    {
     "data": {
      "image/png": "[encoded data removed]",
      "text/plain": [
       "<Figure size 2000x1500 with 6 Axes>"
      ]
     },
     "metadata": {},
     "output_type": "display_data"
    }
   ],
   "source": [
    "######################################\n",
    "#                 13                 #\n",
    "######################################\n",
    "\n",
    "## Make histograms of the three metrics we looked at earlier for both\n",
    "## students who passed the subway project and students who didn't. You\n",
    "## might also want to make histograms of any other metrics you examined.\n",
    "def plot_data(engagement_by_account, interested_variable):\n",
    "    total_something = {}\n",
    "    for account_key, engagement_for_student in engagement_by_account.items():\n",
    "        total = 0\n",
    "        for engagement_record in engagement_for_student:\n",
    "            total += engagement_record[interested_variable]\n",
    "        total_something[account_key] = total\n",
    "    total_something = list(total_something.values())\n",
    "    return plt.hist(total_something)  \n",
    "\n",
    "%matplotlib inline\n",
    "import matplotlib.pyplot as plt\n",
    "fig, axs = plt.subplots(ncols=2, nrows=3, figsize=(20, 15))\n",
    "plt.subplot(3, 2, 1)\n",
    "plot_data(dict_converter(passing_engagement), 'total_minutes_visited')\n",
    "plt.subplot(3, 2, 2)\n",
    "plot_data(dict_converter(non_passing_engagement), 'total_minutes_visited')\n",
    "plt.subplot(3, 2, 3)\n",
    "plot_data(dict_converter(passing_engagement), 'lessons_completed')\n",
    "plt.subplot(3, 2, 4)\n",
    "plot_data(dict_converter(non_passing_engagement), 'lessons_completed')\n",
    "plt.subplot(3, 2, 5)\n",
    "plot_data(dict_converter(passing_engagement), 'has_visited')\n",
    "plt.subplot(3, 2, 6)\n",
    "plot_data(dict_converter(non_passing_engagement), 'has_visited')"
   ]
  },
  {
   "cell_type": "markdown",
   "metadata": {},
   "source": [
    "## Improving Plots and Sharing Findings"
   ]
  },
  {
   "cell_type": "code",
   "execution_count": 31,
   "metadata": {
    "collapsed": true,
    "jupyter": {
     "outputs_hidden": true
    }
   },
   "outputs": [
    {
     "data": {
      "text/plain": [
       "Text(0, 0.5, 'Frequency')"
      ]
     },
     "execution_count": 31,
     "metadata": {},
     "output_type": "execute_result"
    },
    {
     "data": {
      "image/png": "[encoded data removed]",
      "text/plain": [
       "<Figure size 1500x700 with 2 Axes>"
      ]
     },
     "metadata": {},
     "output_type": "display_data"
    }
   ],
   "source": [
    "######################################\n",
    "#                 14                 #\n",
    "######################################\n",
    "\n",
    "## Make a more polished version of at least one of your visualizations\n",
    "## from earlier. Try importing the seaborn library to make the visualization\n",
    "## look better, adding axis labels and a title, and changing one or more\n",
    "## arguments to the hist() function.\n",
    "\n",
    "import seaborn as sns \n",
    "%matplotlib inline\n",
    "import matplotlib.pyplot as plt\n",
    "sns.set()\n",
    "fig, axs = plt.subplots(ncols=2, nrows=1, figsize=(15, 7))\n",
    "plt.subplot(1, 2, 1)\n",
    "plot_data(dict_converter(passing_engagement), 'total_minutes_visited')\n",
    "plt.title('Passing')\n",
    "plt.xlabel('Total Minutes Visited')\n",
    "plt.ylabel('Frequency')\n",
    "\n",
    "plt.subplot(1, 2, 2)\n",
    "plot_data(dict_converter(non_passing_engagement), 'total_minutes_visited')\n",
    "plt.title('Non-Passing')\n",
    "plt.xlabel('Total Minutes Visited')\n",
    "plt.ylabel('Frequency')"
   ]
  }
 ],
 "metadata": {
  "kernelspec": {
   "display_name": "Python 3 (ipykernel)",
   "language": "python",
   "name": "python3"
  },
  "language_info": {
   "codemirror_mode": {
    "name": "ipython",
    "version": 3
   },
   "file_extension": ".py",
   "mimetype": "text/x-python",
   "name": "python",
   "nbconvert_exporter": "python",
   "pygments_lexer": "ipython3",
   "version": "3.11.9"
  }
 },
 "nbformat": 4,
 "nbformat_minor": 4
}
