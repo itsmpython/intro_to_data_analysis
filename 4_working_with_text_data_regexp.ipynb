{
  "metadata": {
    "kernelspec": {
      "display_name": "Python 3",
      "language": "python",
      "name": "python3"
    },
    "language_info": {
      "name": "python",
      "version": "3.6.6",
      "mimetype": "text/x-python",
      "codemirror_mode": {
        "name": "ipython",
        "version": 3
      },
      "pygments_lexer": "ipython3",
      "nbconvert_exporter": "python",
      "file_extension": ".py"
    },
    "kaggle": {
      "accelerator": "none",
      "dataSources": [
        {
          "sourceId": 3136,
          "databundleVersionId": 26502,
          "sourceType": "competition"
        },
        {
          "sourceId": 469900,
          "sourceType": "datasetVersion",
          "datasetId": 7
        }
      ],
      "dockerImageVersionId": 24140,
      "isInternetEnabled": false,
      "language": "python",
      "sourceType": "notebook",
      "isGpuEnabled": false
    },
    "colab": {
      "provenance": []
    }
  },
  "nbformat_minor": 0,
  "nbformat": 4,
  "cells": [
    {
      "cell_type": "markdown",
      "source": [
        "# Working With Text Data"
      ],
      "metadata": {
        "_uuid": "8f2839f25d086af736a60e9eeb907d3b93b6e0e5",
        "_cell_guid": "b1076dfc-b9ad-4769-8c92-a6c4dae69d19",
        "trusted": true,
        "id": "DsmSBrG9j9IJ"
      }
    },
    {
      "cell_type": "markdown",
      "source": [
        "Last lesson we learned that there are a lot of questions to consider when you first look at a data set, including whether you should clean or transform the data. We touched briefly on a few basic operations to prepare data for analysis, but the Titanic data set was pretty clean to begin with. Data you encounter in the wild won't always be so friendly. Text data in particular can be extremely messy and difficult to work with because it can contain all sorts of characters and symbols that may have little meaning for your analysis. This lesson will cover some basic techniques and functions for working with text data in Python.\n",
        "\n",
        "To start, we'll need some text data that is a little messier than the names in the Titanic data set. As it happens, Kaggle has a data exploration competition giving users access to a database of comments made on Reddit.com during the month of May 2015. Since the Minnesota Timberwolves are my favorite basketball team, let's extract the comments from the team's fan subreddit and use it as an example of messy text for this lesson.\n",
        "\n",
        "Let's start by loading the data and checking its structure and a few of the comments:"
      ],
      "metadata": {
        "_cell_guid": "79c7e3d0-c299-4dcb-8224-4455121ee9b0",
        "_uuid": "d629ff2d2480ee46fbb7e2d37f6b5fab8052498a",
        "id": "bLX8ZKH0j9IN"
      }
    },
    {
      "cell_type": "code",
      "source": [
        "# This code is used for loading in data from the Reddit comment database\n",
        "# Don't worry about the details of this code\n",
        "\n",
        "import sqlite3\n",
        "import pandas as pd\n",
        "\n",
        "\n",
        "sql_conn = sqlite3.connect('../input/reddit-comments-may-2015/database.sqlite')\n",
        "\n",
        "comments = pd.read_sql(\"SELECT body FROM May2015 WHERE subreddit = 'timberwolves'\", sql_conn)\n",
        "\n",
        "comments = comments[\"body\"]     # Convert from df to series\n",
        "\n",
        "print(comments.shape)\n",
        "comments.head(8)"
      ],
      "metadata": {
        "execution": {
          "iopub.status.busy": "2024-08-22T13:40:16.422677Z",
          "iopub.execute_input": "2024-08-22T13:40:16.423017Z",
          "iopub.status.idle": "2024-08-22T13:40:42.832407Z",
          "shell.execute_reply.started": "2024-08-22T13:40:16.422966Z",
          "shell.execute_reply": "2024-08-22T13:40:42.831397Z"
        },
        "trusted": true,
        "id": "SMr-Pyutj9IO",
        "outputId": "a8fa36bd-bfcc-4c36-8277-fcad6de8bed3"
      },
      "execution_count": null,
      "outputs": [
        {
          "name": "stdout",
          "text": "(4166,)\n",
          "output_type": "stream"
        },
        {
          "execution_count": 1,
          "output_type": "execute_result",
          "data": {
            "text/plain": "0    Strongly encouraging sign for us.  The T-Wolve...\n1    [My reaction.](http://4.bp.blogspot.com/-3ySob...\n2                     http://imgur.com/gallery/Zch2AWw\n3    Wolves have more talent than they ever had rig...\n4    Nah. Wigg is on the level of KG but where's ou...\n5           2004 was a pretty damn talented team dude.\n6                                                  :')\n7                                              *swoon*\nName: body, dtype: object"
          },
          "metadata": {}
        }
      ]
    },
    {
      "cell_type": "markdown",
      "source": [
        "The text in these comments is pretty messy. We see everything from long paragraphs to web links to text emoticons. We already learned about a variety of basic string processing functions in lesson 6; pandas extends built in string functions that operate on entire series of strings."
      ],
      "metadata": {
        "id": "kd0PNxMyj9IR"
      }
    },
    {
      "cell_type": "markdown",
      "source": [
        "## Pandas String Functions"
      ],
      "metadata": {
        "id": "NIY3LHrHj9IR"
      }
    },
    {
      "cell_type": "markdown",
      "source": [
        "String functions in pandas mirror built in string functions and many have the same name as their singular counterparts. For example, str.lower() converts a single string to lowercase, while series.str.lower() converts all the strings in a series to lowercase:"
      ],
      "metadata": {
        "id": "NC2uziNcj9IR"
      }
    },
    {
      "cell_type": "code",
      "source": [
        "comments[0].lower()      # Convert the first comment to lowercase"
      ],
      "metadata": {
        "execution": {
          "iopub.status.busy": "2024-08-22T13:41:44.152344Z",
          "iopub.execute_input": "2024-08-22T13:41:44.152680Z",
          "iopub.status.idle": "2024-08-22T13:41:44.159107Z",
          "shell.execute_reply.started": "2024-08-22T13:41:44.152630Z",
          "shell.execute_reply": "2024-08-22T13:41:44.158119Z"
        },
        "trusted": true,
        "id": "T6yjxxkPj9IR",
        "outputId": "9a2722bf-f7ce-4ac1-9cb6-c99716a71ff0"
      },
      "execution_count": null,
      "outputs": [
        {
          "execution_count": 2,
          "output_type": "execute_result",
          "data": {
            "text/plain": "\"strongly encouraging sign for us.  the t-wolves management better not screw this up and they better surround wiggins with a championship caliber team to support his superstar potential or else i wouldn't want him to sour his prime years here in minnesota just like how i felt with garnett.\\n\\ntl;dr: wolves better not fuck this up.\""
          },
          "metadata": {}
        }
      ]
    },
    {
      "cell_type": "code",
      "source": [
        "comments.str.lower().head(8)  # Convert all comments to lowercase"
      ],
      "metadata": {
        "execution": {
          "iopub.status.busy": "2024-08-22T13:42:06.576236Z",
          "iopub.execute_input": "2024-08-22T13:42:06.576632Z",
          "iopub.status.idle": "2024-08-22T13:42:06.589250Z",
          "shell.execute_reply.started": "2024-08-22T13:42:06.576550Z",
          "shell.execute_reply": "2024-08-22T13:42:06.588230Z"
        },
        "trusted": true,
        "id": "vSXn0Hezj9IS",
        "outputId": "398eac45-ad69-4958-b3fa-1d9e0e82ef62"
      },
      "execution_count": null,
      "outputs": [
        {
          "execution_count": 3,
          "output_type": "execute_result",
          "data": {
            "text/plain": "0    strongly encouraging sign for us.  the t-wolve...\n1    [my reaction.](http://4.bp.blogspot.com/-3ysob...\n2                     http://imgur.com/gallery/zch2aww\n3    wolves have more talent than they ever had rig...\n4    nah. wigg is on the level of kg but where's ou...\n5           2004 was a pretty damn talented team dude.\n6                                                  :')\n7                                              *swoon*\nName: body, dtype: object"
          },
          "metadata": {}
        }
      ]
    },
    {
      "cell_type": "markdown",
      "source": [
        "Pandas also supports str.upper() and str.len():"
      ],
      "metadata": {
        "id": "aTgwb_pJj9IT"
      }
    },
    {
      "cell_type": "code",
      "source": [
        "comments.str.upper().head(8)  # Convert all comments to uppercase"
      ],
      "metadata": {
        "execution": {
          "iopub.status.busy": "2024-08-22T13:42:15.958501Z",
          "iopub.execute_input": "2024-08-22T13:42:15.958904Z",
          "iopub.status.idle": "2024-08-22T13:42:15.971364Z",
          "shell.execute_reply.started": "2024-08-22T13:42:15.958845Z",
          "shell.execute_reply": "2024-08-22T13:42:15.970361Z"
        },
        "trusted": true,
        "id": "4w3F6wfcj9IT",
        "outputId": "6b93f0b8-2e41-4bff-ccf0-37cb47e4dac2"
      },
      "execution_count": null,
      "outputs": [
        {
          "execution_count": 4,
          "output_type": "execute_result",
          "data": {
            "text/plain": "0    STRONGLY ENCOURAGING SIGN FOR US.  THE T-WOLVE...\n1    [MY REACTION.](HTTP://4.BP.BLOGSPOT.COM/-3YSOB...\n2                     HTTP://IMGUR.COM/GALLERY/ZCH2AWW\n3    WOLVES HAVE MORE TALENT THAN THEY EVER HAD RIG...\n4    NAH. WIGG IS ON THE LEVEL OF KG BUT WHERE'S OU...\n5           2004 WAS A PRETTY DAMN TALENTED TEAM DUDE.\n6                                                  :')\n7                                              *SWOON*\nName: body, dtype: object"
          },
          "metadata": {}
        }
      ]
    },
    {
      "cell_type": "code",
      "source": [
        "comments.str.len().head(8)  # Get the length of all comments"
      ],
      "metadata": {
        "execution": {
          "iopub.status.busy": "2024-08-22T13:42:29.291364Z",
          "iopub.execute_input": "2024-08-22T13:42:29.291728Z",
          "iopub.status.idle": "2024-08-22T13:42:29.303256Z",
          "shell.execute_reply.started": "2024-08-22T13:42:29.291660Z",
          "shell.execute_reply": "2024-08-22T13:42:29.302190Z"
        },
        "trusted": true,
        "id": "WOokzD3Nj9IT",
        "outputId": "b771bb9b-8186-4239-a0ea-960648730c73"
      },
      "execution_count": null,
      "outputs": [
        {
          "execution_count": 5,
          "output_type": "execute_result",
          "data": {
            "text/plain": "0    329\n1    101\n2     32\n3     53\n4    145\n5     42\n6      3\n7      7\nName: body, dtype: int64"
          },
          "metadata": {}
        }
      ]
    },
    {
      "cell_type": "markdown",
      "source": [
        "The string splitting and stripping functions also have pandas equivalents:"
      ],
      "metadata": {
        "id": "i9r4rI46j9IU"
      }
    },
    {
      "cell_type": "code",
      "source": [
        "comments.str.split(\" \").head(8)  # Split comments on spaces"
      ],
      "metadata": {
        "execution": {
          "iopub.status.busy": "2024-08-22T13:42:40.879059Z",
          "iopub.execute_input": "2024-08-22T13:42:40.879396Z",
          "iopub.status.idle": "2024-08-22T13:42:40.910312Z",
          "shell.execute_reply.started": "2024-08-22T13:42:40.879344Z",
          "shell.execute_reply": "2024-08-22T13:42:40.909473Z"
        },
        "trusted": true,
        "id": "AlcLlKi-j9IU",
        "outputId": "122351b3-ce95-4f55-c7cd-4822536bda0f"
      },
      "execution_count": null,
      "outputs": [
        {
          "execution_count": 6,
          "output_type": "execute_result",
          "data": {
            "text/plain": "0    [Strongly, encouraging, sign, for, us., , The,...\n1    [[My, reaction.](http://4.bp.blogspot.com/-3yS...\n2                   [http://imgur.com/gallery/Zch2AWw]\n3    [Wolves, have, more, talent, than, they, ever,...\n4    [Nah., Wigg, is, on, the, level, of, KG, but, ...\n5    [2004, was, a, pretty, damn, talented, team, d...\n6                                                [:')]\n7                                            [*swoon*]\nName: body, dtype: object"
          },
          "metadata": {}
        }
      ]
    },
    {
      "cell_type": "code",
      "source": [
        "comments.str.strip(\"[]\").head(8)  # Strip leading and trailing brackets"
      ],
      "metadata": {
        "execution": {
          "iopub.status.busy": "2024-08-22T13:43:18.209664Z",
          "iopub.execute_input": "2024-08-22T13:43:18.210049Z",
          "iopub.status.idle": "2024-08-22T13:43:18.221214Z",
          "shell.execute_reply.started": "2024-08-22T13:43:18.209988Z",
          "shell.execute_reply": "2024-08-22T13:43:18.220117Z"
        },
        "trusted": true,
        "id": "X9HjBm8-j9IU",
        "outputId": "3bea381b-e917-4f25-a6c6-e29607b7c708"
      },
      "execution_count": null,
      "outputs": [
        {
          "execution_count": 7,
          "output_type": "execute_result",
          "data": {
            "text/plain": "0    Strongly encouraging sign for us.  The T-Wolve...\n1    My reaction.](http://4.bp.blogspot.com/-3ySobv...\n2                     http://imgur.com/gallery/Zch2AWw\n3    Wolves have more talent than they ever had rig...\n4    Nah. Wigg is on the level of KG but where's ou...\n5           2004 was a pretty damn talented team dude.\n6                                                  :')\n7                                              *swoon*\nName: body, dtype: object"
          },
          "metadata": {}
        }
      ]
    },
    {
      "cell_type": "markdown",
      "source": [
        "Combine all the strings in a series together into a single string with series.str.cat():"
      ],
      "metadata": {
        "id": "1gChS-ZKj9IU"
      }
    },
    {
      "cell_type": "code",
      "source": [
        "comments.str.cat()[0:500]   # Check the first 500 characters"
      ],
      "metadata": {
        "execution": {
          "iopub.status.busy": "2024-08-22T13:43:54.055117Z",
          "iopub.execute_input": "2024-08-22T13:43:54.055482Z",
          "iopub.status.idle": "2024-08-22T13:43:54.065509Z",
          "shell.execute_reply.started": "2024-08-22T13:43:54.055413Z",
          "shell.execute_reply": "2024-08-22T13:43:54.064581Z"
        },
        "trusted": true,
        "id": "7PWY_NKXj9IU",
        "outputId": "e31cdce2-3ac0-4109-c862-d10d0c6a1ce9"
      },
      "execution_count": null,
      "outputs": [
        {
          "execution_count": 8,
          "output_type": "execute_result",
          "data": {
            "text/plain": "\"Strongly encouraging sign for us.  The T-Wolves management better not screw this up and they better surround Wiggins with a championship caliber team to support his superstar potential or else I wouldn't want him to sour his prime years here in Minnesota just like how I felt with Garnett.\\n\\nTL;DR: Wolves better not fuck this up.[My reaction.](http://4.bp.blogspot.com/-3ySobv38ihc/U6yxpPwsbzI/AAAAAAAAIPo/IO8Z_wbTIVQ/s1600/2.gif)http://imgur.com/gallery/Zch2AWwWolves have more talent than they ever\""
          },
          "metadata": {}
        }
      ]
    },
    {
      "cell_type": "markdown",
      "source": [
        "You can slice each string in a series and return the result in an elementwise fasion with series.str.slice():"
      ],
      "metadata": {
        "id": "XPYQFDUOj9IV"
      }
    },
    {
      "cell_type": "code",
      "source": [
        "comments.str.slice(0, 10).head(8)  # Slice the first 10 characters"
      ],
      "metadata": {
        "execution": {
          "iopub.status.busy": "2024-08-22T13:44:09.795460Z",
          "iopub.execute_input": "2024-08-22T13:44:09.795802Z",
          "iopub.status.idle": "2024-08-22T13:44:09.806203Z",
          "shell.execute_reply.started": "2024-08-22T13:44:09.795727Z",
          "shell.execute_reply": "2024-08-22T13:44:09.805346Z"
        },
        "trusted": true,
        "id": "V9x1CvQjj9IV",
        "outputId": "52bbda95-b19c-4f0d-c92c-590bafe3f83e"
      },
      "execution_count": null,
      "outputs": [
        {
          "execution_count": 9,
          "output_type": "execute_result",
          "data": {
            "text/plain": "0    Strongly e\n1    [My reacti\n2    http://img\n3    Wolves hav\n4    Nah. Wigg \n5    2004 was a\n6           :')\n7       *swoon*\nName: body, dtype: object"
          },
          "metadata": {}
        }
      ]
    },
    {
      "cell_type": "markdown",
      "source": [
        "Alternatively, you can use indexing after series.str to take slices:"
      ],
      "metadata": {
        "id": "6FstFOtij9IV"
      }
    },
    {
      "cell_type": "code",
      "source": [
        "comments.str[0:10].head(8)  # Slice the first 10 characters"
      ],
      "metadata": {
        "execution": {
          "iopub.status.busy": "2024-08-22T13:44:28.184476Z",
          "iopub.execute_input": "2024-08-22T13:44:28.184957Z",
          "iopub.status.idle": "2024-08-22T13:44:28.195377Z",
          "shell.execute_reply.started": "2024-08-22T13:44:28.184730Z",
          "shell.execute_reply": "2024-08-22T13:44:28.194103Z"
        },
        "trusted": true,
        "id": "CvWm6PASj9IV",
        "outputId": "79cd3025-4fee-42e0-89af-433aaadf7683"
      },
      "execution_count": null,
      "outputs": [
        {
          "execution_count": 10,
          "output_type": "execute_result",
          "data": {
            "text/plain": "0    Strongly e\n1    [My reacti\n2    http://img\n3    Wolves hav\n4    Nah. Wigg \n5    2004 was a\n6           :')\n7       *swoon*\nName: body, dtype: object"
          },
          "metadata": {}
        }
      ]
    },
    {
      "cell_type": "markdown",
      "source": [
        "Replace a slice with a new substring using str.slice_replace():"
      ],
      "metadata": {
        "id": "tCzFQE-gj9IW"
      }
    },
    {
      "cell_type": "code",
      "source": [
        "comments.str.slice_replace(5, 10, \" Wolves Rule! \" ).head(8)"
      ],
      "metadata": {
        "execution": {
          "iopub.status.busy": "2024-08-22T13:44:45.509227Z",
          "iopub.execute_input": "2024-08-22T13:44:45.509638Z",
          "iopub.status.idle": "2024-08-22T13:44:45.526385Z",
          "shell.execute_reply.started": "2024-08-22T13:44:45.509522Z",
          "shell.execute_reply": "2024-08-22T13:44:45.525431Z"
        },
        "trusted": true,
        "id": "msrwIcF3j9IW",
        "outputId": "54c100d2-e132-4852-8873-effa3d0bf541"
      },
      "execution_count": null,
      "outputs": [
        {
          "execution_count": 11,
          "output_type": "execute_result",
          "data": {
            "text/plain": "0    Stron Wolves Rule! ncouraging sign for us.  Th...\n1    [My r Wolves Rule! on.](http://4.bp.blogspot.c...\n2            http: Wolves Rule! ur.com/gallery/Zch2AWw\n3    Wolve Wolves Rule! e more talent than they eve...\n4    Nah.  Wolves Rule! is on the level of KG but w...\n5    2004  Wolves Rule!  pretty damn talented team ...\n6                                    :') Wolves Rule! \n7                                  *swoo Wolves Rule! \nName: body, dtype: object"
          },
          "metadata": {}
        }
      ]
    },
    {
      "cell_type": "markdown",
      "source": [
        "Replace the occurences of a given substring with a different substring using str.replace():"
      ],
      "metadata": {
        "id": "OP5_poG-j9IW"
      }
    },
    {
      "cell_type": "code",
      "source": [
        "comments.str.replace(\"Wolves\", \"Pups\").head(8)"
      ],
      "metadata": {
        "execution": {
          "iopub.status.busy": "2024-08-22T13:45:11.005061Z",
          "iopub.execute_input": "2024-08-22T13:45:11.005420Z",
          "iopub.status.idle": "2024-08-22T13:45:11.020369Z",
          "shell.execute_reply.started": "2024-08-22T13:45:11.005351Z",
          "shell.execute_reply": "2024-08-22T13:45:11.019407Z"
        },
        "trusted": true,
        "id": "3oq-w-dQj9IW",
        "outputId": "d81b1f1a-1d39-437d-e4e9-902e369c284a"
      },
      "execution_count": null,
      "outputs": [
        {
          "execution_count": 12,
          "output_type": "execute_result",
          "data": {
            "text/plain": "0    Strongly encouraging sign for us.  The T-Pups ...\n1    [My reaction.](http://4.bp.blogspot.com/-3ySob...\n2                     http://imgur.com/gallery/Zch2AWw\n3    Pups have more talent than they ever had right...\n4    Nah. Wigg is on the level of KG but where's ou...\n5           2004 was a pretty damn talented team dude.\n6                                                  :')\n7                                              *swoon*\nName: body, dtype: object"
          },
          "metadata": {}
        }
      ]
    },
    {
      "cell_type": "markdown",
      "source": [
        "A common operation when working with text data is to test whether character strings contain a certain substring or pattern of characters. For instance, if we were only interested in posts about Andrew Wiggins, we'd need to match all posts that make mention of him and avoid matching posts that don't mention him. Use series.str.contains() to get a series of true/false values that indicate whether each string contains a given substring:"
      ],
      "metadata": {
        "id": "2JCz0eQAj9IW"
      }
    },
    {
      "cell_type": "code",
      "source": [
        "logical_index = comments.str.lower().str.contains(\"wigg|drew\")\n",
        "\n",
        "comments[logical_index].head(10)    # Get first 10 comments about Wiggins"
      ],
      "metadata": {
        "execution": {
          "iopub.status.busy": "2024-08-22T13:51:35.233028Z",
          "iopub.execute_input": "2024-08-22T13:51:35.233435Z",
          "iopub.status.idle": "2024-08-22T13:51:35.273327Z",
          "shell.execute_reply.started": "2024-08-22T13:51:35.233382Z",
          "shell.execute_reply": "2024-08-22T13:51:35.272377Z"
        },
        "trusted": true,
        "id": "tk83O5vxj9IW",
        "outputId": "4771686f-bca6-4bce-a887-b48a68fd491d"
      },
      "execution_count": null,
      "outputs": [
        {
          "execution_count": 13,
          "output_type": "execute_result",
          "data": {
            "text/plain": "0     Strongly encouraging sign for us.  The T-Wolve...\n4     Nah. Wigg is on the level of KG but where's ou...\n9                            I FUCKING LOVE YOU ANDREW \n10                                   I LOVE YOU WIGGINS\n33    Yupiii!!!!!! Great Wiggins celebration!!!!! =D...\n44                         Wiggins on the level of KG?!\n45    I'm comfortable with saying that Wiggins is as...\n62       They seem so Wiggins. Did he help design them?\n63    The more I think about this the more I can und...\n64    I dig these a lot. Like the AW logo too with t...\nName: body, dtype: object"
          },
          "metadata": {}
        }
      ]
    },
    {
      "cell_type": "markdown",
      "source": [
        "For interest's sake, let's also calculate the ratio of comments that mention Andrew Wiggins:"
      ],
      "metadata": {
        "id": "_Phe22hEj9IX"
      }
    },
    {
      "cell_type": "code",
      "source": [
        "len(comments[logical_index])/len(comments)"
      ],
      "metadata": {
        "execution": {
          "iopub.status.busy": "2024-08-22T13:52:27.882752Z",
          "iopub.execute_input": "2024-08-22T13:52:27.883173Z",
          "iopub.status.idle": "2024-08-22T13:52:27.890334Z",
          "shell.execute_reply.started": "2024-08-22T13:52:27.883104Z",
          "shell.execute_reply": "2024-08-22T13:52:27.889345Z"
        },
        "trusted": true,
        "id": "lk6fs5eWj9IX",
        "outputId": "376311b3-711d-4bea-f925-4ef9fc444b6c"
      },
      "execution_count": null,
      "outputs": [
        {
          "execution_count": 14,
          "output_type": "execute_result",
          "data": {
            "text/plain": "0.06649063850216035"
          },
          "metadata": {}
        }
      ]
    },
    {
      "cell_type": "markdown",
      "source": [
        "It looks like about 6.6% of comments make mention of Andrew Wiggins. Notice that this string pattern argument we supplied to str.contains() wasn't just a simple substring. Posts about Andrew Wiggins could use any number of different names to refer to him--Wiggins, Andrew, Wigg, Drew--so we needed something a little more flexible than a single substring to match all the posts we're interested in. The pattern we supplied is a simple example of a regular expression."
      ],
      "metadata": {
        "id": "LaxwGiQ6j9IX"
      }
    },
    {
      "cell_type": "markdown",
      "source": [
        "## Regular Expressions"
      ],
      "metadata": {
        "id": "FMN4K_ryj9IX"
      }
    },
    {
      "cell_type": "markdown",
      "source": [
        "Pandas has a few more useful string functions, but before we go any further, we need to learn about regular expressions. A regular expression or regex is a sequence of characters and special meta characters used to match a set of character strings. Regular expressions allow you to be more expressive with string matching operations than just providing a simple substring. A regular expression lets you define a \"pattern\" that can match strings of different lengths, made up of different characters.\n",
        "\n",
        "In the str.contains() example above, we supplied the regular expression: \"wigg|drew\". In this case, the vertical bar | is a metacharacter that acts as the \"or\" operator, so this regular expression matches any string that contains the substring \"wigg\" or \"drew\".\n",
        "\n",
        "When you provide a regular expression that contains no metacharacters, it simply matches the exact substring. For instance, \"Wiggins\" would only match strings containing the exact substring \"Wiggins.\" Metacharacters let you change how you make matches. Here is a list of basic metacharacters and what they do:\n",
        "\n",
        "\".\" - The period is a metacharacter that matches any character other than a newline:"
      ],
      "metadata": {
        "id": "A3THciPBj9IX"
      }
    },
    {
      "cell_type": "code",
      "source": [
        "my_series = pd.Series([\"will\",\"bill\",\"Till\",\"still\",\"gull\"])\n",
        "\n",
        "my_series.str.contains(\".ill\")     # Match any substring ending in ill"
      ],
      "metadata": {
        "execution": {
          "iopub.status.busy": "2024-08-22T14:03:09.145548Z",
          "iopub.execute_input": "2024-08-22T14:03:09.145981Z",
          "iopub.status.idle": "2024-08-22T14:03:09.155154Z",
          "shell.execute_reply.started": "2024-08-22T14:03:09.145910Z",
          "shell.execute_reply": "2024-08-22T14:03:09.154283Z"
        },
        "trusted": true,
        "id": "T1ZwqjKTj9IX",
        "outputId": "f8822311-f5ac-4df8-b311-191907decece"
      },
      "execution_count": null,
      "outputs": [
        {
          "execution_count": 15,
          "output_type": "execute_result",
          "data": {
            "text/plain": "0     True\n1     True\n2     True\n3     True\n4    False\ndtype: bool"
          },
          "metadata": {}
        }
      ]
    },
    {
      "cell_type": "markdown",
      "source": [
        "\"[ ]\" - Square brackets specify a set of characters to match:"
      ],
      "metadata": {
        "id": "idqig3uXj9IY"
      }
    },
    {
      "cell_type": "code",
      "source": [
        "my_series.str.contains(\"[Tt]ill\")   # Matches T or t followed by \"ill\""
      ],
      "metadata": {
        "execution": {
          "iopub.status.busy": "2024-08-22T14:03:42.282283Z",
          "iopub.execute_input": "2024-08-22T14:03:42.282650Z",
          "iopub.status.idle": "2024-08-22T14:03:42.291422Z",
          "shell.execute_reply.started": "2024-08-22T14:03:42.282584Z",
          "shell.execute_reply": "2024-08-22T14:03:42.290228Z"
        },
        "trusted": true,
        "id": "0gKeIhedj9IY",
        "outputId": "c1c9d9f4-5a5d-47a3-b70c-859ab32ee8be"
      },
      "execution_count": null,
      "outputs": [
        {
          "execution_count": 16,
          "output_type": "execute_result",
          "data": {
            "text/plain": "0    False\n1    False\n2     True\n3     True\n4    False\ndtype: bool"
          },
          "metadata": {}
        }
      ]
    },
    {
      "cell_type": "code",
      "source": [
        "\"\"\"\n",
        "Regular expressions include several special character sets that allow to quickly specify certain common character types. They include:\n",
        "[a-z] - match any lowercase letter\n",
        "[A-Z] - match any uppercase letter\n",
        "[0-9] - match any digit\n",
        "[a-zA-Z0-9] - match any letter or digit\n",
        "Adding the \"^\" symbol inside the square brackets matches any characters NOT in the set:\n",
        "[^a-z] - match any character that is not a lowercase letter\n",
        "[^A-Z] - match any character that is not a uppercase letter\n",
        "[^0-9] - match any character that is not a digit\n",
        "[^a-zA-Z0-9] - match any character that is not a letter or digit\n",
        "Python regular expressions also include a shorthand for specifying common sequences:\n",
        "\\d - match any digit\n",
        "\\D - match any non digit\n",
        "\\w - match a word character\n",
        "\\W - match a non-word character\n",
        "\\s - match whitespace (spaces, tabs, newlines, etc.)\n",
        "\\S - match non-whitespace\n",
        "\"^\" - outside of square brackets, the caret symbol searches for matches at the beginning of a string:\n",
        "\"\"\"\n",
        "\n",
        "ex_str1 = pd.Series([\"Where did he go\", \"He went to the mall\", \"he is good\"])\n",
        "\n",
        "ex_str1.str.contains(\"^(He|he)\") # Matches He or he at the start of a string"
      ],
      "metadata": {
        "execution": {
          "iopub.status.busy": "2024-08-22T14:07:20.032126Z",
          "iopub.execute_input": "2024-08-22T14:07:20.032498Z",
          "iopub.status.idle": "2024-08-22T14:07:20.045024Z",
          "shell.execute_reply.started": "2024-08-22T14:07:20.032431Z",
          "shell.execute_reply": "2024-08-22T14:07:20.044173Z"
        },
        "trusted": true,
        "id": "4H2sq5_bj9IY",
        "outputId": "b27987d7-25ca-4144-ab03-9e057fa36c8c"
      },
      "execution_count": null,
      "outputs": [
        {
          "name": "stderr",
          "text": "/opt/conda/lib/python3.6/site-packages/ipykernel_launcher.py:24: UserWarning: This pattern has match groups. To actually get the groups, use str.extract.\n",
          "output_type": "stream"
        },
        {
          "execution_count": 29,
          "output_type": "execute_result",
          "data": {
            "text/plain": "0    False\n1     True\n2     True\ndtype: bool"
          },
          "metadata": {}
        }
      ]
    },
    {
      "cell_type": "markdown",
      "source": [
        "\"$\" - searches for matches at the end of a string:"
      ],
      "metadata": {
        "id": "gGo3gU8-j9IY"
      }
    },
    {
      "cell_type": "code",
      "source": [
        "ex_str1.str.contains(\"(go)$\") # Matches go at the end of a string"
      ],
      "metadata": {
        "execution": {
          "iopub.status.busy": "2024-08-22T14:07:22.478664Z",
          "iopub.execute_input": "2024-08-22T14:07:22.479030Z",
          "iopub.status.idle": "2024-08-22T14:07:22.487617Z",
          "shell.execute_reply.started": "2024-08-22T14:07:22.478973Z",
          "shell.execute_reply": "2024-08-22T14:07:22.486387Z"
        },
        "trusted": true,
        "id": "a6CaAx5Jj9IY",
        "outputId": "09e8d709-5f0c-415d-d8ea-c04446a7bdbf"
      },
      "execution_count": null,
      "outputs": [
        {
          "name": "stderr",
          "text": "/opt/conda/lib/python3.6/site-packages/ipykernel_launcher.py:1: UserWarning: This pattern has match groups. To actually get the groups, use str.extract.\n  \"\"\"Entry point for launching an IPython kernel.\n",
          "output_type": "stream"
        },
        {
          "execution_count": 30,
          "output_type": "execute_result",
          "data": {
            "text/plain": "0     True\n1    False\n2    False\ndtype: bool"
          },
          "metadata": {}
        }
      ]
    },
    {
      "cell_type": "code",
      "source": [
        "\"\"\"\n",
        "\"( )\" - parentheses in regular expressions are used for grouping and to enforce the proper order of operations just like they are in math and logical expressions. In the examples above, the parentheses let us group the or expressions so that the \"^\" and \"$\" symbols operate on the entire or statement.\n",
        "\"*\" - an asterisk matches zero or more copies of the preceding character\n",
        "\"?\" - a question mark matches zero or 1 copy of the preceding character\n",
        "\"+\" - a plus matches 1 more copies of the preceding character\n",
        "\"\"\"\n",
        "\n",
        "\n",
        "ex_str2 = pd.Series([\"abdominal\",\"b\",\"aa\",\"abbcc\",\"abc\"])\n",
        "\n",
        "# Match 0 or more a's, a single b, then 1 or characters\n",
        "ex_str2.str.contains(\"a*b.+\")"
      ],
      "metadata": {
        "execution": {
          "iopub.status.busy": "2024-08-22T14:15:58.351660Z",
          "iopub.execute_input": "2024-08-22T14:15:58.352068Z",
          "iopub.status.idle": "2024-08-22T14:15:58.361672Z",
          "shell.execute_reply.started": "2024-08-22T14:15:58.351998Z",
          "shell.execute_reply": "2024-08-22T14:15:58.360853Z"
        },
        "trusted": true,
        "id": "XWYRz21uj9IZ",
        "outputId": "c78ba008-6d73-4793-93e4-d9676bf2b442"
      },
      "execution_count": null,
      "outputs": [
        {
          "execution_count": 37,
          "output_type": "execute_result",
          "data": {
            "text/plain": "0     True\n1    False\n2    False\n3     True\n4     True\ndtype: bool"
          },
          "metadata": {}
        }
      ]
    },
    {
      "cell_type": "code",
      "source": [
        "# Match 1 or more a's, an optional b, then 1 or a's\n",
        "ex_str2.str.contains(\"a+b?a+\")"
      ],
      "metadata": {
        "execution": {
          "iopub.status.busy": "2024-08-22T14:16:04.502512Z",
          "iopub.execute_input": "2024-08-22T14:16:04.502925Z",
          "iopub.status.idle": "2024-08-22T14:16:04.510216Z",
          "shell.execute_reply.started": "2024-08-22T14:16:04.502858Z",
          "shell.execute_reply": "2024-08-22T14:16:04.509353Z"
        },
        "trusted": true,
        "id": "JMTEvpoNj9IZ",
        "outputId": "073421c3-e2e4-4841-e0eb-5905b0574b16"
      },
      "execution_count": null,
      "outputs": [
        {
          "execution_count": 38,
          "output_type": "execute_result",
          "data": {
            "text/plain": "0    False\n1    False\n2     True\n3    False\n4    False\ndtype: bool"
          },
          "metadata": {}
        }
      ]
    },
    {
      "cell_type": "code",
      "source": [
        "\"\"\"\n",
        "\"{ }\" - curly braces match a preceding character for a specified number of repetitions:\n",
        "\"{m}\" - the preceding element is matched m times\n",
        "\"{m,}\" - the preceding element is matched m times or more\n",
        "\"{m,n}\" - the preceding element is matched between m and n times\n",
        "\"\"\"\n",
        "\n",
        "ex_str3 = pd.Series([\"aabcbcb\",\"abbb\",\"abbaab\",\"aabb\"])\n",
        "\n",
        "ex_str3.str.contains(\"a{2}b{1,}\")    # Match 2 a's then 2 or more b's"
      ],
      "metadata": {
        "execution": {
          "iopub.status.busy": "2024-08-22T14:13:31.772046Z",
          "iopub.execute_input": "2024-08-22T14:13:31.772391Z",
          "iopub.status.idle": "2024-08-22T14:13:31.781797Z",
          "shell.execute_reply.started": "2024-08-22T14:13:31.772336Z",
          "shell.execute_reply": "2024-08-22T14:13:31.780967Z"
        },
        "trusted": true,
        "id": "6a_ay3VUj9Ie",
        "outputId": "f905805c-6e59-4e99-e581-bdc90a9ba9f5"
      },
      "execution_count": null,
      "outputs": [
        {
          "execution_count": 36,
          "output_type": "execute_result",
          "data": {
            "text/plain": "0     True\n1    False\n2     True\n3     True\ndtype: bool"
          },
          "metadata": {}
        }
      ]
    },
    {
      "cell_type": "markdown",
      "source": [
        "\"\\\" - backslash let you \"escape\" metacharacters. You must escape metacharacters when you actually want to match the metacharacter symbol itself. For instance, if you want to match periods you can't use \".\" because it is a metacharacter that matches anything. Instead, you'd use \".\" to escape the period's metacharacter behavior and match the period itself:"
      ],
      "metadata": {
        "id": "6UovBwRej9Ie"
      }
    },
    {
      "cell_type": "code",
      "source": [
        "ex_str4 = pd.Series([\"Mr. Ed\",\"Dr. Mario\",\"Miss\\Mrs Granger.\"])\n",
        "\n",
        "ex_str4.str.contains(\"\\. \") # Match a single period and then a space"
      ],
      "metadata": {
        "execution": {
          "iopub.status.busy": "2024-08-22T14:20:59.865705Z",
          "iopub.execute_input": "2024-08-22T14:20:59.866080Z",
          "iopub.status.idle": "2024-08-22T14:20:59.874906Z",
          "shell.execute_reply.started": "2024-08-22T14:20:59.866021Z",
          "shell.execute_reply": "2024-08-22T14:20:59.873701Z"
        },
        "trusted": true,
        "id": "5W60PB-Kj9If",
        "outputId": "8900935f-ce9a-4394-ab38-5e379398f7be"
      },
      "execution_count": null,
      "outputs": [
        {
          "execution_count": 44,
          "output_type": "execute_result",
          "data": {
            "text/plain": "0     True\n1     True\n2    False\ndtype: bool"
          },
          "metadata": {}
        }
      ]
    },
    {
      "cell_type": "markdown",
      "source": [
        "If you want to match the escape character backslash itself, you either have to use four backslashes \"\\\\\" or encode the string as a raw string of the form r\"mystring\" and then use double backslashes. Raw strings are an alternate string representation in Python that simplify some oddities in performing regular expressions on normal strings. Read more about them here."
      ],
      "metadata": {
        "id": "wdG3J6Pvj9If"
      }
    },
    {
      "cell_type": "code",
      "source": [
        "ex_str4.str.contains(r\"\\\\\") # Match strings containing a backslash"
      ],
      "metadata": {
        "execution": {
          "iopub.status.busy": "2024-08-22T14:21:01.430370Z",
          "iopub.execute_input": "2024-08-22T14:21:01.430701Z",
          "iopub.status.idle": "2024-08-22T14:21:01.439167Z",
          "shell.execute_reply.started": "2024-08-22T14:21:01.430650Z",
          "shell.execute_reply": "2024-08-22T14:21:01.437681Z"
        },
        "trusted": true,
        "id": "nsl7MaACj9If",
        "outputId": "f8125453-20c0-44a3-c5f7-e9e4a885b1a5"
      },
      "execution_count": null,
      "outputs": [
        {
          "execution_count": 45,
          "output_type": "execute_result",
          "data": {
            "text/plain": "0    False\n1    False\n2     True\ndtype: bool"
          },
          "metadata": {}
        }
      ]
    },
    {
      "cell_type": "markdown",
      "source": [
        "Raw strings are often used for regular expression patterns because they avoid issues that may that arise when dealing with special string characters.\n",
        "\n",
        "There are more regular expression intricacies we won't cover here, but combinations of the few symbols we've covered give you a great amount of expressive power. Regular expressions are commonly used to perform tasks like matching phone numbers, email addresses and web addresses in blocks of text.\n",
        "\n",
        "To use regular expressions outside of pandas, you can import the regular expression library with: import re.\n",
        "\n",
        "Pandas has several string functions that accept regex patterns and perform an operation on each string in series. We already saw two such functions: series.str.contains() and series.str.replace(). Let's go back to our basketball comments and explore some of these functions.\n",
        "\n",
        "Use series.str.count() to count the occurrences of a pattern in each string:"
      ],
      "metadata": {
        "id": "9TMxBMPcj9If"
      }
    },
    {
      "cell_type": "code",
      "source": [
        "comments.str.count(r\"[Ww]olves\").head(8)"
      ],
      "metadata": {
        "execution": {
          "iopub.status.busy": "2024-08-22T14:23:48.236648Z",
          "iopub.execute_input": "2024-08-22T14:23:48.237055Z",
          "iopub.status.idle": "2024-08-22T14:23:48.274550Z",
          "shell.execute_reply.started": "2024-08-22T14:23:48.236997Z",
          "shell.execute_reply": "2024-08-22T14:23:48.273709Z"
        },
        "trusted": true,
        "id": "NOcOOrjVj9If",
        "outputId": "bec498ae-1bcf-4496-89a0-e62bc329a182"
      },
      "execution_count": null,
      "outputs": [
        {
          "execution_count": 46,
          "output_type": "execute_result",
          "data": {
            "text/plain": "0    2\n1    0\n2    0\n3    1\n4    0\n5    0\n6    0\n7    0\nName: body, dtype: int64"
          },
          "metadata": {}
        }
      ]
    },
    {
      "cell_type": "markdown",
      "source": [
        "Use series.str.findall() to get each matched substring and return the result as a list:"
      ],
      "metadata": {
        "id": "LaVyuYP5j9Ig"
      }
    },
    {
      "cell_type": "code",
      "source": [
        "comments.str.findall(r\"[Ww]olves\").head(8)"
      ],
      "metadata": {
        "execution": {
          "iopub.status.busy": "2024-08-22T14:23:53.763471Z",
          "iopub.execute_input": "2024-08-22T14:23:53.763819Z",
          "iopub.status.idle": "2024-08-22T14:23:53.857202Z",
          "shell.execute_reply.started": "2024-08-22T14:23:53.763752Z",
          "shell.execute_reply": "2024-08-22T14:23:53.856138Z"
        },
        "trusted": true,
        "id": "wsTDSRkTj9Ig",
        "outputId": "ffb1782d-14f1-466c-c6c8-4f390728cac1"
      },
      "execution_count": null,
      "outputs": [
        {
          "execution_count": 47,
          "output_type": "execute_result",
          "data": {
            "text/plain": "0    [Wolves, Wolves]\n1                  []\n2                  []\n3            [Wolves]\n4                  []\n5                  []\n6                  []\n7                  []\nName: body, dtype: object"
          },
          "metadata": {}
        }
      ]
    },
    {
      "cell_type": "markdown",
      "source": [
        "## Getting Posts with Web Links"
      ],
      "metadata": {
        "id": "PVa837nkj9Ig"
      }
    },
    {
      "cell_type": "markdown",
      "source": [
        "Now it's time to use some of the new tools we have in our toolbox on the Reddit comment data. Let's say we are only interested in posts that contain web links. If we want to narrow down comments to only those with web links, we'll need to match comments that agree with some pattern that expresses the textual form of a web link. Let's try using a simple regular expression to find posts with web links.\n",
        "\n",
        "Web links begin with \"http:\" or \"https:\" so let's make a regular expression that matches those substrings:"
      ],
      "metadata": {
        "id": "D4MCIKwTj9Ig"
      }
    },
    {
      "cell_type": "code",
      "source": [
        "web_links = comments.str.contains(r\"https?:\") # This returns Boolean True or False Value\n",
        "#print(web_links)\n",
        "\n",
        "posts_with_links = comments[web_links]\n",
        "\n",
        "print( len(posts_with_links))\n",
        "\n",
        "posts_with_links.head(5)"
      ],
      "metadata": {
        "execution": {
          "iopub.status.busy": "2024-08-22T14:27:37.780325Z",
          "iopub.execute_input": "2024-08-22T14:27:37.780691Z",
          "iopub.status.idle": "2024-08-22T14:27:37.796625Z",
          "shell.execute_reply.started": "2024-08-22T14:27:37.780629Z",
          "shell.execute_reply": "2024-08-22T14:27:37.795837Z"
        },
        "trusted": true,
        "id": "Ev9OI-7Oj9Ig",
        "outputId": "e577fb51-e707-438e-eff7-1a83205c7d21"
      },
      "execution_count": null,
      "outputs": [
        {
          "name": "stdout",
          "text": "216\n",
          "output_type": "stream"
        },
        {
          "execution_count": 50,
          "output_type": "execute_result",
          "data": {
            "text/plain": "1     [My reaction.](http://4.bp.blogspot.com/-3ySob...\n2                      http://imgur.com/gallery/Zch2AWw\n25    [January 4th, 2005 - 47 Pts, 17 Rebs](https://...\n29    [You're right.](http://espn.go.com/nba/noteboo...\n34    https://www.youtube.com/watch?v=K1VtZht_8t4\\n\\...\nName: body, dtype: object"
          },
          "metadata": {}
        }
      ]
    },
    {
      "cell_type": "markdown",
      "source": [
        "It appears the comments we've returned all contain web links. It is possible that a post could contain the string \"http:\" without actually having a web link. If we wanted to reduce this possibility, we'd have to be more specific with our regular expression pattern, but in the case of a basketball-themed forum, it is pretty unlikely.\n",
        "\n",
        "Now that we've identified posts that contain web links, let's extract the links themselves. Many of the posts contain both web links and a bunch of text the user wrote. We want to get rid of the text keep the web links. We can do with with series.str.findall():"
      ],
      "metadata": {
        "id": "MTdAtTVoj9Ig"
      }
    },
    {
      "cell_type": "code",
      "source": [
        "only_links = posts_with_links.str.findall(r\"https?:[^ \\n\\)]+\")\n",
        "\n",
        "only_links.head(10)"
      ],
      "metadata": {
        "execution": {
          "iopub.status.busy": "2024-08-22T14:43:20.506852Z",
          "iopub.execute_input": "2024-08-22T14:43:20.507347Z",
          "iopub.status.idle": "2024-08-22T14:43:20.519049Z",
          "shell.execute_reply.started": "2024-08-22T14:43:20.507293Z",
          "shell.execute_reply": "2024-08-22T14:43:20.517914Z"
        },
        "trusted": true,
        "id": "dS7vo6vUj9Ih",
        "outputId": "9de23d38-73a1-46e7-98a2-67186439ea3c"
      },
      "execution_count": null,
      "outputs": [
        {
          "execution_count": 51,
          "output_type": "execute_result",
          "data": {
            "text/plain": "1     [http://4.bp.blogspot.com/-3ySobv38ihc/U6yxpPw...\n2                    [http://imgur.com/gallery/Zch2AWw]\n25    [https://www.youtube.com/watch?v=iLRsJ9gcW0Y, ...\n29    [http://espn.go.com/nba/notebook/_/page/ROY141...\n34        [https://www.youtube.com/watch?v=K1VtZht_8t4]\n40        [https://www.youtube.com/watch?v=mFEzW1Z6TRM]\n69                [https://instagram.com/p/2HWfB3o8rK/]\n76    [https://www.youtube.com/watch?v=524h48CWlMc&a...\n93                     [http://i.imgur.com/OrjShZv.jpg]\n95    [http://content.sportslogos.net/logos/6/232/fu...\nName: body, dtype: object"
          },
          "metadata": {}
        }
      ]
    },
    {
      "cell_type": "markdown",
      "source": [
        "The pattern we used to match web links may look confusing, so let's go over it step by step.\n",
        "\n",
        "First the pattern matches the exact characters \"http\", an optional \"s\" and then \":\".\n",
        "\n",
        "Next, with \\n\\\\)]+, we create a set of characters to match. Since our set starts with \"^\", we are actually matching the negation of the set. In this case, the set is the space character, the newline character \"\\n\" and the closing parenthesis character \")\". We had to escape the closing parenthesis character by writing \")\". Since we are matching the negation, this set matches any character that is NOT a space, newline or closing parenthesis. Finally, the \"+\" at the end matches this set 1 or more times.\n",
        "\n",
        "To summarize, the regex matches http: or https: at the start and then any number of characters until it encounters a space, newline or closing parenthesis. This regex isn't perfect: a web address could contain parentheses and a space, newline or closing parenthesis might not be the only characters that mark the end of a web link in a comment. It is good enough for this small data set, but for a serious project we would probably want something a little more specific to handle such corner cases.\n",
        "\n",
        "Complex regular expressions can be difficult to write and confusing to read. Sometimes it is easiest to simply search the web for a regular expression to perform a common task instead of writing one from scratch. You can test and troubleshoot Python regular expressions using [this](https://regex101.com/#python) online tool.\n",
        "\n",
        "*Note: If you copy a regex written for another language it might not work in Python without some modifications."
      ],
      "metadata": {
        "id": "q7dLAwNxj9Ih"
      }
    },
    {
      "cell_type": "markdown",
      "source": [
        "## Wrap Up"
      ],
      "metadata": {
        "id": "kGEP1_Cnj9Ih"
      }
    },
    {
      "cell_type": "markdown",
      "source": [
        "In this lesson, we learned several functions for dealing with text data in Python and introduced regular expressions, a powerful tool for matching substrings in text. Regular expressions are used in many programming languages and although the syntax for regex varies a bit for one language to another, the basic constructs are similar across languages.\n",
        "\n",
        "Next time we'll turn our attention to cleaning and preparing numeric data."
      ],
      "metadata": {
        "id": "5RjOwUIOj9Ih"
      }
    }
  ]
}